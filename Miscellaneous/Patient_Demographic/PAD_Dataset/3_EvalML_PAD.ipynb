{
 "cells": [
  {
   "cell_type": "markdown",
   "metadata": {
    "id": "1VK9_ukvWUxD"
   },
   "source": [
    "# Import Libraries"
   ]
  },
  {
   "cell_type": "code",
   "execution_count": 7,
   "metadata": {
    "colab": {
     "base_uri": "https://localhost:8080/"
    },
    "id": "jHUNDHAmWfha",
    "outputId": "8dca7724-a5e4-45ab-a57c-10d2223efb2e"
   },
   "outputs": [
    {
     "name": "stdout",
     "output_type": "stream",
     "text": [
      "Requirement already satisfied: evalml in /usr/local/lib/python3.7/dist-packages (0.33.0)\n",
      "Requirement already satisfied: pandas>=1.2.5 in /usr/local/lib/python3.7/dist-packages (from evalml) (1.3.3)\n",
      "Requirement already satisfied: kaleido>=0.1.0 in /usr/local/lib/python3.7/dist-packages (from evalml) (0.2.1)\n",
      "Requirement already satisfied: sktime>=0.7.0 in /usr/local/lib/python3.7/dist-packages (from evalml) (0.8.0)\n",
      "Requirement already satisfied: psutil>=5.6.6 in /usr/local/lib/python3.7/dist-packages (from evalml) (5.8.0)\n",
      "Requirement already satisfied: shap>=0.36.0 in /usr/local/lib/python3.7/dist-packages (from evalml) (0.39.0)\n",
      "Requirement already satisfied: lightgbm>=2.3.1 in /usr/local/lib/python3.7/dist-packages (from evalml) (3.2.1)\n",
      "Requirement already satisfied: catboost>=0.20 in /usr/local/lib/python3.7/dist-packages (from evalml) (0.26.1)\n",
      "Requirement already satisfied: pmdarima==1.8.0 in /usr/local/lib/python3.7/dist-packages (from evalml) (1.8.0)\n",
      "Requirement already satisfied: featuretools>=0.26.1 in /usr/local/lib/python3.7/dist-packages (from evalml) (0.27.1)\n",
      "Requirement already satisfied: scikit-learn>=0.24.0 in /usr/local/lib/python3.7/dist-packages (from evalml) (0.24.2)\n",
      "Requirement already satisfied: cloudpickle>=1.5.0 in /usr/local/lib/python3.7/dist-packages (from evalml) (2.0.0)\n",
      "Requirement already satisfied: statsmodels>=0.12.2 in /usr/local/lib/python3.7/dist-packages (from evalml) (0.12.2)\n",
      "Requirement already satisfied: numpy>=1.20.0 in /usr/local/lib/python3.7/dist-packages (from evalml) (1.21.2)\n",
      "Requirement already satisfied: click>=7.1.2 in /usr/local/lib/python3.7/dist-packages (from evalml) (7.1.2)\n",
      "Requirement already satisfied: nlp-primitives>=1.1.0 in /usr/local/lib/python3.7/dist-packages (from evalml) (1.2.0)\n",
      "Requirement already satisfied: ipywidgets>=7.5 in /usr/local/lib/python3.7/dist-packages (from evalml) (7.6.5)\n",
      "Requirement already satisfied: requirements-parser>=0.2.0 in /usr/local/lib/python3.7/dist-packages (from evalml) (0.2.0)\n",
      "Requirement already satisfied: colorama>=0.4.4 in /usr/local/lib/python3.7/dist-packages (from evalml) (0.4.4)\n",
      "Requirement already satisfied: scipy>=1.5.0 in /usr/local/lib/python3.7/dist-packages (from evalml) (1.7.1)\n",
      "Requirement already satisfied: numba==0.53 in /usr/local/lib/python3.7/dist-packages (from evalml) (0.53.0)\n",
      "Requirement already satisfied: seaborn>=0.11.1 in /usr/local/lib/python3.7/dist-packages (from evalml) (0.11.2)\n",
      "Requirement already satisfied: pyzmq>=20.0.0 in /usr/local/lib/python3.7/dist-packages (from evalml) (22.2.1)\n",
      "Requirement already satisfied: plotly>=5.0.0 in /usr/local/lib/python3.7/dist-packages (from evalml) (5.3.1)\n",
      "Requirement already satisfied: imbalanced-learn>=0.8.0 in /usr/local/lib/python3.7/dist-packages (from evalml) (0.8.0)\n",
      "Requirement already satisfied: dask>=2.12.0 in /usr/local/lib/python3.7/dist-packages (from evalml) (2.12.0)\n",
      "Requirement already satisfied: scikit-optimize>=0.8.1 in /usr/local/lib/python3.7/dist-packages (from evalml) (0.8.1)\n",
      "Requirement already satisfied: xgboost>=1.4.2 in /usr/local/lib/python3.7/dist-packages (from evalml) (1.4.2)\n",
      "Requirement already satisfied: category-encoders>=2.2.2 in /usr/local/lib/python3.7/dist-packages (from evalml) (2.2.2)\n",
      "Requirement already satisfied: matplotlib>=3.3.3 in /usr/local/lib/python3.7/dist-packages (from evalml) (3.4.3)\n",
      "Requirement already satisfied: texttable>=1.6.2 in /usr/local/lib/python3.7/dist-packages (from evalml) (1.6.4)\n",
      "Requirement already satisfied: networkx<2.6,>=2.5 in /usr/local/lib/python3.7/dist-packages (from evalml) (2.5.1)\n",
      "Requirement already satisfied: graphviz>=0.13 in /usr/local/lib/python3.7/dist-packages (from evalml) (0.17)\n",
      "Requirement already satisfied: woodwork<=0.7.1,>=0.6.0 in /usr/local/lib/python3.7/dist-packages (from evalml) (0.7.1)\n",
      "Requirement already satisfied: setuptools in /usr/local/lib/python3.7/dist-packages (from numba==0.53->evalml) (57.4.0)\n",
      "Requirement already satisfied: llvmlite<0.37,>=0.36.0rc1 in /usr/local/lib/python3.7/dist-packages (from numba==0.53->evalml) (0.36.0)\n",
      "Requirement already satisfied: Cython<0.29.18,>=0.29 in /usr/local/lib/python3.7/dist-packages (from pmdarima==1.8.0->evalml) (0.29.17)\n",
      "Requirement already satisfied: joblib>=0.11 in /usr/local/lib/python3.7/dist-packages (from pmdarima==1.8.0->evalml) (1.0.1)\n",
      "Requirement already satisfied: urllib3 in /usr/local/lib/python3.7/dist-packages (from pmdarima==1.8.0->evalml) (1.24.3)\n",
      "Requirement already satisfied: six in /usr/local/lib/python3.7/dist-packages (from catboost>=0.20->evalml) (1.15.0)\n",
      "Requirement already satisfied: patsy>=0.5.1 in /usr/local/lib/python3.7/dist-packages (from category-encoders>=2.2.2->evalml) (0.5.1)\n",
      "Requirement already satisfied: distributed>=2.12.0 in /usr/local/lib/python3.7/dist-packages (from featuretools>=0.26.1->evalml) (2.30.1)\n",
      "Requirement already satisfied: pyyaml>=5.4 in /usr/local/lib/python3.7/dist-packages (from featuretools>=0.26.1->evalml) (5.4.1)\n",
      "Requirement already satisfied: tqdm>=4.32.0 in /usr/local/lib/python3.7/dist-packages (from featuretools>=0.26.1->evalml) (4.62.2)\n",
      "Requirement already satisfied: fsspec>=0.6.0 in /usr/local/lib/python3.7/dist-packages (from dask>=2.12.0->evalml) (2021.8.1)\n",
      "Requirement already satisfied: toolz>=0.7.3 in /usr/local/lib/python3.7/dist-packages (from dask>=2.12.0->evalml) (0.11.1)\n",
      "Requirement already satisfied: partd>=0.3.10 in /usr/local/lib/python3.7/dist-packages (from dask>=2.12.0->evalml) (1.2.0)\n",
      "Requirement already satisfied: zict>=0.1.3 in /usr/local/lib/python3.7/dist-packages (from distributed>=2.12.0->featuretools>=0.26.1->evalml) (2.0.0)\n",
      "Requirement already satisfied: tblib>=1.6.0 in /usr/local/lib/python3.7/dist-packages (from distributed>=2.12.0->featuretools>=0.26.1->evalml) (1.7.0)\n",
      "Requirement already satisfied: msgpack>=0.6.0 in /usr/local/lib/python3.7/dist-packages (from distributed>=2.12.0->featuretools>=0.26.1->evalml) (1.0.2)\n",
      "Requirement already satisfied: sortedcontainers!=2.0.0,!=2.0.1 in /usr/local/lib/python3.7/dist-packages (from distributed>=2.12.0->featuretools>=0.26.1->evalml) (2.4.0)\n",
      "Requirement already satisfied: tornado>=5 in /usr/local/lib/python3.7/dist-packages (from distributed>=2.12.0->featuretools>=0.26.1->evalml) (5.1.1)\n",
      "Requirement already satisfied: widgetsnbextension~=3.5.0 in /usr/local/lib/python3.7/dist-packages (from ipywidgets>=7.5->evalml) (3.5.1)\n",
      "Requirement already satisfied: ipython-genutils~=0.2.0 in /usr/local/lib/python3.7/dist-packages (from ipywidgets>=7.5->evalml) (0.2.0)\n",
      "Requirement already satisfied: nbformat>=4.2.0 in /usr/local/lib/python3.7/dist-packages (from ipywidgets>=7.5->evalml) (5.1.3)\n",
      "Requirement already satisfied: ipykernel>=4.5.1 in /usr/local/lib/python3.7/dist-packages (from ipywidgets>=7.5->evalml) (4.10.1)\n",
      "Requirement already satisfied: jupyterlab-widgets>=1.0.0 in /usr/local/lib/python3.7/dist-packages (from ipywidgets>=7.5->evalml) (1.0.2)\n",
      "Requirement already satisfied: traitlets>=4.3.1 in /usr/local/lib/python3.7/dist-packages (from ipywidgets>=7.5->evalml) (5.1.0)\n",
      "Requirement already satisfied: ipython>=4.0.0 in /usr/local/lib/python3.7/dist-packages (from ipywidgets>=7.5->evalml) (5.5.0)\n",
      "Requirement already satisfied: jupyter-client in /usr/local/lib/python3.7/dist-packages (from ipykernel>=4.5.1->ipywidgets>=7.5->evalml) (5.3.5)\n",
      "Requirement already satisfied: pygments in /usr/local/lib/python3.7/dist-packages (from ipython>=4.0.0->ipywidgets>=7.5->evalml) (2.6.1)\n",
      "Requirement already satisfied: simplegeneric>0.8 in /usr/local/lib/python3.7/dist-packages (from ipython>=4.0.0->ipywidgets>=7.5->evalml) (0.8.1)\n",
      "Requirement already satisfied: decorator in /usr/local/lib/python3.7/dist-packages (from ipython>=4.0.0->ipywidgets>=7.5->evalml) (4.4.2)\n",
      "Requirement already satisfied: prompt-toolkit<2.0.0,>=1.0.4 in /usr/local/lib/python3.7/dist-packages (from ipython>=4.0.0->ipywidgets>=7.5->evalml) (1.0.18)\n",
      "Requirement already satisfied: pexpect in /usr/local/lib/python3.7/dist-packages (from ipython>=4.0.0->ipywidgets>=7.5->evalml) (4.8.0)\n",
      "Requirement already satisfied: pickleshare in /usr/local/lib/python3.7/dist-packages (from ipython>=4.0.0->ipywidgets>=7.5->evalml) (0.7.5)\n",
      "Requirement already satisfied: wheel in /usr/local/lib/python3.7/dist-packages (from lightgbm>=2.3.1->evalml) (0.37.0)\n",
      "Requirement already satisfied: cycler>=0.10 in /usr/local/lib/python3.7/dist-packages (from matplotlib>=3.3.3->evalml) (0.10.0)\n",
      "Requirement already satisfied: pyparsing>=2.2.1 in /usr/local/lib/python3.7/dist-packages (from matplotlib>=3.3.3->evalml) (2.4.7)\n",
      "Requirement already satisfied: pillow>=6.2.0 in /usr/local/lib/python3.7/dist-packages (from matplotlib>=3.3.3->evalml) (7.1.2)\n",
      "Requirement already satisfied: kiwisolver>=1.0.1 in /usr/local/lib/python3.7/dist-packages (from matplotlib>=3.3.3->evalml) (1.3.2)\n",
      "Requirement already satisfied: python-dateutil>=2.7 in /usr/local/lib/python3.7/dist-packages (from matplotlib>=3.3.3->evalml) (2.8.2)\n",
      "Requirement already satisfied: jsonschema!=2.5.0,>=2.4 in /usr/local/lib/python3.7/dist-packages (from nbformat>=4.2.0->ipywidgets>=7.5->evalml) (2.6.0)\n",
      "Requirement already satisfied: jupyter-core in /usr/local/lib/python3.7/dist-packages (from nbformat>=4.2.0->ipywidgets>=7.5->evalml) (4.7.1)\n",
      "Requirement already satisfied: nltk>=3.4.5 in /usr/local/lib/python3.7/dist-packages (from nlp-primitives>=1.1.0->evalml) (3.6.2)\n",
      "Requirement already satisfied: regex in /usr/local/lib/python3.7/dist-packages (from nltk>=3.4.5->nlp-primitives>=1.1.0->evalml) (2019.12.20)\n",
      "Requirement already satisfied: pytz>=2017.3 in /usr/local/lib/python3.7/dist-packages (from pandas>=1.2.5->evalml) (2018.9)\n",
      "Requirement already satisfied: locket in /usr/local/lib/python3.7/dist-packages (from partd>=0.3.10->dask>=2.12.0->evalml) (0.2.1)\n",
      "Requirement already satisfied: tenacity>=6.2.0 in /usr/local/lib/python3.7/dist-packages (from plotly>=5.0.0->evalml) (8.0.1)\n",
      "Requirement already satisfied: wcwidth in /usr/local/lib/python3.7/dist-packages (from prompt-toolkit<2.0.0,>=1.0.4->ipython>=4.0.0->ipywidgets>=7.5->evalml) (0.2.5)\n",
      "Requirement already satisfied: threadpoolctl>=2.0.0 in /usr/local/lib/python3.7/dist-packages (from scikit-learn>=0.24.0->evalml) (2.2.0)\n",
      "Requirement already satisfied: pyaml>=16.9 in /usr/local/lib/python3.7/dist-packages (from scikit-optimize>=0.8.1->evalml) (21.8.3)\n",
      "Requirement already satisfied: slicer==0.0.7 in /usr/local/lib/python3.7/dist-packages (from shap>=0.36.0->evalml) (0.0.7)\n",
      "Requirement already satisfied: notebook>=4.4.1 in /usr/local/lib/python3.7/dist-packages (from widgetsnbextension~=3.5.0->ipywidgets>=7.5->evalml) (5.3.1)\n",
      "Requirement already satisfied: nbconvert in /usr/local/lib/python3.7/dist-packages (from notebook>=4.4.1->widgetsnbextension~=3.5.0->ipywidgets>=7.5->evalml) (5.6.1)\n",
      "Requirement already satisfied: Send2Trash in /usr/local/lib/python3.7/dist-packages (from notebook>=4.4.1->widgetsnbextension~=3.5.0->ipywidgets>=7.5->evalml) (1.8.0)\n",
      "Requirement already satisfied: jinja2 in /usr/local/lib/python3.7/dist-packages (from notebook>=4.4.1->widgetsnbextension~=3.5.0->ipywidgets>=7.5->evalml) (2.11.3)\n",
      "Requirement already satisfied: terminado>=0.8.1 in /usr/local/lib/python3.7/dist-packages (from notebook>=4.4.1->widgetsnbextension~=3.5.0->ipywidgets>=7.5->evalml) (0.12.1)\n",
      "Requirement already satisfied: ptyprocess in /usr/local/lib/python3.7/dist-packages (from terminado>=0.8.1->notebook>=4.4.1->widgetsnbextension~=3.5.0->ipywidgets>=7.5->evalml) (0.7.0)\n",
      "Requirement already satisfied: heapdict in /usr/local/lib/python3.7/dist-packages (from zict>=0.1.3->distributed>=2.12.0->featuretools>=0.26.1->evalml) (1.0.1)\n",
      "Requirement already satisfied: MarkupSafe>=0.23 in /usr/local/lib/python3.7/dist-packages (from jinja2->notebook>=4.4.1->widgetsnbextension~=3.5.0->ipywidgets>=7.5->evalml) (2.0.1)\n",
      "Requirement already satisfied: testpath in /usr/local/lib/python3.7/dist-packages (from nbconvert->notebook>=4.4.1->widgetsnbextension~=3.5.0->ipywidgets>=7.5->evalml) (0.5.0)\n",
      "Requirement already satisfied: bleach in /usr/local/lib/python3.7/dist-packages (from nbconvert->notebook>=4.4.1->widgetsnbextension~=3.5.0->ipywidgets>=7.5->evalml) (4.1.0)\n",
      "Requirement already satisfied: defusedxml in /usr/local/lib/python3.7/dist-packages (from nbconvert->notebook>=4.4.1->widgetsnbextension~=3.5.0->ipywidgets>=7.5->evalml) (0.7.1)\n",
      "Requirement already satisfied: mistune<2,>=0.8.1 in /usr/local/lib/python3.7/dist-packages (from nbconvert->notebook>=4.4.1->widgetsnbextension~=3.5.0->ipywidgets>=7.5->evalml) (0.8.4)\n",
      "Requirement already satisfied: pandocfilters>=1.4.1 in /usr/local/lib/python3.7/dist-packages (from nbconvert->notebook>=4.4.1->widgetsnbextension~=3.5.0->ipywidgets>=7.5->evalml) (1.5.0)\n",
      "Requirement already satisfied: entrypoints>=0.2.2 in /usr/local/lib/python3.7/dist-packages (from nbconvert->notebook>=4.4.1->widgetsnbextension~=3.5.0->ipywidgets>=7.5->evalml) (0.3)\n",
      "Requirement already satisfied: webencodings in /usr/local/lib/python3.7/dist-packages (from bleach->nbconvert->notebook>=4.4.1->widgetsnbextension~=3.5.0->ipywidgets>=7.5->evalml) (0.5.1)\n",
      "Requirement already satisfied: packaging in /usr/local/lib/python3.7/dist-packages (from bleach->nbconvert->notebook>=4.4.1->widgetsnbextension~=3.5.0->ipywidgets>=7.5->evalml) (21.0)\n"
     ]
    }
   ],
   "source": [
    "!pip install evalml"
   ]
  },
  {
   "cell_type": "code",
   "execution_count": 8,
   "metadata": {
    "id": "eEpkNAjbeeQ1",
    "scrolled": true
   },
   "outputs": [],
   "source": [
    "import pandas as pd\n",
    "import numpy as np\n",
    "import evalml\n",
    "from evalml.objectives import get_core_objectives\n",
    "from evalml.problem_types import ProblemTypes\n",
    "from evalml.data_checks import DefaultDataChecks\n",
    "from evalml.automl import AutoMLSearch\n",
    "from sklearn.utils import shuffle\n",
    "import pickle\n",
    "import warnings\n",
    "warnings.filterwarnings('ignore')"
   ]
  },
  {
   "cell_type": "markdown",
   "metadata": {
    "id": "DGV7Y1vEWUxI"
   },
   "source": [
    "# Read Datasets"
   ]
  },
  {
   "cell_type": "code",
   "execution_count": 9,
   "metadata": {
    "colab": {
     "base_uri": "https://localhost:8080/",
     "height": 223
    },
    "id": "ZyXrVa1DdOJc",
    "outputId": "fe2c3043-dc95-447a-f321-c6721dfd15d5"
   },
   "outputs": [
    {
     "data": {
      "text/html": [
       "<div>\n",
       "<style scoped>\n",
       "    .dataframe tbody tr th:only-of-type {\n",
       "        vertical-align: middle;\n",
       "    }\n",
       "\n",
       "    .dataframe tbody tr th {\n",
       "        vertical-align: top;\n",
       "    }\n",
       "\n",
       "    .dataframe thead th {\n",
       "        text-align: right;\n",
       "    }\n",
       "</style>\n",
       "<table border=\"1\" class=\"dataframe\">\n",
       "  <thead>\n",
       "    <tr style=\"text-align: right;\">\n",
       "      <th></th>\n",
       "      <th>smoke</th>\n",
       "      <th>drink</th>\n",
       "      <th>background_father</th>\n",
       "      <th>background_mother</th>\n",
       "      <th>age</th>\n",
       "      <th>pesticide</th>\n",
       "      <th>gender</th>\n",
       "      <th>skin_cancer_history</th>\n",
       "      <th>cancer_history</th>\n",
       "      <th>has_piped_water</th>\n",
       "      <th>has_sewage_system</th>\n",
       "      <th>Melanoma</th>\n",
       "    </tr>\n",
       "  </thead>\n",
       "  <tbody>\n",
       "    <tr>\n",
       "      <th>0</th>\n",
       "      <td>False</td>\n",
       "      <td>False</td>\n",
       "      <td>POMERANIA</td>\n",
       "      <td>POMERANIA</td>\n",
       "      <td>55</td>\n",
       "      <td>False</td>\n",
       "      <td>FEMALE</td>\n",
       "      <td>True</td>\n",
       "      <td>True</td>\n",
       "      <td>True</td>\n",
       "      <td>True</td>\n",
       "      <td>False</td>\n",
       "    </tr>\n",
       "    <tr>\n",
       "      <th>1</th>\n",
       "      <td>False</td>\n",
       "      <td>True</td>\n",
       "      <td>POMERANIA</td>\n",
       "      <td>POMERANIA</td>\n",
       "      <td>79</td>\n",
       "      <td>False</td>\n",
       "      <td>MALE</td>\n",
       "      <td>True</td>\n",
       "      <td>False</td>\n",
       "      <td>False</td>\n",
       "      <td>False</td>\n",
       "      <td>False</td>\n",
       "    </tr>\n",
       "    <tr>\n",
       "      <th>2</th>\n",
       "      <td>False</td>\n",
       "      <td>True</td>\n",
       "      <td>GERMANY</td>\n",
       "      <td>ITALY</td>\n",
       "      <td>52</td>\n",
       "      <td>False</td>\n",
       "      <td>FEMALE</td>\n",
       "      <td>False</td>\n",
       "      <td>True</td>\n",
       "      <td>True</td>\n",
       "      <td>True</td>\n",
       "      <td>False</td>\n",
       "    </tr>\n",
       "    <tr>\n",
       "      <th>3</th>\n",
       "      <td>False</td>\n",
       "      <td>False</td>\n",
       "      <td>POMERANIA</td>\n",
       "      <td>POMERANIA</td>\n",
       "      <td>74</td>\n",
       "      <td>True</td>\n",
       "      <td>FEMALE</td>\n",
       "      <td>False</td>\n",
       "      <td>False</td>\n",
       "      <td>False</td>\n",
       "      <td>False</td>\n",
       "      <td>False</td>\n",
       "    </tr>\n",
       "    <tr>\n",
       "      <th>4</th>\n",
       "      <td>False</td>\n",
       "      <td>True</td>\n",
       "      <td>GERMANY</td>\n",
       "      <td>GERMANY</td>\n",
       "      <td>58</td>\n",
       "      <td>True</td>\n",
       "      <td>FEMALE</td>\n",
       "      <td>True</td>\n",
       "      <td>True</td>\n",
       "      <td>True</td>\n",
       "      <td>True</td>\n",
       "      <td>False</td>\n",
       "    </tr>\n",
       "  </tbody>\n",
       "</table>\n",
       "</div>"
      ],
      "text/plain": [
       "   smoke  drink background_father  ... has_piped_water  has_sewage_system  Melanoma\n",
       "0  False  False         POMERANIA  ...            True               True     False\n",
       "1  False   True         POMERANIA  ...           False              False     False\n",
       "2  False   True           GERMANY  ...            True               True     False\n",
       "3  False  False         POMERANIA  ...           False              False     False\n",
       "4  False   True           GERMANY  ...            True               True     False\n",
       "\n",
       "[5 rows x 12 columns]"
      ]
     },
     "execution_count": 9,
     "metadata": {},
     "output_type": "execute_result"
    }
   ],
   "source": [
    "df = pd.read_csv('processed_data_pad.csv')\n",
    "df.head()"
   ]
  },
  {
   "cell_type": "code",
   "execution_count": 10,
   "metadata": {
    "id": "XlJDe-8dlgFV"
   },
   "outputs": [],
   "source": [
    "for i in range(100):\n",
    "    df = shuffle(df)\n",
    "\n",
    "df=df.reset_index(drop=True)"
   ]
  },
  {
   "cell_type": "code",
   "execution_count": 11,
   "metadata": {
    "id": "x5LmrEHLWUxI"
   },
   "outputs": [],
   "source": [
    "# Dataframe to DataTable conversion to treat columns with the same physical data type differently\n",
    "X = df.iloc[:,:-1]\n",
    "y = df.iloc[:,-1]\n",
    "X_train,_, y_train,_ = evalml.preprocessing.split_data(X, y, \n",
    "                                                      problem_type='binary',\n",
    "                                                      test_size=1/df.shape[0]*100)"
   ]
  },
  {
   "cell_type": "markdown",
   "metadata": {
    "id": "5t1K7pU7WUxJ"
   },
   "source": [
    "# Training"
   ]
  },
  {
   "cell_type": "code",
   "execution_count": 12,
   "metadata": {
    "colab": {
     "base_uri": "https://localhost:8080/"
    },
    "id": "D7XuwjjDaK-t",
    "outputId": "101555e0-4903-4242-e0c3-fea9ab01e66e"
   },
   "outputs": [
    {
     "name": "stdout",
     "output_type": "stream",
     "text": [
      "MCC Binary\n",
      "Log Loss Binary\n",
      "Gini\n",
      "AUC\n",
      "Precision\n",
      "F1\n",
      "Balanced Accuracy Binary\n",
      "Accuracy Binary\n"
     ]
    }
   ],
   "source": [
    "for objective in get_core_objectives(ProblemTypes.BINARY):\n",
    "    print(objective.name)"
   ]
  },
  {
   "cell_type": "code",
   "execution_count": 13,
   "metadata": {
    "colab": {
     "base_uri": "https://localhost:8080/"
    },
    "id": "zk-iD5lDe_Oq",
    "outputId": "35306bfd-0116-45dc-a45a-0afc78345add"
   },
   "outputs": [
    {
     "data": {
      "text/plain": [
       "{'actions': [],\n",
       " 'errors': [],\n",
       " 'warnings': [{'code': 'CLASS_IMBALANCE_BELOW_THRESHOLD',\n",
       "   'data_check_name': 'ClassImbalanceDataCheck',\n",
       "   'details': {'target_values': [True]},\n",
       "   'level': 'warning',\n",
       "   'message': 'The following labels fall below 10% of the target: [True]'},\n",
       "  {'code': 'CLASS_IMBALANCE_SEVERE',\n",
       "   'data_check_name': 'ClassImbalanceDataCheck',\n",
       "   'details': {'target_values': [True]},\n",
       "   'level': 'warning',\n",
       "   'message': 'The following labels in the target have severe class imbalance because they fall under 10% of the target and have less than 100 samples: [True]'}]}"
      ]
     },
     "execution_count": 13,
     "metadata": {},
     "output_type": "execute_result"
    }
   ],
   "source": [
    "data_checks = DefaultDataChecks(\"binary\", \"Balanced Accuracy Binary\")\n",
    "data_checks.validate(X_train, y_train)"
   ]
  },
  {
   "cell_type": "code",
   "execution_count": 14,
   "metadata": {
    "colab": {
     "base_uri": "https://localhost:8080/",
     "height": 1000,
     "referenced_widgets": [
      "e886e6c4de8f473e9a32bd8e4043f336"
     ]
    },
    "id": "YXUQUZGmf0pn",
    "outputId": "0518e298-9426-414d-c6fb-54c55e165bbe",
    "scrolled": false
   },
   "outputs": [
    {
     "name": "stdout",
     "output_type": "stream",
     "text": [
      "Generating pipelines to search over...\n",
      "8 pipelines ready for search.\n",
      "Ensembling will run every 9 batches.\n",
      "\n",
      "*****************************\n",
      "* Beginning pipeline search *\n",
      "*****************************\n",
      "\n",
      "Optimizing for Balanced Accuracy Binary. \n",
      "Greater score is better.\n",
      "\n",
      "Using SequentialEngine to train and score pipelines.\n",
      "Searching up to 10 batches for a total of 50 pipelines. \n",
      "Allowed model families: decision_tree, random_forest, linear_model, xgboost, extra_trees, catboost, lightgbm\n",
      "\n"
     ]
    },
    {
     "data": {
      "application/vnd.jupyter.widget-view+json": {
       "model_id": "e886e6c4de8f473e9a32bd8e4043f336",
       "version_major": 2,
       "version_minor": 0
      },
      "text/plain": [
       "FigureWidget({\n",
       "    'data': [{'mode': 'lines+markers',\n",
       "              'name': 'Best Score',\n",
       "              'type'…"
      ]
     },
     "metadata": {},
     "output_type": "display_data"
    },
    {
     "name": "stdout",
     "output_type": "stream",
     "text": [
      "Evaluating Baseline Pipeline: Mode Baseline Binary Classification Pipeline\n",
      "Mode Baseline Binary Classification Pipeline:\n",
      "\tStarting cross validation\n",
      "\tFinished cross validation - mean Balanced Accuracy Binary: 0.500\n",
      "\n",
      "*****************************\n",
      "* Evaluating Batch Number 1 *\n",
      "*****************************\n",
      "\n",
      "Elastic Net Classifier w/ Imputer + One Hot Encoder + Oversampler + Standard Scaler:\n",
      "\tStarting cross validation\n",
      "\tFinished cross validation - mean Balanced Accuracy Binary: 0.497\n",
      "Decision Tree Classifier w/ Imputer + One Hot Encoder + Oversampler:\n",
      "\tStarting cross validation\n",
      "\tFinished cross validation - mean Balanced Accuracy Binary: 0.506\n",
      "Random Forest Classifier w/ Imputer + One Hot Encoder + Oversampler:\n",
      "\tStarting cross validation\n",
      "\tFinished cross validation - mean Balanced Accuracy Binary: 0.497\n",
      "LightGBM Classifier w/ Imputer + One Hot Encoder + Oversampler:\n",
      "\tStarting cross validation\n",
      "\tFinished cross validation - mean Balanced Accuracy Binary: 0.497\n",
      "Logistic Regression Classifier w/ Imputer + One Hot Encoder + Oversampler + Standard Scaler:\n",
      "\tStarting cross validation\n",
      "\tFinished cross validation - mean Balanced Accuracy Binary: 0.496\n",
      "XGBoost Classifier w/ Imputer + One Hot Encoder + Oversampler:\n",
      "\tStarting cross validation\n",
      "\tFinished cross validation - mean Balanced Accuracy Binary: 0.492\n",
      "Extra Trees Classifier w/ Imputer + One Hot Encoder + Oversampler:\n",
      "\tStarting cross validation\n",
      "\tFinished cross validation - mean Balanced Accuracy Binary: 0.497\n",
      "CatBoost Classifier w/ Imputer + Oversampler:\n",
      "\tStarting cross validation\n",
      "\tFinished cross validation - mean Balanced Accuracy Binary: 0.500\n",
      "\n",
      "*****************************\n",
      "* Evaluating Batch Number 2 *\n",
      "*****************************\n",
      "\n",
      "Decision Tree Classifier w/ Imputer + One Hot Encoder + Oversampler:\n",
      "\tStarting cross validation\n",
      "\tFinished cross validation - mean Balanced Accuracy Binary: 0.468\n",
      "Decision Tree Classifier w/ Imputer + One Hot Encoder + Oversampler:\n",
      "\tStarting cross validation\n",
      "\tFinished cross validation - mean Balanced Accuracy Binary: 0.497\n",
      "Decision Tree Classifier w/ Imputer + One Hot Encoder + Oversampler:\n",
      "\tStarting cross validation\n",
      "\tFinished cross validation - mean Balanced Accuracy Binary: 0.501\n",
      "Decision Tree Classifier w/ Imputer + One Hot Encoder + Oversampler:\n",
      "\tStarting cross validation\n",
      "\tFinished cross validation - mean Balanced Accuracy Binary: 0.500\n",
      "Decision Tree Classifier w/ Imputer + One Hot Encoder + Oversampler:\n",
      "\tStarting cross validation\n",
      "\tFinished cross validation - mean Balanced Accuracy Binary: 0.535\n",
      "\n",
      "*****************************\n",
      "* Evaluating Batch Number 3 *\n",
      "*****************************\n",
      "\n",
      "CatBoost Classifier w/ Imputer + Oversampler:\n",
      "\tStarting cross validation\n",
      "\tFinished cross validation - mean Balanced Accuracy Binary: 0.494\n",
      "CatBoost Classifier w/ Imputer + Oversampler:\n",
      "\tStarting cross validation\n",
      "\tFinished cross validation - mean Balanced Accuracy Binary: 0.496\n",
      "CatBoost Classifier w/ Imputer + Oversampler:\n",
      "\tStarting cross validation\n",
      "\tFinished cross validation - mean Balanced Accuracy Binary: 0.499\n",
      "CatBoost Classifier w/ Imputer + Oversampler:\n",
      "\tStarting cross validation\n",
      "\tFinished cross validation - mean Balanced Accuracy Binary: 0.485\n",
      "CatBoost Classifier w/ Imputer + Oversampler:\n",
      "\tStarting cross validation\n",
      "\tFinished cross validation - mean Balanced Accuracy Binary: 0.496\n",
      "\n",
      "*****************************\n",
      "* Evaluating Batch Number 4 *\n",
      "*****************************\n",
      "\n",
      "Elastic Net Classifier w/ Imputer + One Hot Encoder + Oversampler + Standard Scaler:\n",
      "\tStarting cross validation\n",
      "\tFinished cross validation - mean Balanced Accuracy Binary: 0.497\n",
      "Elastic Net Classifier w/ Imputer + One Hot Encoder + Oversampler + Standard Scaler:\n",
      "\tStarting cross validation\n",
      "\tFinished cross validation - mean Balanced Accuracy Binary: 0.497\n",
      "Elastic Net Classifier w/ Imputer + One Hot Encoder + Oversampler + Standard Scaler:\n",
      "\tStarting cross validation\n",
      "\tFinished cross validation - mean Balanced Accuracy Binary: 0.496\n",
      "Elastic Net Classifier w/ Imputer + One Hot Encoder + Oversampler + Standard Scaler:\n",
      "\tStarting cross validation\n",
      "\tFinished cross validation - mean Balanced Accuracy Binary: 0.497\n",
      "Elastic Net Classifier w/ Imputer + One Hot Encoder + Oversampler + Standard Scaler:\n",
      "\tStarting cross validation\n",
      "\tFinished cross validation - mean Balanced Accuracy Binary: 0.497\n",
      "\n",
      "*****************************\n",
      "* Evaluating Batch Number 5 *\n",
      "*****************************\n",
      "\n",
      "LightGBM Classifier w/ Imputer + One Hot Encoder + Oversampler:\n",
      "\tStarting cross validation\n",
      "\tFinished cross validation - mean Balanced Accuracy Binary: 0.496\n",
      "LightGBM Classifier w/ Imputer + One Hot Encoder + Oversampler:\n",
      "\tStarting cross validation\n",
      "\tFinished cross validation - mean Balanced Accuracy Binary: 0.484\n",
      "LightGBM Classifier w/ Imputer + One Hot Encoder + Oversampler:\n",
      "\tStarting cross validation\n",
      "\tFinished cross validation - mean Balanced Accuracy Binary: 0.480\n",
      "LightGBM Classifier w/ Imputer + One Hot Encoder + Oversampler:\n",
      "\tStarting cross validation\n",
      "\tFinished cross validation - mean Balanced Accuracy Binary: 0.487\n",
      "LightGBM Classifier w/ Imputer + One Hot Encoder + Oversampler:\n",
      "\tStarting cross validation\n",
      "\tFinished cross validation - mean Balanced Accuracy Binary: 0.506\n",
      "\n",
      "*****************************\n",
      "* Evaluating Batch Number 6 *\n",
      "*****************************\n",
      "\n",
      "Random Forest Classifier w/ Imputer + One Hot Encoder + Oversampler:\n",
      "\tStarting cross validation\n",
      "\tFinished cross validation - mean Balanced Accuracy Binary: 0.495\n",
      "Random Forest Classifier w/ Imputer + One Hot Encoder + Oversampler:\n",
      "\tStarting cross validation\n",
      "\tFinished cross validation - mean Balanced Accuracy Binary: 0.486\n",
      "Random Forest Classifier w/ Imputer + One Hot Encoder + Oversampler:\n",
      "\tStarting cross validation\n",
      "\tFinished cross validation - mean Balanced Accuracy Binary: 0.494\n",
      "Random Forest Classifier w/ Imputer + One Hot Encoder + Oversampler:\n",
      "\tStarting cross validation\n",
      "\tFinished cross validation - mean Balanced Accuracy Binary: 0.487\n",
      "Random Forest Classifier w/ Imputer + One Hot Encoder + Oversampler:\n",
      "\tStarting cross validation\n",
      "\tFinished cross validation - mean Balanced Accuracy Binary: 0.494\n",
      "\n",
      "*****************************\n",
      "* Evaluating Batch Number 7 *\n",
      "*****************************\n",
      "\n",
      "Extra Trees Classifier w/ Imputer + One Hot Encoder + Oversampler:\n",
      "\tStarting cross validation\n",
      "\tFinished cross validation - mean Balanced Accuracy Binary: 0.496\n",
      "Extra Trees Classifier w/ Imputer + One Hot Encoder + Oversampler:\n",
      "\tStarting cross validation\n",
      "\tFinished cross validation - mean Balanced Accuracy Binary: 0.495\n",
      "Extra Trees Classifier w/ Imputer + One Hot Encoder + Oversampler:\n",
      "\tStarting cross validation\n",
      "\tFinished cross validation - mean Balanced Accuracy Binary: 0.496\n",
      "Extra Trees Classifier w/ Imputer + One Hot Encoder + Oversampler:\n",
      "\tStarting cross validation\n",
      "\tFinished cross validation - mean Balanced Accuracy Binary: 0.500\n",
      "Extra Trees Classifier w/ Imputer + One Hot Encoder + Oversampler:\n",
      "\tStarting cross validation\n",
      "\tFinished cross validation - mean Balanced Accuracy Binary: 0.488\n",
      "\n",
      "*****************************\n",
      "* Evaluating Batch Number 8 *\n",
      "*****************************\n",
      "\n",
      "Logistic Regression Classifier w/ Imputer + One Hot Encoder + Oversampler + Standard Scaler:\n",
      "\tStarting cross validation\n",
      "\tFinished cross validation - mean Balanced Accuracy Binary: 0.496\n",
      "Logistic Regression Classifier w/ Imputer + One Hot Encoder + Oversampler + Standard Scaler:\n",
      "\tStarting cross validation\n",
      "\tFinished cross validation - mean Balanced Accuracy Binary: 0.496\n",
      "Logistic Regression Classifier w/ Imputer + One Hot Encoder + Oversampler + Standard Scaler:\n",
      "\tStarting cross validation\n",
      "\tFinished cross validation - mean Balanced Accuracy Binary: 0.496\n",
      "Logistic Regression Classifier w/ Imputer + One Hot Encoder + Oversampler + Standard Scaler:\n",
      "\tStarting cross validation\n",
      "\tFinished cross validation - mean Balanced Accuracy Binary: 0.496\n",
      "Logistic Regression Classifier w/ Imputer + One Hot Encoder + Oversampler + Standard Scaler:\n",
      "\tStarting cross validation\n",
      "\tFinished cross validation - mean Balanced Accuracy Binary: 0.497\n",
      "\n",
      "*****************************\n",
      "* Evaluating Batch Number 9 *\n",
      "*****************************\n",
      "\n",
      "XGBoost Classifier w/ Imputer + One Hot Encoder + Oversampler:\n",
      "\tStarting cross validation\n",
      "\tFinished cross validation - mean Balanced Accuracy Binary: 0.495\n",
      "XGBoost Classifier w/ Imputer + One Hot Encoder + Oversampler:\n",
      "\tStarting cross validation\n",
      "\tFinished cross validation - mean Balanced Accuracy Binary: 0.499\n",
      "XGBoost Classifier w/ Imputer + One Hot Encoder + Oversampler:\n",
      "\tStarting cross validation\n",
      "\tFinished cross validation - mean Balanced Accuracy Binary: 0.492\n",
      "XGBoost Classifier w/ Imputer + One Hot Encoder + Oversampler:\n",
      "\tStarting cross validation\n",
      "\tFinished cross validation - mean Balanced Accuracy Binary: 0.512\n",
      "XGBoost Classifier w/ Imputer + One Hot Encoder + Oversampler:\n",
      "\tStarting cross validation\n",
      "\tFinished cross validation - mean Balanced Accuracy Binary: 0.503\n",
      "\n",
      "******************************\n",
      "* Evaluating Batch Number 10 *\n",
      "******************************\n",
      "\n",
      "Sklearn Stacked Ensemble Classification Pipeline:\n",
      "\tStarting cross validation\n",
      "\tFinished cross validation - mean Balanced Accuracy Binary: 0.500\n",
      "\n",
      "Search finished after 02:53            \n",
      "Best pipeline: Decision Tree Classifier w/ Imputer + One Hot Encoder + Oversampler\n",
      "Best pipeline Balanced Accuracy Binary: 0.535036\n"
     ]
    }
   ],
   "source": [
    "automl = AutoMLSearch(X_train = X_train, \n",
    "                      y_train = y_train, \n",
    "                      problem_type = 'binary',\n",
    "                      objective = \"Balanced Accuracy Binary\",\n",
    "                      additional_objectives=['Log Loss Binary','F1','AUC'],\n",
    "                      optimize_thresholds = True,\n",
    "                      ensembling = True,\n",
    "                      max_batches = 10,\n",
    "                      verbose=True)\n",
    "automl.search()"
   ]
  },
  {
   "cell_type": "code",
   "execution_count": 15,
   "metadata": {
    "colab": {
     "base_uri": "https://localhost:8080/"
    },
    "id": "sCxBo0EkWUxL",
    "outputId": "0e7e7178-820d-4503-8cf8-8320548eb753"
   },
   "outputs": [
    {
     "name": "stdout",
     "output_type": "stream",
     "text": [
      "\n",
      "***********************************************************************\n",
      "* Decision Tree Classifier w/ Imputer + One Hot Encoder + Oversampler *\n",
      "***********************************************************************\n",
      "\n",
      "Problem Type: binary\n",
      "Model Family: Decision Tree\n",
      "\n",
      "Pipeline Steps\n",
      "==============\n",
      "1. Imputer\n",
      "\t * categorical_impute_strategy : most_frequent\n",
      "\t * numeric_impute_strategy : median\n",
      "\t * categorical_fill_value : None\n",
      "\t * numeric_fill_value : None\n",
      "2. One Hot Encoder\n",
      "\t * top_n : 10\n",
      "\t * features_to_encode : None\n",
      "\t * categories : None\n",
      "\t * drop : if_binary\n",
      "\t * handle_unknown : ignore\n",
      "\t * handle_missing : error\n",
      "3. Oversampler\n",
      "\t * sampling_ratio : 0.25\n",
      "\t * k_neighbors_default : 5\n",
      "\t * n_jobs : -1\n",
      "\t * sampling_ratio_dict : None\n",
      "\t * k_neighbors : 5\n",
      "4. Decision Tree Classifier\n",
      "\t * criterion : entropy\n",
      "\t * max_features : log2\n",
      "\t * max_depth : 6\n",
      "\t * min_samples_split : 2\n",
      "\t * min_weight_fraction_leaf : 0.0\n",
      "\n",
      "Training\n",
      "========\n",
      "Training for binary problems.\n",
      "Objective to optimize binary classification pipeline thresholds for: <evalml.objectives.standard_metrics.BalancedAccuracyBinary object at 0x7f2a5e416490>\n",
      "Total training time (including CV): 1.4 seconds\n",
      "\n",
      "Cross Validation\n",
      "----------------\n",
      "             Balanced Accuracy Binary  Log Loss Binary    F1   AUC # Training # Validation\n",
      "0                               0.560            0.995 0.098 0.547        498          250\n",
      "1                               0.501            1.385 0.071 0.514        499          249\n",
      "2                               0.543            0.734 0.154 0.508        499          249\n",
      "mean                            0.535            1.038 0.108 0.523          -            -\n",
      "std                             0.030            0.328 0.042 0.021          -            -\n",
      "coef of var                     0.057            0.316 0.391 0.040          -            -\n"
     ]
    }
   ],
   "source": [
    "automl.describe_pipeline(automl.rankings.iloc[0][\"id\"])"
   ]
  },
  {
   "cell_type": "code",
   "execution_count": 17,
   "metadata": {
    "colab": {
     "base_uri": "https://localhost:8080/",
     "height": 817
    },
    "id": "nGFbLTdtFXvi",
    "outputId": "f68f9fb1-f178-4f9d-b24a-a38a5e77f383"
   },
   "outputs": [
    {
     "data": {
      "text/html": [
       "<html>\n",
       "<head><meta charset=\"utf-8\" /></head>\n",
       "<body>\n",
       "    <div>            <script src=\"https://cdnjs.cloudflare.com/ajax/libs/mathjax/2.7.5/MathJax.js?config=TeX-AMS-MML_SVG\"></script><script type=\"text/javascript\">if (window.MathJax) {MathJax.Hub.Config({SVG: {font: \"STIX-Web\"}});}</script>                <script type=\"text/javascript\">window.PlotlyConfig = {MathJaxConfig: 'local'};</script>\n",
       "        <script src=\"https://cdn.plot.ly/plotly-2.4.2.min.js\"></script>                <div id=\"2fd374d7-599a-4b80-9f96-64b782e6d7e6\" class=\"plotly-graph-div\" style=\"height:800px; width:100%;\"></div>            <script type=\"text/javascript\">                                    window.PLOTLYENV=window.PLOTLYENV || {};                                    if (document.getElementById(\"2fd374d7-599a-4b80-9f96-64b782e6d7e6\")) {                    Plotly.newPlot(                        \"2fd374d7-599a-4b80-9f96-64b782e6d7e6\",                        [{\"orientation\":\"h\",\"type\":\"bar\",\"x\":[0.0,0.0,0.0,0.0,0.0,0.0,0.0,0.0,0.0,0.0,9.557435902828082e-05,0.000732111911046969,0.0007382333261978411,0.0007857195714311901,0.0015022400733767918,0.0028759481936634604,0.007583830778218345,0.010727671260102663,0.01133290765271783,0.024842794652132592,0.02517101640526961,0.034418329166744116,0.05537308458282232,0.058531118563969385,0.06308951152946074,0.11488909307784367,0.1373947587185103,0.16838332853045082,0.2815327276470132],\"y\":[\"background_mother_SPAIN\",\"background_mother_PORTUGAL\",\"background_mother_NORWAY\",\"background_mother_NETHERLANDS\",\"background_father_SPAIN\",\"background_father_PORTUGAL\",\"background_father_POMERANIA\",\"background_father_POLAND\",\"background_father_NETHERLANDS\",\"background_father_BRAZIL\",\"drink\",\"background_mother_POLAND\",\"background_father_ISRAEL\",\"background_father_UNK\",\"background_mother_UNK\",\"has_sewage_system\",\"gender_MALE\",\"skin_cancer_history\",\"background_mother_BRAZIL\",\"smoke\",\"pesticide\",\"background_father_GERMANY\",\"background_mother_POMERANIA\",\"has_piped_water\",\"age\",\"background_father_ITALY\",\"background_mother_ITALY\",\"cancer_history\",\"background_mother_GERMANY\"]}],                        {\"height\":800,\"template\":{\"data\":{\"bar\":[{\"error_x\":{\"color\":\"#2a3f5f\"},\"error_y\":{\"color\":\"#2a3f5f\"},\"marker\":{\"line\":{\"color\":\"#E5ECF6\",\"width\":0.5},\"pattern\":{\"fillmode\":\"overlay\",\"size\":10,\"solidity\":0.2}},\"type\":\"bar\"}],\"barpolar\":[{\"marker\":{\"line\":{\"color\":\"#E5ECF6\",\"width\":0.5},\"pattern\":{\"fillmode\":\"overlay\",\"size\":10,\"solidity\":0.2}},\"type\":\"barpolar\"}],\"carpet\":[{\"aaxis\":{\"endlinecolor\":\"#2a3f5f\",\"gridcolor\":\"white\",\"linecolor\":\"white\",\"minorgridcolor\":\"white\",\"startlinecolor\":\"#2a3f5f\"},\"baxis\":{\"endlinecolor\":\"#2a3f5f\",\"gridcolor\":\"white\",\"linecolor\":\"white\",\"minorgridcolor\":\"white\",\"startlinecolor\":\"#2a3f5f\"},\"type\":\"carpet\"}],\"choropleth\":[{\"colorbar\":{\"outlinewidth\":0,\"ticks\":\"\"},\"type\":\"choropleth\"}],\"contour\":[{\"colorbar\":{\"outlinewidth\":0,\"ticks\":\"\"},\"colorscale\":[[0.0,\"#0d0887\"],[0.1111111111111111,\"#46039f\"],[0.2222222222222222,\"#7201a8\"],[0.3333333333333333,\"#9c179e\"],[0.4444444444444444,\"#bd3786\"],[0.5555555555555556,\"#d8576b\"],[0.6666666666666666,\"#ed7953\"],[0.7777777777777778,\"#fb9f3a\"],[0.8888888888888888,\"#fdca26\"],[1.0,\"#f0f921\"]],\"type\":\"contour\"}],\"contourcarpet\":[{\"colorbar\":{\"outlinewidth\":0,\"ticks\":\"\"},\"type\":\"contourcarpet\"}],\"heatmap\":[{\"colorbar\":{\"outlinewidth\":0,\"ticks\":\"\"},\"colorscale\":[[0.0,\"#0d0887\"],[0.1111111111111111,\"#46039f\"],[0.2222222222222222,\"#7201a8\"],[0.3333333333333333,\"#9c179e\"],[0.4444444444444444,\"#bd3786\"],[0.5555555555555556,\"#d8576b\"],[0.6666666666666666,\"#ed7953\"],[0.7777777777777778,\"#fb9f3a\"],[0.8888888888888888,\"#fdca26\"],[1.0,\"#f0f921\"]],\"type\":\"heatmap\"}],\"heatmapgl\":[{\"colorbar\":{\"outlinewidth\":0,\"ticks\":\"\"},\"colorscale\":[[0.0,\"#0d0887\"],[0.1111111111111111,\"#46039f\"],[0.2222222222222222,\"#7201a8\"],[0.3333333333333333,\"#9c179e\"],[0.4444444444444444,\"#bd3786\"],[0.5555555555555556,\"#d8576b\"],[0.6666666666666666,\"#ed7953\"],[0.7777777777777778,\"#fb9f3a\"],[0.8888888888888888,\"#fdca26\"],[1.0,\"#f0f921\"]],\"type\":\"heatmapgl\"}],\"histogram\":[{\"marker\":{\"pattern\":{\"fillmode\":\"overlay\",\"size\":10,\"solidity\":0.2}},\"type\":\"histogram\"}],\"histogram2d\":[{\"colorbar\":{\"outlinewidth\":0,\"ticks\":\"\"},\"colorscale\":[[0.0,\"#0d0887\"],[0.1111111111111111,\"#46039f\"],[0.2222222222222222,\"#7201a8\"],[0.3333333333333333,\"#9c179e\"],[0.4444444444444444,\"#bd3786\"],[0.5555555555555556,\"#d8576b\"],[0.6666666666666666,\"#ed7953\"],[0.7777777777777778,\"#fb9f3a\"],[0.8888888888888888,\"#fdca26\"],[1.0,\"#f0f921\"]],\"type\":\"histogram2d\"}],\"histogram2dcontour\":[{\"colorbar\":{\"outlinewidth\":0,\"ticks\":\"\"},\"colorscale\":[[0.0,\"#0d0887\"],[0.1111111111111111,\"#46039f\"],[0.2222222222222222,\"#7201a8\"],[0.3333333333333333,\"#9c179e\"],[0.4444444444444444,\"#bd3786\"],[0.5555555555555556,\"#d8576b\"],[0.6666666666666666,\"#ed7953\"],[0.7777777777777778,\"#fb9f3a\"],[0.8888888888888888,\"#fdca26\"],[1.0,\"#f0f921\"]],\"type\":\"histogram2dcontour\"}],\"mesh3d\":[{\"colorbar\":{\"outlinewidth\":0,\"ticks\":\"\"},\"type\":\"mesh3d\"}],\"parcoords\":[{\"line\":{\"colorbar\":{\"outlinewidth\":0,\"ticks\":\"\"}},\"type\":\"parcoords\"}],\"pie\":[{\"automargin\":true,\"type\":\"pie\"}],\"scatter\":[{\"marker\":{\"colorbar\":{\"outlinewidth\":0,\"ticks\":\"\"}},\"type\":\"scatter\"}],\"scatter3d\":[{\"line\":{\"colorbar\":{\"outlinewidth\":0,\"ticks\":\"\"}},\"marker\":{\"colorbar\":{\"outlinewidth\":0,\"ticks\":\"\"}},\"type\":\"scatter3d\"}],\"scattercarpet\":[{\"marker\":{\"colorbar\":{\"outlinewidth\":0,\"ticks\":\"\"}},\"type\":\"scattercarpet\"}],\"scattergeo\":[{\"marker\":{\"colorbar\":{\"outlinewidth\":0,\"ticks\":\"\"}},\"type\":\"scattergeo\"}],\"scattergl\":[{\"marker\":{\"colorbar\":{\"outlinewidth\":0,\"ticks\":\"\"}},\"type\":\"scattergl\"}],\"scattermapbox\":[{\"marker\":{\"colorbar\":{\"outlinewidth\":0,\"ticks\":\"\"}},\"type\":\"scattermapbox\"}],\"scatterpolar\":[{\"marker\":{\"colorbar\":{\"outlinewidth\":0,\"ticks\":\"\"}},\"type\":\"scatterpolar\"}],\"scatterpolargl\":[{\"marker\":{\"colorbar\":{\"outlinewidth\":0,\"ticks\":\"\"}},\"type\":\"scatterpolargl\"}],\"scatterternary\":[{\"marker\":{\"colorbar\":{\"outlinewidth\":0,\"ticks\":\"\"}},\"type\":\"scatterternary\"}],\"surface\":[{\"colorbar\":{\"outlinewidth\":0,\"ticks\":\"\"},\"colorscale\":[[0.0,\"#0d0887\"],[0.1111111111111111,\"#46039f\"],[0.2222222222222222,\"#7201a8\"],[0.3333333333333333,\"#9c179e\"],[0.4444444444444444,\"#bd3786\"],[0.5555555555555556,\"#d8576b\"],[0.6666666666666666,\"#ed7953\"],[0.7777777777777778,\"#fb9f3a\"],[0.8888888888888888,\"#fdca26\"],[1.0,\"#f0f921\"]],\"type\":\"surface\"}],\"table\":[{\"cells\":{\"fill\":{\"color\":\"#EBF0F8\"},\"line\":{\"color\":\"white\"}},\"header\":{\"fill\":{\"color\":\"#C8D4E3\"},\"line\":{\"color\":\"white\"}},\"type\":\"table\"}]},\"layout\":{\"annotationdefaults\":{\"arrowcolor\":\"#2a3f5f\",\"arrowhead\":0,\"arrowwidth\":1},\"autotypenumbers\":\"strict\",\"coloraxis\":{\"colorbar\":{\"outlinewidth\":0,\"ticks\":\"\"}},\"colorscale\":{\"diverging\":[[0,\"#8e0152\"],[0.1,\"#c51b7d\"],[0.2,\"#de77ae\"],[0.3,\"#f1b6da\"],[0.4,\"#fde0ef\"],[0.5,\"#f7f7f7\"],[0.6,\"#e6f5d0\"],[0.7,\"#b8e186\"],[0.8,\"#7fbc41\"],[0.9,\"#4d9221\"],[1,\"#276419\"]],\"sequential\":[[0.0,\"#0d0887\"],[0.1111111111111111,\"#46039f\"],[0.2222222222222222,\"#7201a8\"],[0.3333333333333333,\"#9c179e\"],[0.4444444444444444,\"#bd3786\"],[0.5555555555555556,\"#d8576b\"],[0.6666666666666666,\"#ed7953\"],[0.7777777777777778,\"#fb9f3a\"],[0.8888888888888888,\"#fdca26\"],[1.0,\"#f0f921\"]],\"sequentialminus\":[[0.0,\"#0d0887\"],[0.1111111111111111,\"#46039f\"],[0.2222222222222222,\"#7201a8\"],[0.3333333333333333,\"#9c179e\"],[0.4444444444444444,\"#bd3786\"],[0.5555555555555556,\"#d8576b\"],[0.6666666666666666,\"#ed7953\"],[0.7777777777777778,\"#fb9f3a\"],[0.8888888888888888,\"#fdca26\"],[1.0,\"#f0f921\"]]},\"colorway\":[\"#636efa\",\"#EF553B\",\"#00cc96\",\"#ab63fa\",\"#FFA15A\",\"#19d3f3\",\"#FF6692\",\"#B6E880\",\"#FF97FF\",\"#FECB52\"],\"font\":{\"color\":\"#2a3f5f\"},\"geo\":{\"bgcolor\":\"white\",\"lakecolor\":\"white\",\"landcolor\":\"#E5ECF6\",\"showlakes\":true,\"showland\":true,\"subunitcolor\":\"white\"},\"hoverlabel\":{\"align\":\"left\"},\"hovermode\":\"closest\",\"mapbox\":{\"style\":\"light\"},\"paper_bgcolor\":\"white\",\"plot_bgcolor\":\"#E5ECF6\",\"polar\":{\"angularaxis\":{\"gridcolor\":\"white\",\"linecolor\":\"white\",\"ticks\":\"\"},\"bgcolor\":\"#E5ECF6\",\"radialaxis\":{\"gridcolor\":\"white\",\"linecolor\":\"white\",\"ticks\":\"\"}},\"scene\":{\"xaxis\":{\"backgroundcolor\":\"#E5ECF6\",\"gridcolor\":\"white\",\"gridwidth\":2,\"linecolor\":\"white\",\"showbackground\":true,\"ticks\":\"\",\"zerolinecolor\":\"white\"},\"yaxis\":{\"backgroundcolor\":\"#E5ECF6\",\"gridcolor\":\"white\",\"gridwidth\":2,\"linecolor\":\"white\",\"showbackground\":true,\"ticks\":\"\",\"zerolinecolor\":\"white\"},\"zaxis\":{\"backgroundcolor\":\"#E5ECF6\",\"gridcolor\":\"white\",\"gridwidth\":2,\"linecolor\":\"white\",\"showbackground\":true,\"ticks\":\"\",\"zerolinecolor\":\"white\"}},\"shapedefaults\":{\"line\":{\"color\":\"#2a3f5f\"}},\"ternary\":{\"aaxis\":{\"gridcolor\":\"white\",\"linecolor\":\"white\",\"ticks\":\"\"},\"baxis\":{\"gridcolor\":\"white\",\"linecolor\":\"white\",\"ticks\":\"\"},\"bgcolor\":\"#E5ECF6\",\"caxis\":{\"gridcolor\":\"white\",\"linecolor\":\"white\",\"ticks\":\"\"}},\"title\":{\"x\":0.05},\"xaxis\":{\"automargin\":true,\"gridcolor\":\"white\",\"linecolor\":\"white\",\"ticks\":\"\",\"title\":{\"standoff\":15},\"zerolinecolor\":\"white\",\"zerolinewidth\":2},\"yaxis\":{\"automargin\":true,\"gridcolor\":\"white\",\"linecolor\":\"white\",\"ticks\":\"\",\"title\":{\"standoff\":15},\"zerolinecolor\":\"white\",\"zerolinewidth\":2}}},\"title\":{\"text\":\"Feature Importance<br><sub>May display fewer features due to feature selection</sub>\"},\"xaxis\":{\"title\":{\"text\":\"Feature Importance\"}},\"yaxis\":{\"title\":{\"text\":\"Feature\"},\"type\":\"category\"}},                        {\"responsive\": true}                    ).then(function(){\n",
       "                            \n",
       "var gd = document.getElementById('2fd374d7-599a-4b80-9f96-64b782e6d7e6');\n",
       "var x = new MutationObserver(function (mutations, observer) {{\n",
       "        var display = window.getComputedStyle(gd).display;\n",
       "        if (!display || display === 'none') {{\n",
       "            console.log([gd, 'removed!']);\n",
       "            Plotly.purge(gd);\n",
       "            observer.disconnect();\n",
       "        }}\n",
       "}});\n",
       "\n",
       "// Listen for the removal of the full notebook cells\n",
       "var notebookContainer = gd.closest('#notebook-container');\n",
       "if (notebookContainer) {{\n",
       "    x.observe(notebookContainer, {childList: true});\n",
       "}}\n",
       "\n",
       "// Listen for the clearing of the current output cell\n",
       "var outputEl = gd.closest('.output');\n",
       "if (outputEl) {{\n",
       "    x.observe(outputEl, {childList: true});\n",
       "}}\n",
       "\n",
       "                        })                };                            </script>        </div>\n",
       "</body>\n",
       "</html>"
      ]
     },
     "metadata": {},
     "output_type": "display_data"
    }
   ],
   "source": [
    "automl.best_pipeline.graph_feature_importance()"
   ]
  },
  {
   "cell_type": "code",
   "execution_count": null,
   "metadata": {
    "id": "qb2cxFcAFiVB"
   },
   "outputs": [],
   "source": []
  }
 ],
 "metadata": {
  "colab": {
   "collapsed_sections": [],
   "name": "3_EvalML_PAD.ipynb",
   "provenance": []
  },
  "kernelspec": {
   "display_name": "Python 3 (ipykernel)",
   "language": "python",
   "name": "python3"
  },
  "language_info": {
   "codemirror_mode": {
    "name": "ipython",
    "version": 3
   },
   "file_extension": ".py",
   "mimetype": "text/x-python",
   "name": "python",
   "nbconvert_exporter": "python",
   "pygments_lexer": "ipython3",
   "version": "3.7.0"
  },
  "widgets": {
   "application/vnd.jupyter.widget-state+json": {
    "e886e6c4de8f473e9a32bd8e4043f336": {
     "model_module": "jupyterlab-plotly",
     "model_module_version": "^5.3.1",
     "model_name": "FigureModel",
     "state": {
      "_config": {
       "plotlyServerURL": "https://plot.ly"
      },
      "_data": [
       {
        "mode": "lines+markers",
        "name": "Best Score",
        "type": "scatter",
        "uid": "ed24c8a7-3d88-4330-b2ff-7d624a8d3639",
        "x": [],
        "y": []
       },
       {
        "marker": {
         "color": "gray"
        },
        "mode": "markers",
        "name": "Iter score",
        "type": "scatter",
        "uid": "50a72288-c985-4b7f-9d12-25dabbdce50a",
        "x": [],
        "y": []
       }
      ],
      "_dom_classes": [],
      "_js2py_layoutDelta": {},
      "_js2py_pointsCallback": {},
      "_js2py_relayout": {},
      "_js2py_restyle": {},
      "_js2py_traceDeltas": {},
      "_js2py_update": {},
      "_last_layout_edit_id": 201,
      "_last_trace_edit_id": 201,
      "_layout": {
       "title": {
        "text": "Pipeline Search: Iteration vs. Balanced Accuracy Binary<br><sub>Gray marker indicates the score at current iteration</sub>"
       },
       "xaxis": {
        "rangemode": "tozero",
        "title": {
         "text": "Iteration"
        }
       },
       "yaxis": {
        "title": {
         "text": "Score"
        }
       }
      },
      "_model_module": "jupyterlab-plotly",
      "_model_module_version": "^5.3.1",
      "_model_name": "FigureModel",
      "_py2js_addTraces": {},
      "_py2js_animate": {},
      "_py2js_deleteTraces": {},
      "_py2js_moveTraces": {},
      "_py2js_relayout": null,
      "_py2js_removeLayoutProps": {},
      "_py2js_removeTraceProps": {},
      "_py2js_restyle": null,
      "_py2js_update": null,
      "_view_count": 0,
      "_view_module": "jupyterlab-plotly",
      "_view_module_version": "^5.3.1",
      "_view_name": "FigureView"
     }
    }
   }
  }
 },
 "nbformat": 4,
 "nbformat_minor": 1
}
