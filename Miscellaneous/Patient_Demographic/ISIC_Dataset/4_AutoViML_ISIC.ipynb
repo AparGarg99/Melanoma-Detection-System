{
 "cells": [
  {
   "cell_type": "markdown",
   "metadata": {
    "id": "-6kah6_BmJcX"
   },
   "source": [
    "# Import Libraries"
   ]
  },
  {
   "cell_type": "code",
   "execution_count": 1,
   "metadata": {
    "colab": {
     "base_uri": "https://localhost:8080/"
    },
    "id": "EGOC6u4GmVXK",
    "outputId": "65e2ab53-7716-4b53-89da-87a6ff23f6e1"
   },
   "outputs": [
    {
     "name": "stdout",
     "output_type": "stream",
     "text": [
      "Collecting autoviml\n",
      "  Downloading autoviml-0.1.683-py3-none-any.whl (125 kB)\n",
      "\u001b[K     |████████████████████████████████| 125 kB 4.3 MB/s \n",
      "\u001b[?25hCollecting catboost\n",
      "  Downloading catboost-0.26.1-cp37-none-manylinux1_x86_64.whl (67.4 MB)\n",
      "\u001b[K     |████████████████████████████████| 67.4 MB 31 kB/s \n",
      "\u001b[?25hRequirement already satisfied: regex in /usr/local/lib/python3.7/dist-packages (from autoviml) (2019.12.20)\n",
      "Requirement already satisfied: nltk in /usr/local/lib/python3.7/dist-packages (from autoviml) (3.2.5)\n",
      "Collecting shap>=0.36.0\n",
      "  Downloading shap-0.39.0.tar.gz (356 kB)\n",
      "\u001b[K     |████████████████████████████████| 356 kB 43.2 MB/s \n",
      "\u001b[?25hRequirement already satisfied: beautifulsoup4 in /usr/local/lib/python3.7/dist-packages (from autoviml) (4.6.3)\n",
      "Requirement already satisfied: pandas in /usr/local/lib/python3.7/dist-packages (from autoviml) (1.1.5)\n",
      "Collecting emoji\n",
      "  Downloading emoji-1.5.0.tar.gz (185 kB)\n",
      "\u001b[K     |████████████████████████████████| 185 kB 34.7 MB/s \n",
      "\u001b[?25hRequirement already satisfied: textblob in /usr/local/lib/python3.7/dist-packages (from autoviml) (0.15.3)\n",
      "Requirement already satisfied: xlrd in /usr/local/lib/python3.7/dist-packages (from autoviml) (1.1.0)\n",
      "Requirement already satisfied: jupyter in /usr/local/lib/python3.7/dist-packages (from autoviml) (1.0.0)\n",
      "Collecting imbalanced-learn>=0.7\n",
      "  Downloading imbalanced_learn-0.8.0-py3-none-any.whl (206 kB)\n",
      "\u001b[K     |████████████████████████████████| 206 kB 39.9 MB/s \n",
      "\u001b[?25hRequirement already satisfied: matplotlib in /usr/local/lib/python3.7/dist-packages (from autoviml) (3.2.2)\n",
      "Collecting vaderSentiment\n",
      "  Downloading vaderSentiment-3.3.2-py2.py3-none-any.whl (125 kB)\n",
      "\u001b[K     |████████████████████████████████| 125 kB 35.2 MB/s \n",
      "\u001b[?25hCollecting scikit-learn>=0.23.1\n",
      "  Downloading scikit_learn-0.24.2-cp37-cp37m-manylinux2010_x86_64.whl (22.3 MB)\n",
      "\u001b[K     |████████████████████████████████| 22.3 MB 32 kB/s \n",
      "\u001b[?25hCollecting xgboost>=1.1.1\n",
      "  Downloading xgboost-1.4.2-py3-none-manylinux2010_x86_64.whl (166.7 MB)\n",
      "\u001b[K     |████████████████████████████████| 166.7 MB 15 kB/s \n",
      "\u001b[?25hRequirement already satisfied: ipython in /usr/local/lib/python3.7/dist-packages (from autoviml) (5.5.0)\n",
      "Requirement already satisfied: seaborn in /usr/local/lib/python3.7/dist-packages (from autoviml) (0.11.2)\n",
      "Requirement already satisfied: joblib>=0.11 in /usr/local/lib/python3.7/dist-packages (from imbalanced-learn>=0.7->autoviml) (1.0.1)\n",
      "Requirement already satisfied: scipy>=0.19.1 in /usr/local/lib/python3.7/dist-packages (from imbalanced-learn>=0.7->autoviml) (1.4.1)\n",
      "Requirement already satisfied: numpy>=1.13.3 in /usr/local/lib/python3.7/dist-packages (from imbalanced-learn>=0.7->autoviml) (1.19.5)\n",
      "Collecting threadpoolctl>=2.0.0\n",
      "  Downloading threadpoolctl-2.2.0-py3-none-any.whl (12 kB)\n",
      "Requirement already satisfied: tqdm>4.25.0 in /usr/local/lib/python3.7/dist-packages (from shap>=0.36.0->autoviml) (4.62.2)\n",
      "Collecting slicer==0.0.7\n",
      "  Downloading slicer-0.0.7-py3-none-any.whl (14 kB)\n",
      "Requirement already satisfied: numba in /usr/local/lib/python3.7/dist-packages (from shap>=0.36.0->autoviml) (0.51.2)\n",
      "Requirement already satisfied: cloudpickle in /usr/local/lib/python3.7/dist-packages (from shap>=0.36.0->autoviml) (1.3.0)\n",
      "Requirement already satisfied: plotly in /usr/local/lib/python3.7/dist-packages (from catboost->autoviml) (4.4.1)\n",
      "Requirement already satisfied: six in /usr/local/lib/python3.7/dist-packages (from catboost->autoviml) (1.15.0)\n",
      "Requirement already satisfied: graphviz in /usr/local/lib/python3.7/dist-packages (from catboost->autoviml) (0.10.1)\n",
      "Requirement already satisfied: pytz>=2017.2 in /usr/local/lib/python3.7/dist-packages (from pandas->autoviml) (2018.9)\n",
      "Requirement already satisfied: python-dateutil>=2.7.3 in /usr/local/lib/python3.7/dist-packages (from pandas->autoviml) (2.8.2)\n",
      "Requirement already satisfied: pickleshare in /usr/local/lib/python3.7/dist-packages (from ipython->autoviml) (0.7.5)\n",
      "Requirement already satisfied: prompt-toolkit<2.0.0,>=1.0.4 in /usr/local/lib/python3.7/dist-packages (from ipython->autoviml) (1.0.18)\n",
      "Requirement already satisfied: pexpect in /usr/local/lib/python3.7/dist-packages (from ipython->autoviml) (4.8.0)\n",
      "Requirement already satisfied: simplegeneric>0.8 in /usr/local/lib/python3.7/dist-packages (from ipython->autoviml) (0.8.1)\n",
      "Requirement already satisfied: traitlets>=4.2 in /usr/local/lib/python3.7/dist-packages (from ipython->autoviml) (5.1.0)\n",
      "Requirement already satisfied: decorator in /usr/local/lib/python3.7/dist-packages (from ipython->autoviml) (4.4.2)\n",
      "Requirement already satisfied: pygments in /usr/local/lib/python3.7/dist-packages (from ipython->autoviml) (2.6.1)\n",
      "Requirement already satisfied: setuptools>=18.5 in /usr/local/lib/python3.7/dist-packages (from ipython->autoviml) (57.4.0)\n",
      "Requirement already satisfied: wcwidth in /usr/local/lib/python3.7/dist-packages (from prompt-toolkit<2.0.0,>=1.0.4->ipython->autoviml) (0.2.5)\n",
      "Requirement already satisfied: ipykernel in /usr/local/lib/python3.7/dist-packages (from jupyter->autoviml) (4.10.1)\n",
      "Requirement already satisfied: nbconvert in /usr/local/lib/python3.7/dist-packages (from jupyter->autoviml) (5.6.1)\n",
      "Requirement already satisfied: notebook in /usr/local/lib/python3.7/dist-packages (from jupyter->autoviml) (5.3.1)\n",
      "Requirement already satisfied: jupyter-console in /usr/local/lib/python3.7/dist-packages (from jupyter->autoviml) (5.2.0)\n",
      "Requirement already satisfied: qtconsole in /usr/local/lib/python3.7/dist-packages (from jupyter->autoviml) (5.1.1)\n",
      "Requirement already satisfied: ipywidgets in /usr/local/lib/python3.7/dist-packages (from jupyter->autoviml) (7.6.5)\n",
      "Requirement already satisfied: jupyter-client in /usr/local/lib/python3.7/dist-packages (from ipykernel->jupyter->autoviml) (5.3.5)\n",
      "Requirement already satisfied: tornado>=4.0 in /usr/local/lib/python3.7/dist-packages (from ipykernel->jupyter->autoviml) (5.1.1)\n",
      "Requirement already satisfied: widgetsnbextension~=3.5.0 in /usr/local/lib/python3.7/dist-packages (from ipywidgets->jupyter->autoviml) (3.5.1)\n",
      "Requirement already satisfied: nbformat>=4.2.0 in /usr/local/lib/python3.7/dist-packages (from ipywidgets->jupyter->autoviml) (5.1.3)\n",
      "Requirement already satisfied: jupyterlab-widgets>=1.0.0 in /usr/local/lib/python3.7/dist-packages (from ipywidgets->jupyter->autoviml) (1.0.2)\n",
      "Requirement already satisfied: ipython-genutils~=0.2.0 in /usr/local/lib/python3.7/dist-packages (from ipywidgets->jupyter->autoviml) (0.2.0)\n",
      "Requirement already satisfied: jsonschema!=2.5.0,>=2.4 in /usr/local/lib/python3.7/dist-packages (from nbformat>=4.2.0->ipywidgets->jupyter->autoviml) (2.6.0)\n",
      "Requirement already satisfied: jupyter-core in /usr/local/lib/python3.7/dist-packages (from nbformat>=4.2.0->ipywidgets->jupyter->autoviml) (4.7.1)\n",
      "Requirement already satisfied: terminado>=0.8.1 in /usr/local/lib/python3.7/dist-packages (from notebook->jupyter->autoviml) (0.12.1)\n",
      "Requirement already satisfied: Send2Trash in /usr/local/lib/python3.7/dist-packages (from notebook->jupyter->autoviml) (1.8.0)\n",
      "Requirement already satisfied: jinja2 in /usr/local/lib/python3.7/dist-packages (from notebook->jupyter->autoviml) (2.11.3)\n",
      "Requirement already satisfied: pyzmq>=13 in /usr/local/lib/python3.7/dist-packages (from jupyter-client->ipykernel->jupyter->autoviml) (22.2.1)\n",
      "Requirement already satisfied: ptyprocess in /usr/local/lib/python3.7/dist-packages (from terminado>=0.8.1->notebook->jupyter->autoviml) (0.7.0)\n",
      "Requirement already satisfied: MarkupSafe>=0.23 in /usr/local/lib/python3.7/dist-packages (from jinja2->notebook->jupyter->autoviml) (2.0.1)\n",
      "Requirement already satisfied: pyparsing!=2.0.4,!=2.1.2,!=2.1.6,>=2.0.1 in /usr/local/lib/python3.7/dist-packages (from matplotlib->autoviml) (2.4.7)\n",
      "Requirement already satisfied: kiwisolver>=1.0.1 in /usr/local/lib/python3.7/dist-packages (from matplotlib->autoviml) (1.3.2)\n",
      "Requirement already satisfied: cycler>=0.10 in /usr/local/lib/python3.7/dist-packages (from matplotlib->autoviml) (0.10.0)\n",
      "Requirement already satisfied: pandocfilters>=1.4.1 in /usr/local/lib/python3.7/dist-packages (from nbconvert->jupyter->autoviml) (1.5.0)\n",
      "Requirement already satisfied: entrypoints>=0.2.2 in /usr/local/lib/python3.7/dist-packages (from nbconvert->jupyter->autoviml) (0.3)\n",
      "Requirement already satisfied: mistune<2,>=0.8.1 in /usr/local/lib/python3.7/dist-packages (from nbconvert->jupyter->autoviml) (0.8.4)\n",
      "Requirement already satisfied: bleach in /usr/local/lib/python3.7/dist-packages (from nbconvert->jupyter->autoviml) (4.1.0)\n",
      "Requirement already satisfied: defusedxml in /usr/local/lib/python3.7/dist-packages (from nbconvert->jupyter->autoviml) (0.7.1)\n",
      "Requirement already satisfied: testpath in /usr/local/lib/python3.7/dist-packages (from nbconvert->jupyter->autoviml) (0.5.0)\n",
      "Requirement already satisfied: packaging in /usr/local/lib/python3.7/dist-packages (from bleach->nbconvert->jupyter->autoviml) (21.0)\n",
      "Requirement already satisfied: webencodings in /usr/local/lib/python3.7/dist-packages (from bleach->nbconvert->jupyter->autoviml) (0.5.1)\n",
      "Requirement already satisfied: llvmlite<0.35,>=0.34.0.dev0 in /usr/local/lib/python3.7/dist-packages (from numba->shap>=0.36.0->autoviml) (0.34.0)\n",
      "Requirement already satisfied: retrying>=1.3.3 in /usr/local/lib/python3.7/dist-packages (from plotly->catboost->autoviml) (1.3.3)\n",
      "Requirement already satisfied: qtpy in /usr/local/lib/python3.7/dist-packages (from qtconsole->jupyter->autoviml) (1.11.1)\n",
      "Requirement already satisfied: requests in /usr/local/lib/python3.7/dist-packages (from vaderSentiment->autoviml) (2.23.0)\n",
      "Requirement already satisfied: idna<3,>=2.5 in /usr/local/lib/python3.7/dist-packages (from requests->vaderSentiment->autoviml) (2.10)\n",
      "Requirement already satisfied: certifi>=2017.4.17 in /usr/local/lib/python3.7/dist-packages (from requests->vaderSentiment->autoviml) (2021.5.30)\n",
      "Requirement already satisfied: chardet<4,>=3.0.2 in /usr/local/lib/python3.7/dist-packages (from requests->vaderSentiment->autoviml) (3.0.4)\n",
      "Requirement already satisfied: urllib3!=1.25.0,!=1.25.1,<1.26,>=1.21.1 in /usr/local/lib/python3.7/dist-packages (from requests->vaderSentiment->autoviml) (1.24.3)\n",
      "Building wheels for collected packages: shap, emoji\n",
      "  Building wheel for shap (setup.py) ... \u001b[?25l\u001b[?25hdone\n",
      "  Created wheel for shap: filename=shap-0.39.0-cp37-cp37m-linux_x86_64.whl size=491654 sha256=6f840c8312290b2f7cb75970ff10eebf7e8ef8c35f7c7ccfe0085eaef3f9217a\n",
      "  Stored in directory: /root/.cache/pip/wheels/ca/25/8f/6ae5df62c32651cd719e972e738a8aaa4a87414c4d2b14c9c0\n",
      "  Building wheel for emoji (setup.py) ... \u001b[?25l\u001b[?25hdone\n",
      "  Created wheel for emoji: filename=emoji-1.5.0-py3-none-any.whl size=187457 sha256=db57a551590ae938b7a705b31f02de10932980c21957b0eac4e8c984c4552051\n",
      "  Stored in directory: /root/.cache/pip/wheels/db/b5/f6/b39abf14e94b3d6640613bbe630a66c10ccf7a12882d064fb5\n",
      "Successfully built shap emoji\n",
      "Installing collected packages: threadpoolctl, slicer, scikit-learn, xgboost, vaderSentiment, shap, imbalanced-learn, emoji, catboost, autoviml\n",
      "  Attempting uninstall: scikit-learn\n",
      "    Found existing installation: scikit-learn 0.22.2.post1\n",
      "    Uninstalling scikit-learn-0.22.2.post1:\n",
      "      Successfully uninstalled scikit-learn-0.22.2.post1\n",
      "  Attempting uninstall: xgboost\n",
      "    Found existing installation: xgboost 0.90\n",
      "    Uninstalling xgboost-0.90:\n",
      "      Successfully uninstalled xgboost-0.90\n",
      "  Attempting uninstall: imbalanced-learn\n",
      "    Found existing installation: imbalanced-learn 0.4.3\n",
      "    Uninstalling imbalanced-learn-0.4.3:\n",
      "      Successfully uninstalled imbalanced-learn-0.4.3\n",
      "Successfully installed autoviml-0.1.683 catboost-0.26.1 emoji-1.5.0 imbalanced-learn-0.8.0 scikit-learn-0.24.2 shap-0.39.0 slicer-0.0.7 threadpoolctl-2.2.0 vaderSentiment-3.3.2 xgboost-1.4.2\n"
     ]
    }
   ],
   "source": [
    "!pip install autoviml"
   ]
  },
  {
   "cell_type": "code",
   "execution_count": 2,
   "metadata": {
    "colab": {
     "base_uri": "https://localhost:8080/",
     "height": 269
    },
    "id": "wYsohgWlDB8X",
    "outputId": "f2fcf20d-516e-4c5f-95a7-7078bb6aaa94"
   },
   "outputs": [
    {
     "name": "stdout",
     "output_type": "stream",
     "text": [
      "Imported Auto_ViML version: 0.1.683. Call using:\n",
      "             m, feats, trainm, testm = Auto_ViML(train, target, test,\n",
      "                            sample_submission='',\n",
      "                            scoring_parameter='', KMeans_Featurizer=False,\n",
      "                            hyper_param='RS',feature_reduction=True,\n",
      "                             Boosting_Flag='CatBoost', Binning_Flag=False,\n",
      "                            Add_Poly=0, Stacking_Flag=False,Imbalanced_Flag=False,\n",
      "                            verbose=1)\n",
      "            \n",
      "\n",
      "Imported Auto_NLP version: 0.0.47.. Call using:\n",
      "     train_nlp, test_nlp, nlp_pipeline, predictions = Auto_NLP(\n",
      "                nlp_column, train, test, target, score_type='balanced_accuracy',\n",
      "                modeltype='Classification',top_num_features=200, verbose=0,\n",
      "                build_model=True)\n"
     ]
    },
    {
     "data": {
      "text/html": [
       "<style>.container { width:95% !important; }</style>"
      ],
      "text/plain": [
       "<IPython.core.display.HTML object>"
      ]
     },
     "metadata": {},
     "output_type": "display_data"
    }
   ],
   "source": [
    "import pandas as pd\n",
    "import math\n",
    "from autoviml.Auto_ViML import Auto_ViML\n",
    "from sklearn.utils import shuffle\n",
    "from sklearn.metrics import accuracy_score, confusion_matrix,classification_report"
   ]
  },
  {
   "cell_type": "markdown",
   "metadata": {
    "id": "Yj68GYammJcc"
   },
   "source": [
    "# Read Dataset"
   ]
  },
  {
   "cell_type": "code",
   "execution_count": 3,
   "metadata": {
    "colab": {
     "base_uri": "https://localhost:8080/"
    },
    "id": "uGUeYZ56mJcc",
    "outputId": "aca63b00-2816-4470-caad-e8b38b903c7b"
   },
   "outputs": [
    {
     "data": {
      "text/plain": [
       "(189, 5)"
      ]
     },
     "execution_count": 3,
     "metadata": {},
     "output_type": "execute_result"
    }
   ],
   "source": [
    "df = pd.read_csv('/content/processed_data_isic.csv')\n",
    "df.shape"
   ]
  },
  {
   "cell_type": "code",
   "execution_count": 4,
   "metadata": {
    "id": "HZFZC7afpu9P"
   },
   "outputs": [],
   "source": [
    "for i in range(100):\n",
    "  df = shuffle(df)\n",
    "\n",
    "df=df.reset_index(drop=True)"
   ]
  },
  {
   "cell_type": "code",
   "execution_count": 5,
   "metadata": {
    "colab": {
     "base_uri": "https://localhost:8080/"
    },
    "id": "Qg_9kBNQMVT8",
    "outputId": "fe590e3b-2cf8-4168-8240-cd4cb2c1722c"
   },
   "outputs": [
    {
     "data": {
      "text/plain": [
       "False    114\n",
       "True      75\n",
       "Name: Melanoma, dtype: int64"
      ]
     },
     "execution_count": 5,
     "metadata": {},
     "output_type": "execute_result"
    }
   ],
   "source": [
    "df['Melanoma'].value_counts()"
   ]
  },
  {
   "cell_type": "markdown",
   "metadata": {
    "id": "p9pcuq0MmJcc"
   },
   "source": [
    "# Training"
   ]
  },
  {
   "cell_type": "code",
   "execution_count": 7,
   "metadata": {
    "colab": {
     "base_uri": "https://localhost:8080/",
     "height": 1000
    },
    "id": "CT3wE4N7FNvf",
    "outputId": "8b501c1f-4474-4a0f-e73c-379a8dbcee16",
    "scrolled": false
   },
   "outputs": [
    {
     "name": "stdout",
     "output_type": "stream",
     "text": [
      "##############  D A T A   S E T  A N A L Y S I S  #######################\n",
      "Training Set Shape = (189, 5)\n",
      "    Training Set Memory Usage = 0.00 MB\n",
      "Single_Label Target: ['Melanoma']\n",
      "\n",
      "################ Binary_Classification VISUALIZATION Started #####################\n",
      "Random shuffling the data set before training\n",
      "    Using GridSearchCV for Hyper Parameter Tuning. This is slow. Switch to RS for faster tuning...\n",
      "       Class  -> Counts -> Percent\n",
      "       False:     114  ->   60.3%\n",
      "        True:      75  ->   39.7%\n",
      "    Target Melanoma is already numeric. No transformation done.\n",
      "############## C L A S S I F Y I N G  V A R I A B L E S  ####################\n",
      "Classifying variables in data set...\n",
      "    4 Predictors classified...\n",
      "        This does not include the Target column(s)\n",
      "    No variables removed since no ID or low-information variables found in data set\n",
      "Number of Processors on this device = 2\n",
      "CPU available\n",
      "GPU available\n",
      "#############     D A T A    P R E P A R A T I O N   AND C L E A N I N G     #############\n",
      "No Missing Values in train data set\n",
      "    Completed Label Encoding and Filling of Missing Values for Train and Test Data\n",
      "Binary_Classification problem: hyperparameters are being optimized for balanced_accuracy\n",
      "########   A D D I N G  P O L Y N O M I A L   &   I N T E R A C T I O N    V A R S  #####\n",
      "Adding Both Interaction and Squared Variables. This may result in Overfitting!\n",
      "Adding Polynomial vars ignored since no numeric vars in data\n",
      "############# R E M O V I N G   H I G H L Y  C O R R E L A T E D    V A R S #################\n",
      "Removing highly correlated variables using SULA method among (4) numeric variables\n",
      "    No numeric vars removed since none have high correlation with each other in this data...\n",
      "Splitting features into float and categorical (integer) variables:\n",
      "    (1) float variables ...\n",
      "    (3) categorical vars...\n",
      "############## F E A T U R E   S E L E C T I O N    BY   X G B O O S T    ####################\n",
      "Current number of predictors = 4 \n",
      "    Finding Important Features using Boosted Trees algorithm...\n",
      "        using 4 variables...\n",
      "        using 2 variables...\n",
      "Found 3 important features\n",
      "    Performing limited feature engineering for binning, add_poly and KMeans_Featurizer flags  ...\n",
      "    Train CV Split completed with TRAIN rows =  170 , CV rows =  19\n",
      "    Binning_Flag set to False or there are no float vars in data set to be binned\n",
      "    KMeans_Featurizer set to False or there are no float variables in data\n",
      "Performing MinMax scaling of train and validation data\n",
      "############### Linear M O D E L   B U I L D I N G  B E G I N S  ####################\n",
      "Rows in Train data set = 170\n",
      "  Features in Train data set = 3\n",
      "    Rows in held-out data set = 19\n",
      "Finding Best Model and Hyper Parameters for Linear model...\n",
      "    Baseline Accuracy Needed for Model = 60.32%\n",
      "    CPU Count = 2 in this device\n",
      "Using Linear Model, Estimated Training time = 0.010 mins\n",
      "##################  Imbalanced Model Training  ############################\n",
      "Imbalanced Training using SMOTE Rare Class Oversampling method...\n",
      "Using SMOTE's over-sampling techniques to make the 2 classes balanced...\n",
      "    This is not an Imbalanced data set. No need to use SMOTE but continuing...\n",
      "    class_weights = [0.82524272 1.26865672]\n",
      "    class_weighted_rows = {0: 103, 1: 85}\n",
      "Training model now on resampled train data: (188, 3). This will take time...\n",
      "    Resampled data Training time taken = 1 seconds\n",
      "########################################################\n",
      "Resampled model results on Held out Validation data:\n",
      "              precision    recall  f1-score   support\n",
      "\n",
      "           0       0.64      0.73      0.68       103\n",
      "           1       0.47      0.37      0.42        67\n",
      "\n",
      "    accuracy                           0.59       170\n",
      "   macro avg       0.56      0.55      0.55       170\n",
      "weighted avg       0.57      0.59      0.58       170\n",
      "\n",
      "##################  Completed Imbalanced Training using LogisticRegression ################\n",
      "    Actual training time (in seconds): 1\n",
      "###########  Single_Label  M O D E L   R E S U L T S #################\n",
      "Error: Not able to print validation metrics. Continuing...\n",
      "5-fold Cross Validation  balanced-accuracy = 0.0%\n",
      "No cross validation done when Imbalanced_Flag set to True...\n",
      "Finding Best Threshold for Highest F1 Score...\n",
      "    Using threshold=0.5. However, 0.420 provides better F1=0.80 for rare class...\n",
      "########################################################\n",
      "Linear Model Prediction Results on Held Out CV Data Set:\n",
      "    Regular Accuracy Score = 73.7%\n",
      "Balanced Accuracy = 61.36% with Threshold = 0.50\n",
      "Confusion Matrix:\n",
      "[[8 3]\n",
      " [4 4]]\n",
      "              precision    recall  f1-score   support\n",
      "\n",
      "           0       0.67      0.73      0.70        11\n",
      "           1       0.57      0.50      0.53         8\n",
      "\n",
      "    accuracy                           0.63        19\n",
      "   macro avg       0.62      0.61      0.61        19\n",
      "weighted avg       0.63      0.63      0.63        19\n",
      "\n",
      "Balanced Accuracy = 81.82% with Threshold = 0.42\n",
      "Confusion Matrix:\n",
      "[[7 4]\n",
      " [0 8]]\n",
      "              precision    recall  f1-score   support\n",
      "\n",
      "           0       1.00      0.64      0.78        11\n",
      "           1       0.67      1.00      0.80         8\n",
      "\n",
      "    accuracy                           0.79        19\n",
      "   macro avg       0.83      0.82      0.79        19\n",
      "weighted avg       0.86      0.79      0.79        19\n",
      "\n",
      "#####################################################################\n",
      "Modified threshold = 0.42 is better\n",
      "################# E N S E M B L E  M O D E L  ##################\n",
      "Time taken = 1 seconds\n",
      "Based on trying multiple models, Best type of algorithm for this data set is Naive_Bayes\n",
      "#############################################################################\n",
      "    Displaying results of weighted average ensemble of 5 classifiers\n",
      "After multiple models, Ensemble Model Results:\n",
      "Binary Class Model Metrics Report\n",
      "#####################################################\n",
      "    Accuracy          = 63.2%\n",
      "    Balanced Accuracy = 61.4%\n",
      "    Precision         = 57.1%\n",
      "    Average Precision = 61.9%\n",
      "    Recall            = 50.0%\n",
      "    F1 Score          = 53.3%\n",
      "#####################################################\n",
      "              precision    recall  f1-score   support\n",
      "\n",
      "           0       0.67      0.73      0.70        11\n",
      "           1       0.57      0.50      0.53         8\n",
      "\n",
      "    accuracy                           0.63        19\n",
      "   macro avg       0.62      0.61      0.61        19\n",
      "weighted avg       0.63      0.63      0.63        19\n",
      "\n",
      "[[8 3]\n",
      " [4 4]]\n",
      "#############################################################################\n",
      "Single Model is better than Ensembling Models for this data set.\n",
      "    Time taken for this Target (in seconds) = 11\n",
      "    Binning_Flag set to False or there are no float vars in data set to be binned\n",
      "Performing MinMax scaling of train and test data...\n",
      "#####   T R A I N I N G   M O D E L   O N    F U L L   T R A I N  D A T A  #############\n",
      "##################  Imbalanced Model Training  ############################\n",
      "Imbalanced Training using SMOTE Rare Class Oversampling method...\n",
      "Using SMOTE's over-sampling techniques to make the 2 classes balanced...\n",
      "    This is not an Imbalanced data set. No need to use SMOTE but continuing...\n",
      "    class_weights = [0.82894737 1.26      ]\n",
      "    class_weighted_rows = {0: 114, 1: 94}\n",
      "Training model now on resampled train data: (208, 3). This will take time...\n",
      "    Resampled data Training time taken = 1 seconds\n",
      "##################  Completed Imbalanced Training using LogisticRegression ################\n",
      "     Actual Training time taken in seconds = 1\n",
      "Training of models completed. Now starting predictions on test data...\n",
      "Since there is no Test file, we will do a final prediction on Train itself as return it as testm dataframe\n",
      "    Making test Data predictions using modified Threshold = 0.420\n",
      "    Calculating weighted average ensemble of 5 classifiers\n",
      "    Plotting Feature Importances to explain the output of model\n",
      "############### P R E D I C T I O N  O N  T E S T   C O M P L E T E D  #################\n",
      "    Time taken thus far (in seconds) = 12\n",
      "Writing Output files to disk...\n",
      "    Saving predictions to ./Melanoma/Melanoma_Binary_Classification_test_modified.csv\n",
      "    Saving predictions to ./Melanoma/Melanoma_Binary_Classification_submission.csv\n",
      "    Saving predictions to ./Melanoma/Melanoma_Binary_Classification_train_modified.csv\n",
      "###############  C O M P L E T E D  ################\n",
      "Time Taken in mins = 0.2 for the Entire Process\n"
     ]
    },
    {
     "data": {
      "image/png": "[encoded data removed]",
      "text/plain": [
       "<Figure size 720x720 with 1 Axes>"
      ]
     },
     "metadata": {},
     "output_type": "display_data"
    },
    {
     "data": {
      "image/png": "[encoded data removed]",
      "text/plain": [
       "<Figure size 720x360 with 1 Axes>"
      ]
     },
     "metadata": {},
     "output_type": "display_data"
    }
   ],
   "source": [
    "model, features, trainm, testm = Auto_ViML(train = df,\n",
    "                                           test = '',\n",
    "                                           target = 'Melanoma',\n",
    "                                           Imbalanced_Flag = True,\n",
    "                                            scoring_parameter = 'balanced-accuracy',\n",
    "                                           Boosting_Flag=None,\n",
    "                                           Binning_Flag=False,\n",
    "                                           Stacking_Flag=False,\n",
    "                                           Add_Poly=3,\n",
    "\n",
    "                                           hyper_param =\"GS\",\n",
    "                                           feature_reduction= True,\n",
    "                                            verbose = 0)"
   ]
  }
 ],
 "metadata": {
  "accelerator": "GPU",
  "colab": {
   "collapsed_sections": [],
   "name": "Copy of 4_AutoViML_ISIC.ipynb",
   "provenance": []
  },
  "kernelspec": {
   "display_name": "Python 3 (ipykernel)",
   "language": "python",
   "name": "python3"
  },
  "language_info": {
   "codemirror_mode": {
    "name": "ipython",
    "version": 3
   },
   "file_extension": ".py",
   "mimetype": "text/x-python",
   "name": "python",
   "nbconvert_exporter": "python",
   "pygments_lexer": "ipython3",
   "version": "3.7.0"
  }
 },
 "nbformat": 4,
 "nbformat_minor": 1
}
