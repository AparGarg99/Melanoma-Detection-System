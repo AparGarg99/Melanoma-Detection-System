{
 "cells": [
  {
   "cell_type": "markdown",
   "metadata": {},
   "source": [
    "# Import required packages"
   ]
  },
  {
   "cell_type": "code",
   "execution_count": 1,
   "metadata": {},
   "outputs": [],
   "source": [
    "from tensorflow.keras.models import load_model\n",
    "from sklearn.metrics import confusion_matrix, roc_auc_score, roc_curve, precision_recall_curve, balanced_accuracy_score\n",
    "import matplotlib.pyplot as plt\n",
    "from numpy import load\n",
    "import os\n",
    "import pickle\n",
    "import numpy as np\n",
    "import tensorflow_addons as tfa\n",
    "import sklearn.metrics as metrics"
   ]
  },
  {
   "cell_type": "markdown",
   "metadata": {},
   "source": [
    "\n",
    "#  Set paths"
   ]
  },
  {
   "cell_type": "code",
   "execution_count": 2,
   "metadata": {},
   "outputs": [],
   "source": [
    "#set path to model folder\n",
    "model_path = 'C:\\\\Users\\\\SWONG\\\\PRS_project\\\\Model\\\\'\n",
    "\n",
    "#input name of model to be tested\n",
    "model_name_NN = 'Final_Arbitrator_6lyr_binaryCross_Weight5_YesAug_0.5Dropout.hdf5'\n",
    "model_name_LR = 'LogReg_Arbitrator.sav'\n",
    "model_name_SVM = 'SVM_Arbitrator.sav'\n",
    "arr_path = 'C:\\\\Users\\\\SWONG\\\\PRS_project\\\\Model\\\\numpy_baseClassifier_predictions\\\\'\n",
    "\n",
    "#set path to test images\n",
    "test_full_image_path_pos = 'C:\\\\Users\\\\SWONG\\\\PRS_project\\\\Data_Set\\\\test\\\\melanoma\\\\images\\\\'\n",
    "test_full_image_path_neg = 'C:\\\\Users\\\\SWONG\\\\PRS_project\\\\Data_Set\\\\test\\\\non_melanoma\\\\images\\\\'\n",
    "\n",
    "test_asym_image_path_pos = 'C:\\\\Users\\\\SWONG\\\\PRS_project\\\\Asym_data\\\\test\\\\melanoma\\\\'\n",
    "test_asym_image_path_neg = 'C:\\\\Users\\\\SWONG\\\\PRS_project\\\\Asym_data\\\\test\\\\non_melanoma\\\\'\n",
    "\n",
    "test_border_image_path_pos = 'C:\\\\Users\\\\SWONG\\\\PRS_project\\\\Border_data\\\\test\\\\melanoma\\\\'\n",
    "test_border_image_path_neg = 'C:\\\\Users\\\\SWONG\\\\PRS_project\\\\Border_data\\\\test\\\\non_melanoma\\\\'\n",
    "\n",
    "test_center_image_path_pos = 'C:\\\\Users\\\\SWONG\\\\PRS_project\\\\Data_Set\\\\test\\\\melanoma\\\\center_cropped\\\\'\n",
    "test_center_image_path_neg = 'C:\\\\Users\\\\SWONG\\\\PRS_project\\\\Data_set\\\\test\\\\non_melanoma\\\\center_cropped\\\\'\n",
    "\n",
    "test_bluewh_image_path_pos = 'C:\\\\Users\\\\SWONG\\\\PRS_project\\\\Data_Set\\\\test\\\\melanoma\\\\images\\\\'\n",
    "test_bluewh_image_path_neg = 'C:\\\\Users\\\\SWONG\\\\PRS_project\\\\Data_Set\\\\test\\\\non_melanoma\\\\images\\\\'"
   ]
  },
  {
   "cell_type": "markdown",
   "metadata": {},
   "source": [
    "# Store test image names in lists"
   ]
  },
  {
   "cell_type": "code",
   "execution_count": 3,
   "metadata": {},
   "outputs": [],
   "source": [
    "#getting the lists of melanoma and non_melanoma images\n",
    "image_list_pos = os.listdir(test_full_image_path_pos)\n",
    "image_list_neg = os.listdir(test_full_image_path_neg)\n",
    "\n",
    "image_full_list_all = []\n",
    "image_asym_list_all = []\n",
    "image_border_list_all = []\n",
    "image_center_list_all = []\n",
    "image_bluewh_list_all = []\n",
    "\n",
    "for image in image_list_pos:\n",
    "    image_full_list_all.append(os.path.join(test_full_image_path_pos,image))\n",
    "    image_asym_list_all.append(os.path.join(test_asym_image_path_pos,image))\n",
    "    image_border_list_all.append(os.path.join(test_border_image_path_pos,image))\n",
    "    image_center_list_all.append(os.path.join(test_center_image_path_pos,image))\n",
    "    image_bluewh_list_all.append(os.path.join(test_bluewh_image_path_pos,image))\n",
    "    \n",
    "for image in image_list_neg:\n",
    "    image_full_list_all.append(os.path.join(test_full_image_path_neg,image))\n",
    "    image_asym_list_all.append(os.path.join(test_asym_image_path_neg,image))\n",
    "    image_border_list_all.append(os.path.join(test_border_image_path_neg,image))\n",
    "    image_center_list_all.append(os.path.join(test_center_image_path_neg,image))\n",
    "    image_bluewh_list_all.append(os.path.join(test_bluewh_image_path_neg,image))"
   ]
  },
  {
   "cell_type": "markdown",
   "metadata": {},
   "source": [
    "# Load models to be tested "
   ]
  },
  {
   "cell_type": "code",
   "execution_count": 4,
   "metadata": {},
   "outputs": [],
   "source": [
    "#load models to be tested\n",
    "model_NN = load_model(os.path.join(model_path,model_name_NN))\n",
    "model_LR = pickle.load(open(model_path+model_name_LR, 'rb'))\n",
    "model_SVM = pickle.load(open(model_path+model_name_SVM, 'rb'))"
   ]
  },
  {
   "cell_type": "code",
   "execution_count": 5,
   "metadata": {},
   "outputs": [],
   "source": [
    "# load numpy arrays (base model predictions) from npy file to test LogReg and SVM arbitrator\n",
    "np_test_asym_preds = load(arr_path+'test_preds_asym.npy')\n",
    "np_test_border_preds = load(arr_path+'test_preds_border.npy')\n",
    "np_test_center_preds = load(arr_path+'test_preds_center.npy')\n",
    "np_test_orig_preds = load(arr_path+'test_preds_orig.npy')\n",
    "np_test_blueWhite_preds = load(arr_path+'test_preds_blueWhite.npy')"
   ]
  },
  {
   "cell_type": "markdown",
   "metadata": {},
   "source": [
    "# Function to preprocess test images to feed into model"
   ]
  },
  {
   "cell_type": "code",
   "execution_count": 6,
   "metadata": {},
   "outputs": [
    {
     "name": "stdout",
     "output_type": "stream",
     "text": [
      "(1002, 224, 224, 3)\n"
     ]
    }
   ],
   "source": [
    "from tensorflow.keras.preprocessing import image\n",
    "\n",
    "#preprocessing images to a nparray\n",
    "def image_preprocessing_all(img_list):\n",
    "    images = []\n",
    "    for img in img_list:\n",
    "        img = image.load_img(img,target_size=(224,224))\n",
    "        images.append(np.asarray(img))\n",
    "    images_np = np.array(images)\n",
    "    return images_np\n",
    "\n",
    "#storing all the test images in nparray format\n",
    "images_full_np = image_preprocessing_all(image_full_list_all)\n",
    "images_asym_np = image_preprocessing_all(image_asym_list_all)\n",
    "images_border_np = image_preprocessing_all(image_border_list_all)\n",
    "images_center_np = image_preprocessing_all(image_center_list_all)\n",
    "images_bluewh_np = image_preprocessing_all(image_bluewh_list_all)\n",
    "\n",
    "\n",
    "print(images_full_np.shape)"
   ]
  },
  {
   "cell_type": "markdown",
   "metadata": {},
   "source": [
    "# Storing the true image labels in a list (Y_test)"
   ]
  },
  {
   "cell_type": "code",
   "execution_count": 7,
   "metadata": {},
   "outputs": [],
   "source": [
    "#storing the true label for the images in labelled_class\n",
    "Y_test = []\n",
    "for img in image_list_pos:\n",
    "    Y_test.append(0)\n",
    "for img in image_list_neg:\n",
    "    Y_test.append(1)"
   ]
  },
  {
   "cell_type": "markdown",
   "metadata": {},
   "source": [
    "# Predict test image classes and store results "
   ]
  },
  {
   "cell_type": "code",
   "execution_count": 8,
   "metadata": {},
   "outputs": [],
   "source": [
    "#class probabilites for each image in test set\n",
    "raw_pred_probs = model_NN.predict([images_full_np,images_asym_np,images_border_np,images_center_np,images_bluewh_np])"
   ]
  },
  {
   "cell_type": "code",
   "execution_count": 15,
   "metadata": {},
   "outputs": [
    {
     "name": "stdout",
     "output_type": "stream",
     "text": [
      "Length of raw_pred_probs list:  1002\n",
      "Array shape of raw_pred_probs[0]:  (1,)\n",
      "Length of pred_class list:  1002\n",
      "Length of labelled_class list:  1002\n"
     ]
    }
   ],
   "source": [
    "#class predictions for each image based on probabilities\n",
    "Y_pred = []\n",
    "threshold = 0.5\n",
    "for pred in raw_pred_probs:\n",
    "    if (pred[0] <= threshold):\n",
    "        Y_pred.append(0)\n",
    "    elif (pred[0] > threshold):\n",
    "        Y_pred.append(1)\n",
    "    \n",
    "print('Length of raw_pred_probs list: ', len(raw_pred_probs))\n",
    "print('Array shape of raw_pred_probs[0]: ', raw_pred_probs[0].shape)\n",
    "print('Length of pred_class list: ', len(Y_pred))\n",
    "print('Length of labelled_class list: ',len(Y_test))"
   ]
  },
  {
   "cell_type": "code",
   "execution_count": 10,
   "metadata": {},
   "outputs": [],
   "source": [
    "# Concatenate the np arrays of base model predictions to form input test data for LogReg and SVM models\n",
    "X_test = np.concatenate(np.array([np_test_asym_preds, np_test_border_preds, np_test_center_preds, np_test_orig_preds, np_test_blueWhite_preds]), axis=1)"
   ]
  },
  {
   "cell_type": "code",
   "execution_count": 11,
   "metadata": {},
   "outputs": [],
   "source": [
    "#perform prediction on test data\n",
    "lr_pred_proba = model_LR.predict_proba(X_test)\n",
    "svm_pred_proba = model_SVM.predict_proba(X_test)"
   ]
  },
  {
   "cell_type": "markdown",
   "metadata": {},
   "source": [
    "# Report classification metrics"
   ]
  },
  {
   "cell_type": "markdown",
   "metadata": {},
   "source": [
    "# Final Arbitrator (NN)"
   ]
  },
  {
   "cell_type": "code",
   "execution_count": 16,
   "metadata": {},
   "outputs": [
    {
     "name": "stdout",
     "output_type": "stream",
     "text": [
      "Best accuracy (on testing dataset): 91.92%\n",
      "Balanced Accuracy:86.38%\n",
      "              precision    recall  f1-score   support\n",
      "\n",
      "    melanoma     0.6027    0.7928    0.6848       111\n",
      "      non_me     0.9731    0.9349    0.9536       891\n",
      "\n",
      "    accuracy                         0.9192      1002\n",
      "   macro avg     0.7879    0.8638    0.8192      1002\n",
      "weighted avg     0.9321    0.9192    0.9239      1002\n",
      "\n"
     ]
    }
   ],
   "source": [
    "labelname = ['melanoma', 'non_me']\n",
    "testScores  = metrics.accuracy_score(Y_test,Y_pred)\n",
    "\n",
    "print(\"Best accuracy (on testing dataset): %.2f%%\" % (testScores*100))\n",
    "print(\"Balanced Accuracy:%.2f%%\" %(balanced_accuracy_score(Y_test, Y_pred)*100))\n",
    "print(metrics.classification_report(Y_test,\n",
    "                                    Y_pred,\n",
    "                                    target_names=labelname,\n",
    "                                    digits=4))"
   ]
  },
  {
   "cell_type": "markdown",
   "metadata": {},
   "source": [
    "# Model evaluation using accuracy and loss"
   ]
  },
  {
   "cell_type": "code",
   "execution_count": 12,
   "metadata": {},
   "outputs": [],
   "source": [
    "#generating the labelled_class2D array for evaluation metrics\n",
    "labelled_class2D = []\n",
    "\n",
    "for img in image_list_pos:\n",
    "    labelled_class2D.append((0))\n",
    "for img in image_list_neg:\n",
    "    labelled_class2D.append((1))\n",
    "\n",
    "labelled_class2D = np.array(labelled_class2D)"
   ]
  },
  {
   "cell_type": "code",
   "execution_count": 13,
   "metadata": {},
   "outputs": [
    {
     "name": "stdout",
     "output_type": "stream",
     "text": [
      "Test loss: 0.20752432942390442\n",
      "Test accuracy: 0.9191616773605347\n"
     ]
    }
   ],
   "source": [
    "score = model_NN.evaluate([images_full_np,images_asym_np,images_border_np,images_center_np,images_bluewh_np], np.array(labelled_class2D), verbose = 0) \n",
    "\n",
    "print('Test loss:', score[0]) \n",
    "print('Test accuracy:', score[1])"
   ]
  },
  {
   "cell_type": "markdown",
   "metadata": {},
   "source": [
    "# Print Confusion Matrix"
   ]
  },
  {
   "cell_type": "code",
   "execution_count": 14,
   "metadata": {},
   "outputs": [
    {
     "name": "stdout",
     "output_type": "stream",
     "text": [
      "[[ 88  23]\n",
      " [ 58 833]]\n"
     ]
    }
   ],
   "source": [
    "confusion = metrics.confusion_matrix(Y_test,Y_pred)\n",
    "print(confusion)"
   ]
  },
  {
   "cell_type": "markdown",
   "metadata": {},
   "source": [
    "# AUC Score"
   ]
  },
  {
   "cell_type": "code",
   "execution_count": 15,
   "metadata": {
    "scrolled": true
   },
   "outputs": [
    {
     "name": "stdout",
     "output_type": "stream",
     "text": [
      "AUC Score (final arbitrator (NN)):  0.9472199472199473\n",
      "AUC Score (logistic regression):  0.9420834976390532\n",
      "AUC Score (SVM):  0.9308702642035975\n"
     ]
    }
   ],
   "source": [
    "#getting the predicted probability list of class melanoma\n",
    "raw_prob_class_mel = []\n",
    "for pred in raw_pred_probs:\n",
    "    raw_prob_class_mel.append(pred[0])\n",
    "\n",
    "#getting AUC score\n",
    "roc_auc = roc_auc_score(Y_test, raw_prob_class_mel)\n",
    "roc_auc_lr = roc_auc_score(Y_test, lr_pred_proba[:,1])\n",
    "roc_auc_svm = roc_auc_score(Y_test, svm_pred_proba[:,1])\n",
    "\n",
    "print(\"AUC Score (final arbitrator (NN)): \", roc_auc)\n",
    "print(\"AUC Score (logistic regression): \", roc_auc_lr)\n",
    "print(\"AUC Score (SVM): \", roc_auc_svm)"
   ]
  },
  {
   "cell_type": "markdown",
   "metadata": {},
   "source": [
    "# Plot ROC curve and save"
   ]
  },
  {
   "cell_type": "code",
   "execution_count": 16,
   "metadata": {
    "scrolled": false
   },
   "outputs": [
    {
     "data": {
      "image/png": "[encoded data removed]",
      "text/plain": [
       "<Figure size 432x288 with 1 Axes>"
      ]
     },
     "metadata": {
      "needs_background": "light"
     },
     "output_type": "display_data"
    },
    {
     "name": "stdout",
     "output_type": "stream",
     "text": [
      "Path to plot: C:\\Users\\SWONG\\PRS_project\\Model\\Final_Arbitrator_6lyr_binaryCross_Weight5_YesAug_0_roc.png\n"
     ]
    }
   ],
   "source": [
    "#plotting ROC\n",
    "fpr, tpr, thresholds = metrics.roc_curve(Y_test, raw_prob_class_mel, pos_label=0)\n",
    "fpr1, tpr1, thresholds1 = roc_curve(Y_test, lr_pred_proba[:,1])\n",
    "fpr2, tpr2, thresholds2 = roc_curve(Y_test, svm_pred_proba[:,1])\n",
    "\n",
    "plt.figure()\n",
    "plt.plot([0,1],[0,1],'--', label='Random Classifier')\n",
    "plt.plot(tpr,fpr,label='ROC Curve Final Arbitrator (NN) (area = %0.4f)' %roc_auc)\n",
    "plt.plot(fpr1,tpr1,label='ROC Curve LogReg(area = %0.4f)' %roc_auc_lr)\n",
    "plt.plot(fpr2,tpr2,label='ROC Curve SVM(area = %0.4f)' %roc_auc_svm)\n",
    "\n",
    "plt.xlabel('False Positive Rate')\n",
    "plt.ylabel('True Positive Rate')\n",
    "plt.title(\"ROC Curves comparison for different arbitrators\")\n",
    "plt.legend(loc=\"lower right\")\n",
    "\n",
    "roc_plotpath  = model_path + model_name_NN.split('.')[0] + '_roc.png'\n",
    "plt.savefig(roc_plotpath)\n",
    "plt.show()\n",
    "print(\"Path to plot:\", roc_plotpath)"
   ]
  },
  {
   "cell_type": "markdown",
   "metadata": {},
   "source": [
    "# Plot Precision-Recall curve and save"
   ]
  },
  {
   "cell_type": "code",
   "execution_count": 17,
   "metadata": {},
   "outputs": [
    {
     "data": {
      "image/png": "[encoded data removed]",
      "text/plain": [
       "<Figure size 432x288 with 1 Axes>"
      ]
     },
     "metadata": {
      "needs_background": "light"
     },
     "output_type": "display_data"
    },
    {
     "name": "stdout",
     "output_type": "stream",
     "text": [
      "Path to plot: C:\\Users\\SWONG\\PRS_project\\Model\\PR_Curves.png\n"
     ]
    }
   ],
   "source": [
    "# plot precision-recall curve\n",
    "precision1, recall1, thresholds1 = precision_recall_curve(Y_test, raw_prob_class_mel)\n",
    "precision2, recall2, thresholds2 = precision_recall_curve(Y_test, lr_pred_proba[:,1])\n",
    "precision3, recall3, thresholds3 = precision_recall_curve(Y_test, svm_pred_proba[:,1])\n",
    "\n",
    "plt.figure()\n",
    "plt.plot(recall1,precision1,label='PR Curve Final Arbitrator (NN) (area = %0.5f)' %metrics.auc(recall1,precision1))\n",
    "plt.plot(recall2,precision2,label='PR Curve LogReg Arbitrator (area = %0.5f)' %metrics.auc(recall2,precision2))\n",
    "plt.plot(recall3,precision3,label='PR Curve SVM Arbitrator (area = %0.5f)' %metrics.auc(recall3,precision3))\n",
    "\n",
    "plt.xlabel('Recall')\n",
    "plt.ylabel('Precision')\n",
    "plt.title(\"Precision-Recall Curves\")\n",
    "plt.legend(loc=\"lower right\")\n",
    "\n",
    "PR_curce_plotpath  = model_path + 'PR_Curves.png'\n",
    "plt.savefig(roc_plotpath)\n",
    "plt.show()\n",
    "print(\"Path to plot:\", PR_curce_plotpath)"
   ]
  },
  {
   "cell_type": "code",
   "execution_count": null,
   "metadata": {},
   "outputs": [],
   "source": []
  }
 ],
 "metadata": {
  "kernelspec": {
   "display_name": "Python 3",
   "language": "python",
   "name": "python3"
  },
  "language_info": {
   "codemirror_mode": {
    "name": "ipython",
    "version": 3
   },
   "file_extension": ".py",
   "mimetype": "text/x-python",
   "name": "python",
   "nbconvert_exporter": "python",
   "pygments_lexer": "ipython3",
   "version": "3.8.5"
  }
 },
 "nbformat": 4,
 "nbformat_minor": 4
}
