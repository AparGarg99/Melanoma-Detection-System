{
 "cells": [
  {
   "cell_type": "markdown",
   "metadata": {},
   "source": [
    "# Import required packages"
   ]
  },
  {
   "cell_type": "code",
   "execution_count": 15,
   "metadata": {},
   "outputs": [],
   "source": [
    "from numpy import load\n",
    "import numpy as np\n",
    "import pandas as pd\n",
    "from sklearn.svm import SVC\n",
    "from sklearn.model_selection import GridSearchCV\n",
    "from pycm import ConfusionMatrix\n",
    "from sklearn.metrics import accuracy_score, balanced_accuracy_score, confusion_matrix, classification_report, roc_curve, auc, roc_auc_score\n",
    "import matplotlib.pyplot as plt\n",
    "import pickle"
   ]
  },
  {
   "cell_type": "markdown",
   "metadata": {},
   "source": [
    "# Set path to base models val/test predictions (numpy arrays) and load them"
   ]
  },
  {
   "cell_type": "code",
   "execution_count": 2,
   "metadata": {},
   "outputs": [],
   "source": [
    "model_path = 'C:\\\\Users\\\\SWONG\\\\PRS_project\\\\Model\\\\'\n",
    "arr_path = 'C:\\\\Users\\\\SWONG\\\\PRS_project\\\\Model\\\\numpy_baseClassifier_predictions\\\\'\n",
    "\n",
    "# load numpy array from npy file\n",
    "np_val_asym_preds = load(arr_path+'val_preds_asym.npy')\n",
    "np_val_border_preds = load(arr_path+'val_preds_border.npy')\n",
    "np_val_center_preds = load(arr_path+'val_preds_center.npy')\n",
    "np_val_orig_preds = load(arr_path+'val_preds_orig.npy')\n",
    "np_val_blueWhite_preds = load(arr_path+'val_preds_blueWhite.npy')\n",
    "\n",
    "np_test_asym_preds = load(arr_path+'test_preds_asym.npy')\n",
    "np_test_border_preds = load(arr_path+'test_preds_border.npy')\n",
    "np_test_center_preds = load(arr_path+'test_preds_center.npy')\n",
    "np_test_orig_preds = load(arr_path+'test_preds_orig.npy')\n",
    "np_test_blueWhite_preds = load(arr_path+'test_preds_blueWhite.npy')"
   ]
  },
  {
   "cell_type": "code",
   "execution_count": 3,
   "metadata": {},
   "outputs": [],
   "source": [
    "#storing the true labels in lists\n",
    "train_labelled_class = [0]*902 + [1]*7209\n",
    "val_labelled_class = [0]*100 + [1]*802\n",
    "test_labelled_class = [0]*111 + [1]*891"
   ]
  },
  {
   "cell_type": "markdown",
   "metadata": {},
   "source": [
    "# Define the X (input) and the Y (true labels) for val and test data"
   ]
  },
  {
   "cell_type": "code",
   "execution_count": 4,
   "metadata": {},
   "outputs": [],
   "source": [
    "X_val = np.concatenate(np.array([np_val_asym_preds, np_val_border_preds, np_val_center_preds, np_val_orig_preds, np_val_blueWhite_preds]), axis=1)\n",
    "Y_val = np.array(val_labelled_class)\n",
    "X_test = np.concatenate(np.array([np_test_asym_preds, np_test_border_preds, np_test_center_preds, np_test_orig_preds, np_test_blueWhite_preds]), axis=1)\n",
    "Y_test = np.array(test_labelled_class)"
   ]
  },
  {
   "cell_type": "markdown",
   "metadata": {},
   "source": [
    "# Search for model parameters using GridSearchCV"
   ]
  },
  {
   "cell_type": "code",
   "execution_count": 5,
   "metadata": {},
   "outputs": [
    {
     "data": {
      "text/plain": [
       "GridSearchCV(estimator=SVC(),\n",
       "             param_grid={'C': [0.01, 0.1, 1, 10, 100, 1000],\n",
       "                         'gamma': ['scale', 'auto'],\n",
       "                         'kernel': ['rbf', 'poly', 'sigmoid', 'linear']})"
      ]
     },
     "execution_count": 5,
     "metadata": {},
     "output_type": "execute_result"
    }
   ],
   "source": [
    "param_grid = {'C':[0.01,0.1,1,10,100,1000],'kernel':['rbf','poly','sigmoid','linear'],'gamma':['scale','auto']}\n",
    "grid = GridSearchCV(SVC(), param_grid)\n",
    "grid.fit(X_val,Y_val)"
   ]
  },
  {
   "cell_type": "code",
   "execution_count": 6,
   "metadata": {},
   "outputs": [
    {
     "name": "stdout",
     "output_type": "stream",
     "text": [
      "{'C': 100, 'gamma': 'auto', 'kernel': 'rbf'}\n",
      "0.9301397205588823\n"
     ]
    }
   ],
   "source": [
    "print(grid.best_params_)\n",
    "print(grid.score(X_test, Y_test))"
   ]
  },
  {
   "cell_type": "markdown",
   "metadata": {},
   "source": [
    "# Train SVM classifier using base models val predictions"
   ]
  },
  {
   "cell_type": "code",
   "execution_count": 7,
   "metadata": {},
   "outputs": [],
   "source": [
    "svm_clf = SVC(C=100, kernel='rbf', gamma='auto', probability=True, class_weight='balanced')\n",
    "svm_clf.fit(X_val, Y_val)\n",
    "svm_pred_class = svm_clf.predict(X_test)\n",
    "svm_pred_proba = svm_clf.predict_proba(X_test)"
   ]
  },
  {
   "cell_type": "markdown",
   "metadata": {},
   "source": [
    "# SVM Accuracy, Classification Report, Confusion Matrix"
   ]
  },
  {
   "cell_type": "code",
   "execution_count": 24,
   "metadata": {},
   "outputs": [
    {
     "name": "stdout",
     "output_type": "stream",
     "text": [
      "Accuracy:87.92%\n",
      "Balanced Accuracy: 0.869005369005369\n",
      "Report:               precision    recall  f1-score   support\n",
      "\n",
      "    melanoma     0.4750    0.8559    0.6109       111\n",
      "      non_me     0.9800    0.8822    0.9285       891\n",
      "\n",
      "    accuracy                         0.8792      1002\n",
      "   macro avg     0.7275    0.8690    0.7697      1002\n",
      "weighted avg     0.9241    0.8792    0.8933      1002\n",
      "\n"
     ]
    }
   ],
   "source": [
    "#SVM classifier, trained on base model valiadation data predictions\n",
    "labelname = ['melanoma', 'non_me']\n",
    "\n",
    "print(\"Accuracy:%.2f%%\" %(accuracy_score(Y_test,svm_pred_class)*100))\n",
    "print(\"Balanced Accuracy:\",balanced_accuracy_score(Y_test, svm_pred_class))\n",
    "print(\"Report:\", classification_report(Y_test,\n",
    "                                       svm_pred_class,\n",
    "                                       target_names=labelname,\n",
    "                                        digits=4))"
   ]
  },
  {
   "cell_type": "code",
   "execution_count": 9,
   "metadata": {},
   "outputs": [
    {
     "name": "stdout",
     "output_type": "stream",
     "text": [
      "Predict   0         1         \n",
      "Actual\n",
      "0         95        16        \n",
      "\n",
      "1         105       786       \n",
      "\n",
      "\n",
      "\n",
      "\n",
      "\n",
      "Overall Statistics : \n",
      "\n",
      "95% CI                                                            (0.85907,0.89942)\n",
      "ACC Macro                                                         0.87924\n",
      "ARI                                                               0.45622\n",
      "AUNP                                                              0.86901\n",
      "AUNU                                                              0.86901\n",
      "Bangdiwala B                                                      0.85076\n",
      "Bennett S                                                         0.75848\n",
      "CBA                                                               0.67858\n",
      "CSI                                                               0.59653\n",
      "Chi-Squared                                                       336.50336\n",
      "Chi-Squared DF                                                    1\n",
      "Conditional Entropy                                               0.53109\n",
      "Cramer V                                                          0.57951\n",
      "Cross Entropy                                                     0.54316\n",
      "F1 Macro                                                          0.76973\n",
      "F1 Micro                                                          0.87924\n",
      "FNR Macro                                                         0.13099\n",
      "FNR Micro                                                         0.12076\n",
      "FPR Macro                                                         0.13099\n",
      "FPR Micro                                                         0.12076\n",
      "Gwet AC1                                                          0.83632\n",
      "Hamming Loss                                                      0.12076\n",
      "Joint Entropy                                                     1.03335\n",
      "KL Divergence                                                     0.0409\n",
      "Kappa                                                             0.54629\n",
      "Kappa 95% CI                                                      (0.47048,0.62209)\n",
      "Kappa No Prevalence                                               0.75848\n",
      "Kappa Standard Error                                              0.03868\n",
      "Kappa Unbiased                                                    0.53946\n",
      "Krippendorff Alpha                                                0.53969\n",
      "Lambda A                                                          0.0\n",
      "Lambda B                                                          0.395\n",
      "Mutual Information                                                0.19003\n",
      "NIR                                                               0.88922\n",
      "Overall ACC                                                       0.87924\n",
      "Overall CEN                                                       0.38012\n",
      "Overall J                                                         (1.30641,0.6532)\n",
      "Overall MCC                                                       0.57951\n",
      "Overall MCEN                                                      0.294\n",
      "Overall RACC                                                      0.73384\n",
      "Overall RACCU                                                     0.73779\n",
      "P-Value                                                           0.85444\n",
      "PPV Macro                                                         0.72752\n",
      "PPV Micro                                                         0.87924\n",
      "Pearson C                                                         0.5014\n",
      "Phi-Squared                                                       0.33583\n",
      "RCI                                                               0.37836\n",
      "RR                                                                501.0\n",
      "Reference Entropy                                                 0.50226\n",
      "Response Entropy                                                  0.72113\n",
      "SOA1(Landis & Koch)                                               Moderate\n",
      "SOA2(Fleiss)                                                      Intermediate to Good\n",
      "SOA3(Altman)                                                      Moderate\n",
      "SOA4(Cicchetti)                                                   Fair\n",
      "SOA5(Cramer)                                                      Relatively Strong\n",
      "SOA6(Matthews)                                                    Moderate\n",
      "Scott PI                                                          0.53946\n",
      "Standard Error                                                    0.01029\n",
      "TNR Macro                                                         0.86901\n",
      "TNR Micro                                                         0.87924\n",
      "TPR Macro                                                         0.86901\n",
      "TPR Micro                                                         0.87924\n",
      "Zero-one Loss                                                     121\n",
      "\n",
      "Class Statistics :\n",
      "\n",
      "Classes                                                           0             1             \n",
      "ACC(Accuracy)                                                     0.87924       0.87924       \n",
      "AGF(Adjusted F-score)                                             0.84093       0.68508       \n",
      "AGM(Adjusted geometric mean)                                      0.87514       0.8676        \n",
      "AM(Difference between automatic and manual classification)        89            -89           \n",
      "AUC(Area under the ROC curve)                                     0.86901       0.86901       \n",
      "AUCI(AUC value interpretation)                                    Very Good     Very Good     \n",
      "AUPR(Area under the PR curve)                                     0.66543       0.9311        \n",
      "BCD(Bray-Curtis dissimilarity)                                    0.04441       0.04441       \n",
      "BM(Informedness or bookmaker informedness)                        0.73801       0.73801       \n",
      "CEN(Confusion entropy)                                            0.74912       0.31233       \n",
      "DOR(Diagnostic odds ratio)                                        44.44643      44.44643      \n",
      "DP(Discriminant power)                                            0.9085        0.9085        \n",
      "DPI(Discriminant power interpretation)                            Poor          Poor          \n",
      "ERR(Error rate)                                                   0.12076       0.12076       \n",
      "F0.5(F0.5 score)                                                  0.52141       0.95877       \n",
      "F1(F1 score - harmonic mean of precision and sensitivity)         0.61093       0.92853       \n",
      "F2(F2 score)                                                      0.73758       0.90014       \n",
      "FDR(False discovery rate)                                         0.525         0.01995       \n",
      "FN(False negative/miss/type 2 error)                              16            105           \n",
      "FNR(Miss rate or false negative rate)                             0.14414       0.11785       \n",
      "FOR(False omission rate)                                          0.01995       0.525         \n",
      "FP(False positive/type 1 error/false alarm)                       105           16            \n",
      "FPR(Fall-out or false positive rate)                              0.11785       0.14414       \n",
      "G(G-measure geometric mean of precision and sensitivity)          0.6376        0.92981       \n",
      "GI(Gini index)                                                    0.73801       0.73801       \n",
      "GM(G-mean geometric mean of specificity and sensitivity)          0.86891       0.86891       \n",
      "IBA(Index of balanced accuracy)                                   0.73514       0.77485       \n",
      "ICSI(Individual classification success index)                     0.33086       0.8622        \n",
      "IS(Information score)                                             2.10025       0.14031       \n",
      "J(Jaccard index)                                                  0.43981       0.86659       \n",
      "LS(Lift score)                                                    4.28784       1.10214       \n",
      "MCC(Matthews correlation coefficient)                             0.57951       0.57951       \n",
      "MCCI(Matthews correlation coefficient interpretation)             Moderate      Moderate      \n",
      "MCEN(Modified confusion entropy)                                  0.78401       0.46287       \n",
      "MK(Markedness)                                                    0.45505       0.45505       \n",
      "N(Condition negative)                                             891           111           \n",
      "NLR(Negative likelihood ratio)                                    0.1634        0.13769       \n",
      "NLRI(Negative likelihood ratio interpretation)                    Fair          Fair          \n",
      "NPV(Negative predictive value)                                    0.98005       0.475         \n",
      "OC(Overlap coefficient)                                           0.85586       0.98005       \n",
      "OOC(Otsuka-Ochiai coefficient)                                    0.6376        0.92981       \n",
      "OP(Optimized precision)                                           0.86411       0.86411       \n",
      "P(Condition positive or support)                                  111           891           \n",
      "PLR(Positive likelihood ratio)                                    7.26255       6.11995       \n",
      "PLRI(Positive likelihood ratio interpretation)                    Fair          Fair          \n",
      "POP(Population)                                                   1002          1002          \n",
      "PPV(Precision or positive predictive value)                       0.475         0.98005       \n",
      "PRE(Prevalence)                                                   0.11078       0.88922       \n",
      "Q(Yule Q - coefficient of colligation)                            0.95599       0.95599       \n",
      "QI(Yule Q interpretation)                                         Strong        Strong        \n",
      "RACC(Random accuracy)                                             0.02211       0.71173       \n",
      "RACCU(Random accuracy unbiased)                                   0.02408       0.7137        \n",
      "TN(True negative/correct rejection)                               786           95            \n",
      "TNR(Specificity or true negative rate)                            0.88215       0.85586       \n",
      "TON(Test outcome negative)                                        802           200           \n",
      "TOP(Test outcome positive)                                        200           802           \n",
      "TP(True positive/hit)                                             95            786           \n",
      "TPR(Sensitivity, recall, hit rate, or true positive rate)         0.85586       0.88215       \n",
      "Y(Youden index)                                                   0.73801       0.73801       \n",
      "dInd(Distance index)                                              0.18619       0.18619       \n",
      "sInd(Similarity index)                                            0.86835       0.86835       \n",
      "\n"
     ]
    }
   ],
   "source": [
    "print(ConfusionMatrix(actual_vector=list(Y_test),predict_vector=(svm_pred_class)))"
   ]
  },
  {
   "cell_type": "code",
   "execution_count": 17,
   "metadata": {},
   "outputs": [
    {
     "name": "stdout",
     "output_type": "stream",
     "text": [
      "Accuracy: 91.81636726546905\n",
      "Balanced Accuracy: 0.7607607607607607\n",
      "Report:               precision    recall  f1-score   support\n",
      "\n",
      "           0       0.65      0.56      0.60       111\n",
      "           1       0.95      0.96      0.95       891\n",
      "\n",
      "    accuracy                           0.92      1002\n",
      "   macro avg       0.80      0.76      0.78      1002\n",
      "weighted avg       0.91      0.92      0.92      1002\n",
      "\n"
     ]
    }
   ],
   "source": [
    "#SVM classifier, trained on base model valiadation data predictions\n",
    "\n",
    "#class predictions for each image based on probabilities\n",
    "Y_pred = []\n",
    "threshold = 0.5\n",
    "\n",
    "for pred in svm_pred_proba[:,1]:\n",
    "    if (pred <= threshold):\n",
    "        Y_pred.append(0)\n",
    "    elif (pred > threshold):\n",
    "        Y_pred.append(1)\n",
    "\n",
    "print(\"Accuracy:\",accuracy_score(Y_test, Y_pred)*100)\n",
    "print(\"Balanced Accuracy:\",balanced_accuracy_score(Y_test, Y_pred))\n",
    "print(\"Report:\", classification_report(Y_test, Y_pred))"
   ]
  },
  {
   "cell_type": "code",
   "execution_count": 11,
   "metadata": {},
   "outputs": [
    {
     "name": "stdout",
     "output_type": "stream",
     "text": [
      "Predict   0         1         \n",
      "Actual\n",
      "0         95        16        \n",
      "\n",
      "1         105       786       \n",
      "\n",
      "\n",
      "\n",
      "\n",
      "\n",
      "Overall Statistics : \n",
      "\n",
      "95% CI                                                            (0.85907,0.89942)\n",
      "ACC Macro                                                         0.87924\n",
      "ARI                                                               0.45622\n",
      "AUNP                                                              0.86901\n",
      "AUNU                                                              0.86901\n",
      "Bangdiwala B                                                      0.85076\n",
      "Bennett S                                                         0.75848\n",
      "CBA                                                               0.67858\n",
      "CSI                                                               0.59653\n",
      "Chi-Squared                                                       336.50336\n",
      "Chi-Squared DF                                                    1\n",
      "Conditional Entropy                                               0.53109\n",
      "Cramer V                                                          0.57951\n",
      "Cross Entropy                                                     0.54316\n",
      "F1 Macro                                                          0.76973\n",
      "F1 Micro                                                          0.87924\n",
      "FNR Macro                                                         0.13099\n",
      "FNR Micro                                                         0.12076\n",
      "FPR Macro                                                         0.13099\n",
      "FPR Micro                                                         0.12076\n",
      "Gwet AC1                                                          0.83632\n",
      "Hamming Loss                                                      0.12076\n",
      "Joint Entropy                                                     1.03335\n",
      "KL Divergence                                                     0.0409\n",
      "Kappa                                                             0.54629\n",
      "Kappa 95% CI                                                      (0.47048,0.62209)\n",
      "Kappa No Prevalence                                               0.75848\n",
      "Kappa Standard Error                                              0.03868\n",
      "Kappa Unbiased                                                    0.53946\n",
      "Krippendorff Alpha                                                0.53969\n",
      "Lambda A                                                          0.0\n",
      "Lambda B                                                          0.395\n",
      "Mutual Information                                                0.19003\n",
      "NIR                                                               0.88922\n",
      "Overall ACC                                                       0.87924\n",
      "Overall CEN                                                       0.38012\n",
      "Overall J                                                         (1.30641,0.6532)\n",
      "Overall MCC                                                       0.57951\n",
      "Overall MCEN                                                      0.294\n",
      "Overall RACC                                                      0.73384\n",
      "Overall RACCU                                                     0.73779\n",
      "P-Value                                                           0.85444\n",
      "PPV Macro                                                         0.72752\n",
      "PPV Micro                                                         0.87924\n",
      "Pearson C                                                         0.5014\n",
      "Phi-Squared                                                       0.33583\n",
      "RCI                                                               0.37836\n",
      "RR                                                                501.0\n",
      "Reference Entropy                                                 0.50226\n",
      "Response Entropy                                                  0.72113\n",
      "SOA1(Landis & Koch)                                               Moderate\n",
      "SOA2(Fleiss)                                                      Intermediate to Good\n",
      "SOA3(Altman)                                                      Moderate\n",
      "SOA4(Cicchetti)                                                   Fair\n",
      "SOA5(Cramer)                                                      Relatively Strong\n",
      "SOA6(Matthews)                                                    Moderate\n",
      "Scott PI                                                          0.53946\n",
      "Standard Error                                                    0.01029\n",
      "TNR Macro                                                         0.86901\n",
      "TNR Micro                                                         0.87924\n",
      "TPR Macro                                                         0.86901\n",
      "TPR Micro                                                         0.87924\n",
      "Zero-one Loss                                                     121\n",
      "\n",
      "Class Statistics :\n",
      "\n",
      "Classes                                                           0             1             \n",
      "ACC(Accuracy)                                                     0.87924       0.87924       \n",
      "AGF(Adjusted F-score)                                             0.84093       0.68508       \n",
      "AGM(Adjusted geometric mean)                                      0.87514       0.8676        \n",
      "AM(Difference between automatic and manual classification)        89            -89           \n",
      "AUC(Area under the ROC curve)                                     0.86901       0.86901       \n",
      "AUCI(AUC value interpretation)                                    Very Good     Very Good     \n",
      "AUPR(Area under the PR curve)                                     0.66543       0.9311        \n",
      "BCD(Bray-Curtis dissimilarity)                                    0.04441       0.04441       \n",
      "BM(Informedness or bookmaker informedness)                        0.73801       0.73801       \n",
      "CEN(Confusion entropy)                                            0.74912       0.31233       \n",
      "DOR(Diagnostic odds ratio)                                        44.44643      44.44643      \n",
      "DP(Discriminant power)                                            0.9085        0.9085        \n",
      "DPI(Discriminant power interpretation)                            Poor          Poor          \n",
      "ERR(Error rate)                                                   0.12076       0.12076       \n",
      "F0.5(F0.5 score)                                                  0.52141       0.95877       \n",
      "F1(F1 score - harmonic mean of precision and sensitivity)         0.61093       0.92853       \n",
      "F2(F2 score)                                                      0.73758       0.90014       \n",
      "FDR(False discovery rate)                                         0.525         0.01995       \n",
      "FN(False negative/miss/type 2 error)                              16            105           \n",
      "FNR(Miss rate or false negative rate)                             0.14414       0.11785       \n",
      "FOR(False omission rate)                                          0.01995       0.525         \n",
      "FP(False positive/type 1 error/false alarm)                       105           16            \n",
      "FPR(Fall-out or false positive rate)                              0.11785       0.14414       \n",
      "G(G-measure geometric mean of precision and sensitivity)          0.6376        0.92981       \n",
      "GI(Gini index)                                                    0.73801       0.73801       \n",
      "GM(G-mean geometric mean of specificity and sensitivity)          0.86891       0.86891       \n",
      "IBA(Index of balanced accuracy)                                   0.73514       0.77485       \n",
      "ICSI(Individual classification success index)                     0.33086       0.8622        \n",
      "IS(Information score)                                             2.10025       0.14031       \n",
      "J(Jaccard index)                                                  0.43981       0.86659       \n",
      "LS(Lift score)                                                    4.28784       1.10214       \n",
      "MCC(Matthews correlation coefficient)                             0.57951       0.57951       \n",
      "MCCI(Matthews correlation coefficient interpretation)             Moderate      Moderate      \n",
      "MCEN(Modified confusion entropy)                                  0.78401       0.46287       \n",
      "MK(Markedness)                                                    0.45505       0.45505       \n",
      "N(Condition negative)                                             891           111           \n",
      "NLR(Negative likelihood ratio)                                    0.1634        0.13769       \n",
      "NLRI(Negative likelihood ratio interpretation)                    Fair          Fair          \n",
      "NPV(Negative predictive value)                                    0.98005       0.475         \n",
      "OC(Overlap coefficient)                                           0.85586       0.98005       \n",
      "OOC(Otsuka-Ochiai coefficient)                                    0.6376        0.92981       \n",
      "OP(Optimized precision)                                           0.86411       0.86411       \n",
      "P(Condition positive or support)                                  111           891           \n",
      "PLR(Positive likelihood ratio)                                    7.26255       6.11995       \n",
      "PLRI(Positive likelihood ratio interpretation)                    Fair          Fair          \n",
      "POP(Population)                                                   1002          1002          \n",
      "PPV(Precision or positive predictive value)                       0.475         0.98005       \n",
      "PRE(Prevalence)                                                   0.11078       0.88922       \n",
      "Q(Yule Q - coefficient of colligation)                            0.95599       0.95599       \n",
      "QI(Yule Q interpretation)                                         Strong        Strong        \n",
      "RACC(Random accuracy)                                             0.02211       0.71173       \n",
      "RACCU(Random accuracy unbiased)                                   0.02408       0.7137        \n",
      "TN(True negative/correct rejection)                               786           95            \n",
      "TNR(Specificity or true negative rate)                            0.88215       0.85586       \n",
      "TON(Test outcome negative)                                        802           200           \n",
      "TOP(Test outcome positive)                                        200           802           \n",
      "TP(True positive/hit)                                             95            786           \n",
      "TPR(Sensitivity, recall, hit rate, or true positive rate)         0.85586       0.88215       \n",
      "Y(Youden index)                                                   0.73801       0.73801       \n",
      "dInd(Distance index)                                              0.18619       0.18619       \n",
      "sInd(Similarity index)                                            0.86835       0.86835       \n",
      "\n"
     ]
    }
   ],
   "source": [
    "print(ConfusionMatrix(actual_vector=list(Y_test),predict_vector=(svm_pred_class)))"
   ]
  },
  {
   "cell_type": "markdown",
   "metadata": {},
   "source": [
    "# AUC Score"
   ]
  },
  {
   "cell_type": "code",
   "execution_count": 12,
   "metadata": {},
   "outputs": [
    {
     "name": "stdout",
     "output_type": "stream",
     "text": [
      "AUC Score (SVM):  0.8690053690053691\n",
      "AUC Score (SVM (proba)):  0.9308601530823754\n"
     ]
    }
   ],
   "source": [
    "#getting AUC score\n",
    "roc_auc_svm = roc_auc_score(Y_test, svm_pred_class)\n",
    "roc_auc_svm_proba = roc_auc_score(Y_test, svm_pred_proba[:,1])\n",
    "\n",
    "print(\"AUC Score (SVM): \", roc_auc_svm)\n",
    "print(\"AUC Score (SVM (proba)): \", roc_auc_svm_proba)"
   ]
  },
  {
   "cell_type": "markdown",
   "metadata": {},
   "source": [
    "# Plot ROC curve and save"
   ]
  },
  {
   "cell_type": "code",
   "execution_count": 13,
   "metadata": {},
   "outputs": [
    {
     "data": {
      "image/png": "[encoded data removed]",
      "text/plain": [
       "<Figure size 432x288 with 1 Axes>"
      ]
     },
     "metadata": {
      "needs_background": "light"
     },
     "output_type": "display_data"
    },
    {
     "name": "stdout",
     "output_type": "stream",
     "text": [
      "Path to plot: C:\\Users\\SWONG\\PRS_project\\Model\\SVM_Arbitrator_roc.png\n"
     ]
    }
   ],
   "source": [
    "#plotting ROC\n",
    "fpr1, tpr1, thresholds1 = roc_curve(Y_test, svm_pred_class)\n",
    "fpr2, tpr2, thresholds2 = roc_curve(Y_test, svm_pred_proba[:,1])\n",
    "\n",
    "plt.figure()\n",
    "plt.plot([0,1],[0,1],'--', label='Random Classifier')\n",
    "plt.plot(fpr1,tpr1,label='ROC Curve SVM(area = %0.3f)' %roc_auc_svm)\n",
    "plt.plot(fpr2,tpr2,label='ROC Curve SVM_proba(area = %0.3f)' %roc_auc_svm_proba)\n",
    "\n",
    "plt.xlabel('False Positive Rate')\n",
    "plt.ylabel('True Positive Rate')\n",
    "plt.title(\"ROC Curves\")\n",
    "plt.legend(loc=\"lower right\")\n",
    "\n",
    "roc_plotpath  = model_path + 'SVM_Arbitrator' + '_roc.png'\n",
    "plt.savefig(roc_plotpath)\n",
    "plt.show()\n",
    "print(\"Path to plot:\", roc_plotpath)"
   ]
  },
  {
   "cell_type": "markdown",
   "metadata": {},
   "source": [
    "# Save model to disk"
   ]
  },
  {
   "cell_type": "code",
   "execution_count": 14,
   "metadata": {},
   "outputs": [],
   "source": [
    "# save the model to disk\n",
    "filename = 'SVM_Arbitrator.sav'\n",
    "pickle.dump(svm_clf, open(filename, 'wb'))"
   ]
  },
  {
   "cell_type": "code",
   "execution_count": null,
   "metadata": {},
   "outputs": [],
   "source": []
  }
 ],
 "metadata": {
  "kernelspec": {
   "display_name": "Python 3",
   "language": "python",
   "name": "python3"
  },
  "language_info": {
   "codemirror_mode": {
    "name": "ipython",
    "version": 3
   },
   "file_extension": ".py",
   "mimetype": "text/x-python",
   "name": "python",
   "nbconvert_exporter": "python",
   "pygments_lexer": "ipython3",
   "version": "3.8.5"
  }
 },
 "nbformat": 4,
 "nbformat_minor": 4
}
