{
 "cells": [
  {
   "cell_type": "markdown",
   "metadata": {},
   "source": [
    "# Set paths and get a list of all test images"
   ]
  },
  {
   "cell_type": "code",
   "execution_count": 1,
   "metadata": {},
   "outputs": [],
   "source": [
    "import os\n",
    "import tensorflow as tf\n",
    "from tensorflow.keras.models import load_model\n",
    "import tensorflow_addons as tfa\n",
    "\n",
    "#set path to model folder\n",
    "model_path = 'C:\\\\Users\\\\SWONG\\\\PRS_project\\\\Model\\\\'\n",
    "\n",
    "#input name of model to be tested\n",
    "model_name = 'DenseNet121_origImg.hdf5'\n",
    "\n",
    "#set path to test images\n",
    "test_image_path_pos = 'C:\\\\Users\\\\SWONG\\\\PRS_project\\\\Data_Set\\\\test\\\\melanoma\\\\images\\\\'\n",
    "test_image_path_neg = 'C:\\\\Users\\\\SWONG\\\\PRS_project\\\\Data_set\\\\test\\\\non_melanoma\\\\images\\\\'\n",
    "\n",
    "#load model to be tested\n",
    "model = load_model(os.path.join(model_path,model_name))\n",
    "\n",
    "#getting the lists of melanoma and non_melanoma images\n",
    "image_list_pos = os.listdir(test_image_path_pos)\n",
    "image_list_neg = os.listdir(test_image_path_neg)\n",
    "\n",
    "image_list_all = []\n",
    "for image in image_list_pos:\n",
    "    image_list_all.append(os.path.join(test_image_path_pos,image))\n",
    "for image in image_list_neg:\n",
    "    image_list_all.append(os.path.join(test_image_path_neg,image))"
   ]
  },
  {
   "cell_type": "markdown",
   "metadata": {},
   "source": [
    "# Function to preprocess test images to feed into model"
   ]
  },
  {
   "cell_type": "code",
   "execution_count": 2,
   "metadata": {},
   "outputs": [
    {
     "name": "stdout",
     "output_type": "stream",
     "text": [
      "(1002, 224, 224, 3)\n"
     ]
    }
   ],
   "source": [
    "import numpy as np\n",
    "from tensorflow.keras.preprocessing import image\n",
    "\n",
    "#preprocessing images to a nparray\n",
    "def image_preprocessing_all(img_list):\n",
    "    images = []\n",
    "    for img in img_list:\n",
    "        img = image.load_img(img,target_size=(224,224))\n",
    "        images.append(np.asarray(img))\n",
    "    images_np = np.array(images)\n",
    "    return images_np\n",
    "\n",
    "#storing all the test images in nparray format\n",
    "images_np = image_preprocessing_all(image_list_all) \n",
    "print(images_np.shape)"
   ]
  },
  {
   "cell_type": "markdown",
   "metadata": {},
   "source": [
    "# Predict test image classes and store results "
   ]
  },
  {
   "cell_type": "code",
   "execution_count": 3,
   "metadata": {},
   "outputs": [
    {
     "name": "stdout",
     "output_type": "stream",
     "text": [
      "Length of labelled_class list: 1002\n",
      "Shape of pred_probs: (1002, 1)\n"
     ]
    }
   ],
   "source": [
    "from tensorflow.keras.preprocessing import image\n",
    "\n",
    "#storing the true label for the images in labelled_class\n",
    "labelled_class = []\n",
    "for img in image_list_pos:\n",
    "    labelled_class.append(0)\n",
    "for img in image_list_neg:\n",
    "    labelled_class.append(1)\n",
    "    \n",
    "#class probabilites for each image in test set\n",
    "pred_probs = model.predict(images_np)\n",
    "\n",
    "print('Length of labelled_class list:', len(labelled_class))\n",
    "print('Shape of pred_probs:', pred_probs.shape)"
   ]
  },
  {
   "cell_type": "markdown",
   "metadata": {},
   "source": [
    "# Saving the predictions as an np array to train final classifier"
   ]
  },
  {
   "cell_type": "code",
   "execution_count": 4,
   "metadata": {},
   "outputs": [],
   "source": [
    "# save numpy array as npy file\n",
    "from numpy import asarray\n",
    "from numpy import save\n",
    "\n",
    "arr_path = model_path + '\\\\numpy_baseClassifier_predictions\\\\test_preds_orig.npy'\n",
    "\n",
    "# save to npy file\n",
    "save(arr_path, pred_probs)"
   ]
  },
  {
   "cell_type": "markdown",
   "metadata": {},
   "source": [
    "# Model evaluation using accuracy and loss"
   ]
  },
  {
   "cell_type": "code",
   "execution_count": 5,
   "metadata": {},
   "outputs": [
    {
     "name": "stdout",
     "output_type": "stream",
     "text": [
      "Test loss: 0.2527141869068146\n",
      "Test accuracy: 0.9001995921134949\n"
     ]
    }
   ],
   "source": [
    "score = model.evaluate(images_np, np.array(labelled_class), verbose = 0) \n",
    "\n",
    "print('Test loss:', score[0]) \n",
    "print('Test accuracy:', score[1])"
   ]
  },
  {
   "cell_type": "markdown",
   "metadata": {},
   "source": [
    "# Accuracy, Classification Report, Confusion Matrix"
   ]
  },
  {
   "cell_type": "code",
   "execution_count": 6,
   "metadata": {},
   "outputs": [
    {
     "name": "stdout",
     "output_type": "stream",
     "text": [
      "Accuracy: 90.01996007984032\n"
     ]
    }
   ],
   "source": [
    "from pycm import ConfusionMatrix\n",
    "from sklearn.metrics import accuracy_score, confusion_matrix, classification_report\n",
    "\n",
    "#set the threshold of prediction probability, below that is considered melanoma\n",
    "threshold = 0.5\n",
    "\n",
    "#converting the prediction probabilities to a list of binary predictions\n",
    "pred_class = []\n",
    "for pred in pred_probs:\n",
    "    if pred < threshold:\n",
    "        pred_class.append(0)\n",
    "    else:\n",
    "        pred_class.append(1)\n",
    "        \n",
    "print(\"Accuracy:\",accuracy_score(labelled_class,pred_class)*100)"
   ]
  },
  {
   "cell_type": "code",
   "execution_count": 7,
   "metadata": {},
   "outputs": [
    {
     "name": "stdout",
     "output_type": "stream",
     "text": [
      "Report:               precision    recall  f1-score   support\n",
      "\n",
      "           0       0.54      0.62      0.58       111\n",
      "           1       0.95      0.93      0.94       891\n",
      "\n",
      "    accuracy                           0.90      1002\n",
      "   macro avg       0.75      0.78      0.76      1002\n",
      "weighted avg       0.91      0.90      0.90      1002\n",
      "\n"
     ]
    }
   ],
   "source": [
    "print(\"Report:\", classification_report(labelled_class,pred_class))"
   ]
  },
  {
   "cell_type": "code",
   "execution_count": 8,
   "metadata": {},
   "outputs": [
    {
     "name": "stdout",
     "output_type": "stream",
     "text": [
      "Predict   0         1         \n",
      "Actual\n",
      "0         69        42        \n",
      "\n",
      "1         58        833       \n",
      "\n",
      "\n",
      "\n",
      "\n",
      "\n",
      "Overall Statistics : \n",
      "\n",
      "95% CI                                                            (0.88164,0.91876)\n",
      "ACC Macro                                                         0.9002\n",
      "ARI                                                               0.45727\n",
      "AUNP                                                              0.77826\n",
      "AUNU                                                              0.77826\n",
      "Bangdiwala B                                                      0.88022\n",
      "Bennett S                                                         0.8004\n",
      "CBA                                                               0.73911\n",
      "CSI                                                               0.52592\n",
      "Chi-Squared                                                       276.20268\n",
      "Chi-Squared DF                                                    1\n",
      "Conditional Entropy                                               0.41487\n",
      "Cramer V                                                          0.52503\n",
      "Cross Entropy                                                     0.50399\n",
      "F1 Macro                                                          0.7616\n",
      "F1 Micro                                                          0.9002\n",
      "FNR Macro                                                         0.22174\n",
      "FNR Micro                                                         0.0998\n",
      "FPR Macro                                                         0.22174\n",
      "FPR Micro                                                         0.0998\n",
      "Gwet AC1                                                          0.87378\n",
      "Hamming Loss                                                      0.0998\n",
      "Joint Entropy                                                     0.91713\n",
      "KL Divergence                                                     0.00173\n",
      "Kappa                                                             0.5235\n",
      "Kappa 95% CI                                                      (0.43489,0.61211)\n",
      "Kappa No Prevalence                                               0.8004\n",
      "Kappa Standard Error                                              0.04521\n",
      "Kappa Unbiased                                                    0.52321\n",
      "Krippendorff Alpha                                                0.52344\n",
      "Lambda A                                                          0.0991\n",
      "Lambda B                                                          0.2126\n",
      "Mutual Information                                                0.13358\n",
      "NIR                                                               0.88922\n",
      "Overall ACC                                                       0.9002\n",
      "Overall CEN                                                       0.36708\n",
      "Overall J                                                         (1.3011,0.65055)\n",
      "Overall MCC                                                       0.52503\n",
      "Overall MCEN                                                      0.2965\n",
      "Overall RACC                                                      0.79056\n",
      "Overall RACCU                                                     0.79068\n",
      "P-Value                                                           0.14486\n",
      "PPV Macro                                                         0.74765\n",
      "PPV Micro                                                         0.9002\n",
      "Pearson C                                                         0.46485\n",
      "Phi-Squared                                                       0.27565\n",
      "RCI                                                               0.26595\n",
      "RR                                                                501.0\n",
      "Reference Entropy                                                 0.50226\n",
      "Response Entropy                                                  0.54845\n",
      "SOA1(Landis & Koch)                                               Moderate\n",
      "SOA2(Fleiss)                                                      Intermediate to Good\n",
      "SOA3(Altman)                                                      Moderate\n",
      "SOA4(Cicchetti)                                                   Fair\n",
      "SOA5(Cramer)                                                      Relatively Strong\n",
      "SOA6(Matthews)                                                    Moderate\n",
      "Scott PI                                                          0.52321\n",
      "Standard Error                                                    0.00947\n",
      "TNR Macro                                                         0.77826\n",
      "TNR Micro                                                         0.9002\n",
      "TPR Macro                                                         0.77826\n",
      "TPR Micro                                                         0.9002\n",
      "Zero-one Loss                                                     100\n",
      "\n",
      "Class Statistics :\n",
      "\n",
      "Classes                                                           0             1             \n",
      "ACC(Accuracy)                                                     0.9002        0.9002        \n",
      "AGF(Adjusted F-score)                                             0.75704       0.72315       \n",
      "AGM(Adjusted geometric mean)                                      0.84356       0.7483        \n",
      "AM(Difference between automatic and manual classification)        16            -16           \n",
      "AUC(Area under the ROC curve)                                     0.77826       0.77826       \n",
      "AUCI(AUC value interpretation)                                    Good          Good          \n",
      "AUPR(Area under the PR curve)                                     0.58246       0.94345       \n",
      "BCD(Bray-Curtis dissimilarity)                                    0.00798       0.00798       \n",
      "BM(Informedness or bookmaker informedness)                        0.55653       0.55653       \n",
      "CEN(Confusion entropy)                                            0.93799       0.29014       \n",
      "DOR(Diagnostic odds ratio)                                        23.59483      23.59483      \n",
      "DP(Discriminant power)                                            0.75687       0.75687       \n",
      "DPI(Discriminant power interpretation)                            Poor          Poor          \n",
      "ERR(Error rate)                                                   0.0998        0.0998        \n",
      "F0.5(F0.5 score)                                                  0.55735       0.94853       \n",
      "F1(F1 score - harmonic mean of precision and sensitivity)         0.57983       0.94337       \n",
      "F2(F2 score)                                                      0.6042        0.93827       \n",
      "FDR(False discovery rate)                                         0.45669       0.048         \n",
      "FN(False negative/miss/type 2 error)                              42            58            \n",
      "FNR(Miss rate or false negative rate)                             0.37838       0.0651        \n",
      "FOR(False omission rate)                                          0.048         0.45669       \n",
      "FP(False positive/type 1 error/false alarm)                       58            42            \n",
      "FPR(Fall-out or false positive rate)                              0.0651        0.37838       \n",
      "G(G-measure geometric mean of precision and sensitivity)          0.58115       0.94341       \n",
      "GI(Gini index)                                                    0.55653       0.55653       \n",
      "GM(G-mean geometric mean of specificity and sensitivity)          0.76234       0.76234       \n",
      "IBA(Index of balanced accuracy)                                   0.39909       0.76322       \n",
      "ICSI(Individual classification success index)                     0.16493       0.8869        \n",
      "IS(Information score)                                             2.29409       0.09842       \n",
      "J(Jaccard index)                                                  0.40828       0.89282       \n",
      "LS(Lift score)                                                    4.90445       1.0706        \n",
      "MCC(Matthews correlation coefficient)                             0.52503       0.52503       \n",
      "MCCI(Matthews correlation coefficient interpretation)             Moderate      Moderate      \n",
      "MCEN(Modified confusion entropy)                                  1.02868       0.45052       \n",
      "MK(Markedness)                                                    0.49531       0.49531       \n",
      "N(Condition negative)                                             891           111           \n",
      "NLR(Negative likelihood ratio)                                    0.40472       0.10472       \n",
      "NLRI(Negative likelihood ratio interpretation)                    Poor          Fair          \n",
      "NPV(Negative predictive value)                                    0.952         0.54331       \n",
      "OC(Overlap coefficient)                                           0.62162       0.952         \n",
      "OOC(Otsuka-Ochiai coefficient)                                    0.58115       0.94341       \n",
      "OP(Optimized precision)                                           0.69893       0.69893       \n",
      "P(Condition positive or support)                                  111           891           \n",
      "PLR(Positive likelihood ratio)                                    9.54939       2.47082       \n",
      "PLRI(Positive likelihood ratio interpretation)                    Fair          Poor          \n",
      "POP(Population)                                                   1002          1002          \n",
      "PPV(Precision or positive predictive value)                       0.54331       0.952         \n",
      "PRE(Prevalence)                                                   0.11078       0.88922       \n",
      "Q(Yule Q - coefficient of colligation)                            0.91868       0.91868       \n",
      "QI(Yule Q interpretation)                                         Strong        Strong        \n",
      "RACC(Random accuracy)                                             0.01404       0.77652       \n",
      "RACCU(Random accuracy unbiased)                                   0.0141        0.77658       \n",
      "TN(True negative/correct rejection)                               833           69            \n",
      "TNR(Specificity or true negative rate)                            0.9349        0.62162       \n",
      "TON(Test outcome negative)                                        875           127           \n",
      "TOP(Test outcome positive)                                        127           875           \n",
      "TP(True positive/hit)                                             69            833           \n",
      "TPR(Sensitivity, recall, hit rate, or true positive rate)         0.62162       0.9349        \n",
      "Y(Youden index)                                                   0.55653       0.55653       \n",
      "dInd(Distance index)                                              0.38394       0.38394       \n",
      "sInd(Similarity index)                                            0.72852       0.72852       \n",
      "\n"
     ]
    }
   ],
   "source": [
    "print(ConfusionMatrix(actual_vector=list(labelled_class),predict_vector=(pred_class)))"
   ]
  },
  {
   "cell_type": "markdown",
   "metadata": {},
   "source": [
    "# AUC Score (for models with 1 output layer!)"
   ]
  },
  {
   "cell_type": "code",
   "execution_count": 9,
   "metadata": {
    "scrolled": true
   },
   "outputs": [
    {
     "name": "stdout",
     "output_type": "stream",
     "text": [
      "AUC Score:  0.9167551389773613\n"
     ]
    }
   ],
   "source": [
    "import matplotlib.pyplot as plt\n",
    "from sklearn.metrics import roc_curve, auc\n",
    "from sklearn.metrics import roc_auc_score\n",
    "\n",
    "#BINARY CLASS METHOD (which requires 1D output from model)\n",
    "    \n",
    "#getting AUC score\n",
    "roc_auc = roc_auc_score(labelled_class, pred_probs)\n",
    "print(\"AUC Score: \", roc_auc)"
   ]
  },
  {
   "cell_type": "markdown",
   "metadata": {},
   "source": [
    "# Plot ROC curve and save (for models with 1 output layer!)"
   ]
  },
  {
   "cell_type": "code",
   "execution_count": 11,
   "metadata": {},
   "outputs": [
    {
     "data": {
      "image/png": "[encoded data removed]",
      "text/plain": [
       "<Figure size 432x288 with 1 Axes>"
      ]
     },
     "metadata": {
      "needs_background": "light"
     },
     "output_type": "display_data"
    },
    {
     "name": "stdout",
     "output_type": "stream",
     "text": [
      "Path to plot: C:\\Users\\SWONG\\PRS_project\\Model\\DenseNet121_origImg_roc.png\n"
     ]
    }
   ],
   "source": [
    "#plotting ROC\n",
    "fpr, tpr, thresholds = roc_curve(labelled_class, pred_probs)\n",
    "plt.figure()\n",
    "plt.plot([0,1],[0,1],'--', label='Random Classifier')\n",
    "plt.plot(fpr,tpr,label='ROC Curve DenseNet121_origImg (area = %0.2f)' %roc_auc)\n",
    "plt.xlabel('False Positive Rate')\n",
    "plt.ylabel('True Positive Rate')\n",
    "plt.title(\"ROC Curve for \" + model_name.split('.')[0])\n",
    "plt.legend(loc=\"lower right\")\n",
    "\n",
    "roc_plotpath  = model_path + model_name.split('.')[0] + '_roc.png'\n",
    "plt.savefig(roc_plotpath)\n",
    "plt.show()\n",
    "print(\"Path to plot:\", roc_plotpath)"
   ]
  },
  {
   "cell_type": "code",
   "execution_count": null,
   "metadata": {},
   "outputs": [],
   "source": []
  }
 ],
 "metadata": {
  "kernelspec": {
   "display_name": "Python 3",
   "language": "python",
   "name": "python3"
  },
  "language_info": {
   "codemirror_mode": {
    "name": "ipython",
    "version": 3
   },
   "file_extension": ".py",
   "mimetype": "text/x-python",
   "name": "python",
   "nbconvert_exporter": "python",
   "pygments_lexer": "ipython3",
   "version": "3.8.5"
  }
 },
 "nbformat": 4,
 "nbformat_minor": 4
}
