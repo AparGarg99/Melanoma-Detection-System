{
 "cells": [
  {
   "cell_type": "markdown",
   "metadata": {},
   "source": [
    "# Set paths and get a list of all test images"
   ]
  },
  {
   "cell_type": "code",
   "execution_count": 1,
   "metadata": {},
   "outputs": [],
   "source": [
    "import os\n",
    "import tensorflow as tf\n",
    "from tensorflow.keras.models import load_model\n",
    "import tensorflow_addons as tfa\n",
    "\n",
    "#set path to model folder\n",
    "model_path = 'C:\\\\Users\\\\SWONG\\\\PRS_project\\\\Model\\\\'\n",
    "\n",
    "#input name of model to be tested\n",
    "model_name = 'DenseNet121_centerv2.hdf5'\n",
    "\n",
    "#set path to test images\n",
    "test_image_path_pos = 'C:\\\\Users\\\\SWONG\\\\PRS_project\\\\Data_Set\\\\test\\\\melanoma\\\\center_cropped\\\\'\n",
    "test_image_path_neg = 'C:\\\\Users\\\\SWONG\\\\PRS_project\\\\Data_set\\\\test\\\\non_melanoma\\\\center_cropped\\\\'\n",
    "\n",
    "#load model to be tested\n",
    "model = load_model(os.path.join(model_path,model_name))\n",
    "\n",
    "#getting the lists of melanoma and non_melanoma images\n",
    "image_list_pos = os.listdir(test_image_path_pos)\n",
    "image_list_neg = os.listdir(test_image_path_neg)\n",
    "\n",
    "image_list_all = []\n",
    "for image in image_list_pos:\n",
    "    image_list_all.append(os.path.join(test_image_path_pos,image))\n",
    "for image in image_list_neg:\n",
    "    image_list_all.append(os.path.join(test_image_path_neg,image))"
   ]
  },
  {
   "cell_type": "markdown",
   "metadata": {},
   "source": [
    "# Function to preprocess test images to feed into model"
   ]
  },
  {
   "cell_type": "code",
   "execution_count": 2,
   "metadata": {},
   "outputs": [
    {
     "name": "stdout",
     "output_type": "stream",
     "text": [
      "(1002, 224, 224, 3)\n"
     ]
    }
   ],
   "source": [
    "import numpy as np\n",
    "from tensorflow.keras.preprocessing import image\n",
    "\n",
    "#preprocessing images to a nparray\n",
    "def image_preprocessing_all(img_list):\n",
    "    images = []\n",
    "    for img in img_list:\n",
    "        img = image.load_img(img,target_size=(224,224))\n",
    "        images.append(np.asarray(img))\n",
    "    images_np = np.array(images)\n",
    "    return images_np\n",
    "\n",
    "#storing all the test images in nparray format\n",
    "images_np = image_preprocessing_all(image_list_all) \n",
    "print(images_np.shape)"
   ]
  },
  {
   "cell_type": "markdown",
   "metadata": {},
   "source": [
    "# Predict test image classes and store results "
   ]
  },
  {
   "cell_type": "code",
   "execution_count": 3,
   "metadata": {},
   "outputs": [
    {
     "name": "stdout",
     "output_type": "stream",
     "text": [
      "Length of labelled_class list: 1002\n",
      "Shape of pred_probs: (1002, 1)\n"
     ]
    }
   ],
   "source": [
    "from tensorflow.keras.preprocessing import image\n",
    "\n",
    "#storing the true label for the images in labelled_class\n",
    "labelled_class = []\n",
    "for img in image_list_pos:\n",
    "    labelled_class.append(0)\n",
    "for img in image_list_neg:\n",
    "    labelled_class.append(1)\n",
    "    \n",
    "#class probabilites for each image in test set\n",
    "pred_probs = model.predict(images_np)\n",
    "\n",
    "print('Length of labelled_class list:', len(labelled_class))\n",
    "print('Shape of pred_probs:', pred_probs.shape)"
   ]
  },
  {
   "cell_type": "markdown",
   "metadata": {},
   "source": [
    "# Saving the predictions as an np array to train final classifier"
   ]
  },
  {
   "cell_type": "code",
   "execution_count": 4,
   "metadata": {},
   "outputs": [],
   "source": [
    "# save numpy array as npy file\n",
    "from numpy import asarray\n",
    "from numpy import save\n",
    "\n",
    "arr_path = model_path + '\\\\numpy_baseClassifier_predictions\\\\test_preds_center.npy'\n",
    "\n",
    "# save to npy file\n",
    "save(arr_path, pred_probs)"
   ]
  },
  {
   "cell_type": "markdown",
   "metadata": {},
   "source": [
    "# Model evaluation using accuracy and loss"
   ]
  },
  {
   "cell_type": "code",
   "execution_count": 5,
   "metadata": {},
   "outputs": [
    {
     "name": "stdout",
     "output_type": "stream",
     "text": [
      "Test loss: 0.2174847275018692\n",
      "Test accuracy: 0.901197612285614\n"
     ]
    }
   ],
   "source": [
    "score = model.evaluate(images_np, np.array(labelled_class), verbose = 0) \n",
    "\n",
    "print('Test loss:', score[0]) \n",
    "print('Test accuracy:', score[1])"
   ]
  },
  {
   "cell_type": "markdown",
   "metadata": {},
   "source": [
    "# Accuracy, Classification Report, Confusion Matrix"
   ]
  },
  {
   "cell_type": "code",
   "execution_count": 6,
   "metadata": {},
   "outputs": [
    {
     "name": "stdout",
     "output_type": "stream",
     "text": [
      "Accuracy: 90.11976047904191\n"
     ]
    }
   ],
   "source": [
    "from pycm import ConfusionMatrix\n",
    "from sklearn.metrics import accuracy_score, confusion_matrix, classification_report\n",
    "\n",
    "#set the threshold of prediction probability that is considered non-melanoma\n",
    "threshold = 0.5\n",
    "\n",
    "#converting the prediction probabilities to a list of binary predictions\n",
    "pred_class = []\n",
    "for pred in pred_probs:\n",
    "    if pred < threshold:\n",
    "        pred_class.append(0)\n",
    "    else:\n",
    "        pred_class.append(1)\n",
    "        \n",
    "print(\"Accuracy:\",accuracy_score(labelled_class,pred_class)*100)"
   ]
  },
  {
   "cell_type": "code",
   "execution_count": 7,
   "metadata": {},
   "outputs": [
    {
     "name": "stdout",
     "output_type": "stream",
     "text": [
      "Report:               precision    recall  f1-score   support\n",
      "\n",
      "           0       0.54      0.66      0.60       111\n",
      "           1       0.96      0.93      0.94       891\n",
      "\n",
      "    accuracy                           0.90      1002\n",
      "   macro avg       0.75      0.79      0.77      1002\n",
      "weighted avg       0.91      0.90      0.91      1002\n",
      "\n"
     ]
    }
   ],
   "source": [
    "print(\"Report:\", classification_report(labelled_class,pred_class))"
   ]
  },
  {
   "cell_type": "code",
   "execution_count": 8,
   "metadata": {},
   "outputs": [
    {
     "name": "stdout",
     "output_type": "stream",
     "text": [
      "Predict   0         1         \n",
      "Actual\n",
      "0         73        38        \n",
      "\n",
      "1         61        830       \n",
      "\n",
      "\n",
      "\n",
      "\n",
      "\n",
      "Overall Statistics : \n",
      "\n",
      "95% CI                                                            (0.88272,0.91967)\n",
      "ACC Macro                                                         0.9012\n",
      "ARI                                                               0.47208\n",
      "AUNP                                                              0.7946\n",
      "AUNU                                                              0.7946\n",
      "Bangdiwala B                                                      0.88071\n",
      "Bennett S                                                         0.8024\n",
      "CBA                                                               0.73816\n",
      "CSI                                                               0.5451\n",
      "Chi-Squared                                                       295.77561\n",
      "Chi-Squared DF                                                    1\n",
      "Conditional Entropy                                               0.42296\n",
      "Cramer V                                                          0.54331\n",
      "Cross Entropy                                                     0.50571\n",
      "F1 Macro                                                          0.76982\n",
      "F1 Micro                                                          0.9012\n",
      "FNR Macro                                                         0.2054\n",
      "FNR Micro                                                         0.0988\n",
      "FPR Macro                                                         0.2054\n",
      "FPR Micro                                                         0.0988\n",
      "Gwet AC1                                                          0.8742\n",
      "Hamming Loss                                                      0.0988\n",
      "Joint Entropy                                                     0.92522\n",
      "KL Divergence                                                     0.00346\n",
      "Kappa                                                             0.5402\n",
      "Kappa 95% CI                                                      (0.45422,0.62618)\n",
      "Kappa No Prevalence                                               0.8024\n",
      "Kappa Standard Error                                              0.04387\n",
      "Kappa Unbiased                                                    0.53964\n",
      "Krippendorff Alpha                                                0.53987\n",
      "Lambda A                                                          0.10811\n",
      "Lambda B                                                          0.26119\n",
      "Mutual Information                                                0.14463\n",
      "NIR                                                               0.88922\n",
      "Overall ACC                                                       0.9012\n",
      "Overall CEN                                                       0.36457\n",
      "Overall J                                                         (1.31785,0.65893)\n",
      "Overall MCC                                                       0.54331\n",
      "Overall MCEN                                                      0.29386\n",
      "Overall RACC                                                      0.78512\n",
      "Overall RACCU                                                     0.78538\n",
      "P-Value                                                           0.12252\n",
      "PPV Macro                                                         0.7505\n",
      "PPV Micro                                                         0.9012\n",
      "Pearson C                                                         0.4774\n",
      "Phi-Squared                                                       0.29519\n",
      "RCI                                                               0.28796\n",
      "RR                                                                501.0\n",
      "Reference Entropy                                                 0.50226\n",
      "Response Entropy                                                  0.56759\n",
      "SOA1(Landis & Koch)                                               Moderate\n",
      "SOA2(Fleiss)                                                      Intermediate to Good\n",
      "SOA3(Altman)                                                      Moderate\n",
      "SOA4(Cicchetti)                                                   Fair\n",
      "SOA5(Cramer)                                                      Relatively Strong\n",
      "SOA6(Matthews)                                                    Moderate\n",
      "Scott PI                                                          0.53964\n",
      "Standard Error                                                    0.00943\n",
      "TNR Macro                                                         0.7946\n",
      "TNR Micro                                                         0.9012\n",
      "TPR Macro                                                         0.7946\n",
      "TPR Micro                                                         0.9012\n",
      "Zero-one Loss                                                     99\n",
      "\n",
      "Class Statistics :\n",
      "\n",
      "Classes                                                           0             1             \n",
      "ACC(Accuracy)                                                     0.9012        0.9012        \n",
      "AGF(Adjusted F-score)                                             0.77502       0.72681       \n",
      "AGM(Adjusted geometric mean)                                      0.85276       0.77024       \n",
      "AM(Difference between automatic and manual classification)        23            -23           \n",
      "AUC(Area under the ROC curve)                                     0.7946        0.7946        \n",
      "AUCI(AUC value interpretation)                                    Good          Good          \n",
      "AUPR(Area under the PR curve)                                     0.60122       0.94388       \n",
      "BCD(Bray-Curtis dissimilarity)                                    0.01148       0.01148       \n",
      "BM(Informedness or bookmaker informedness)                        0.5892        0.5892        \n",
      "CEN(Confusion entropy)                                            0.91645       0.28771       \n",
      "DOR(Diagnostic odds ratio)                                        26.13891      26.13891      \n",
      "DP(Discriminant power)                                            0.78139       0.78139       \n",
      "DPI(Discriminant power interpretation)                            Poor          Poor          \n",
      "ERR(Error rate)                                                   0.0988        0.0988        \n",
      "F0.5(F0.5 score)                                                  0.56414       0.95118       \n",
      "F1(F1 score - harmonic mean of precision and sensitivity)         0.59592       0.94372       \n",
      "F2(F2 score)                                                      0.63149       0.93637       \n",
      "FDR(False discovery rate)                                         0.45522       0.04378       \n",
      "FN(False negative/miss/type 2 error)                              38            61            \n",
      "FNR(Miss rate or false negative rate)                             0.34234       0.06846       \n",
      "FOR(False omission rate)                                          0.04378       0.45522       \n",
      "FP(False positive/type 1 error/false alarm)                       61            38            \n",
      "FPR(Fall-out or false positive rate)                              0.06846       0.34234       \n",
      "G(G-measure geometric mean of precision and sensitivity)          0.59856       0.9438        \n",
      "GI(Gini index)                                                    0.5892        0.5892        \n",
      "GM(G-mean geometric mean of specificity and sensitivity)          0.78271       0.78271       \n",
      "IBA(Index of balanced accuracy)                                   0.44484       0.78042       \n",
      "ICSI(Individual classification success index)                     0.20243       0.88776       \n",
      "IS(Information score)                                             2.29799       0.1048        \n",
      "J(Jaccard index)                                                  0.42442       0.89343       \n",
      "LS(Lift score)                                                    4.91771       1.07535       \n",
      "MCC(Matthews correlation coefficient)                             0.54331       0.54331       \n",
      "MCCI(Matthews correlation coefficient interpretation)             Moderate      Moderate      \n",
      "MCEN(Modified confusion entropy)                                  1.01165       0.44661       \n",
      "MK(Markedness)                                                    0.501         0.501         \n",
      "N(Condition negative)                                             891           111           \n",
      "NLR(Negative likelihood ratio)                                    0.3675        0.1041        \n",
      "NLRI(Negative likelihood ratio interpretation)                    Poor          Fair          \n",
      "NPV(Negative predictive value)                                    0.95622       0.54478       \n",
      "OC(Overlap coefficient)                                           0.65766       0.95622       \n",
      "OOC(Otsuka-Ochiai coefficient)                                    0.59856       0.9438        \n",
      "OP(Optimized precision)                                           0.72886       0.72886       \n",
      "P(Condition positive or support)                                  111           891           \n",
      "PLR(Positive likelihood ratio)                                    9.60611       2.72107       \n",
      "PLRI(Positive likelihood ratio interpretation)                    Fair          Poor          \n",
      "POP(Population)                                                   1002          1002          \n",
      "PPV(Precision or positive predictive value)                       0.54478       0.95622       \n",
      "PRE(Prevalence)                                                   0.11078       0.88922       \n",
      "Q(Yule Q - coefficient of colligation)                            0.92631       0.92631       \n",
      "QI(Yule Q interpretation)                                         Strong        Strong        \n",
      "RACC(Random accuracy)                                             0.01481       0.7703        \n",
      "RACCU(Random accuracy unbiased)                                   0.01495       0.77044       \n",
      "TN(True negative/correct rejection)                               830           73            \n",
      "TNR(Specificity or true negative rate)                            0.93154       0.65766       \n",
      "TON(Test outcome negative)                                        868           134           \n",
      "TOP(Test outcome positive)                                        134           868           \n",
      "TP(True positive/hit)                                             73            830           \n",
      "TPR(Sensitivity, recall, hit rate, or true positive rate)         0.65766       0.93154       \n",
      "Y(Youden index)                                                   0.5892        0.5892        \n",
      "dInd(Distance index)                                              0.34912       0.34912       \n",
      "sInd(Similarity index)                                            0.75313       0.75313       \n",
      "\n"
     ]
    }
   ],
   "source": [
    "print(ConfusionMatrix(actual_vector=list(labelled_class),predict_vector=(pred_class)))"
   ]
  },
  {
   "cell_type": "markdown",
   "metadata": {},
   "source": [
    "# AUC Score (for models with 1 output layer!)"
   ]
  },
  {
   "cell_type": "code",
   "execution_count": 9,
   "metadata": {
    "scrolled": true
   },
   "outputs": [
    {
     "name": "stdout",
     "output_type": "stream",
     "text": [
      "AUC Score:  0.9286458175347064\n"
     ]
    }
   ],
   "source": [
    "import matplotlib.pyplot as plt\n",
    "from sklearn.metrics import roc_curve, auc\n",
    "from sklearn.metrics import roc_auc_score\n",
    "\n",
    "#BINARY CLASS METHOD (which requires 1D output from model)\n",
    "    \n",
    "#getting AUC score\n",
    "roc_auc = roc_auc_score(labelled_class, pred_probs)\n",
    "print(\"AUC Score: \", roc_auc)"
   ]
  },
  {
   "cell_type": "markdown",
   "metadata": {},
   "source": [
    "# Plot ROC curve and save (for models with 1 output layer!)"
   ]
  },
  {
   "cell_type": "code",
   "execution_count": 10,
   "metadata": {},
   "outputs": [
    {
     "data": {
      "image/png": "[encoded data removed]",
      "text/plain": [
       "<Figure size 432x288 with 1 Axes>"
      ]
     },
     "metadata": {
      "needs_background": "light"
     },
     "output_type": "display_data"
    },
    {
     "name": "stdout",
     "output_type": "stream",
     "text": [
      "Path to plot: C:\\Users\\SWONG\\PRS_project\\Model\\DenseNet121_centerv2_roc.png\n"
     ]
    }
   ],
   "source": [
    "#plotting ROC\n",
    "fpr, tpr, thresholds = roc_curve(labelled_class, pred_probs)\n",
    "plt.figure()\n",
    "plt.plot([0,1],[0,1],'--', label='Random Classifier')\n",
    "plt.plot(fpr,tpr,label='ROC Curve DenseNet121_CenterImg (area = %0.2f)' %roc_auc)\n",
    "plt.xlabel('False Positive Rate')\n",
    "plt.ylabel('True Positive Rate')\n",
    "plt.title(\"ROC Curve for \" + model_name.split('.')[0])\n",
    "plt.legend(loc=\"lower right\")\n",
    "\n",
    "roc_plotpath  = model_path + model_name.split('.')[0] + '_roc.png'\n",
    "plt.savefig(roc_plotpath)\n",
    "plt.show()\n",
    "print(\"Path to plot:\", roc_plotpath)"
   ]
  },
  {
   "cell_type": "code",
   "execution_count": null,
   "metadata": {},
   "outputs": [],
   "source": []
  }
 ],
 "metadata": {
  "kernelspec": {
   "display_name": "Python 3",
   "language": "python",
   "name": "python3"
  },
  "language_info": {
   "codemirror_mode": {
    "name": "ipython",
    "version": 3
   },
   "file_extension": ".py",
   "mimetype": "text/x-python",
   "name": "python",
   "nbconvert_exporter": "python",
   "pygments_lexer": "ipython3",
   "version": "3.8.5"
  }
 },
 "nbformat": 4,
 "nbformat_minor": 4
}
