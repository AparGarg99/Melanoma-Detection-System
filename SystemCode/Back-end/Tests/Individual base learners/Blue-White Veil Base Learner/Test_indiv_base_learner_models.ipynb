{
 "cells": [
  {
   "cell_type": "markdown",
   "metadata": {},
   "source": [
    "\n",
    "#  Set paths and get a list of all test images\n"
   ]
  },
  {
   "cell_type": "code",
   "execution_count": 1,
   "metadata": {},
   "outputs": [],
   "source": [
    "from tensorflow.keras.models import load_model\n",
    "from sklearn.metrics import confusion_matrix\n",
    "import os\n",
    "import tensorflow_addons as tfa\n",
    "#set path to model folder\n",
    "model_path = 'D:\\\\PRS_project\\Model\\\\blue_whitish'\n",
    "\n",
    "#input name of model to be tested\n",
    "model_name = 'DenseNet121.hdf5'\n",
    "\n",
    "#set path to test images\n",
    "test_image_path_pos = 'D:\\\\PRS_project\\\\Data_Set_7-pt\\\\test\\\\blue_whitish\\\\'\n",
    "test_image_path_neg = 'D:\\\\PRS_project\\\\Data_Set_7-pt\\\\test\\\\non_blue_whitish\\\\'\n",
    "\n",
    "#load model to be tested\n",
    "model = load_model(os.path.join(model_path,model_name))\n",
    "\n",
    "#getting the lists of melanoma and non_melanoma images\n",
    "image_list_pos = os.listdir(test_image_path_pos)\n",
    "image_list_neg = os.listdir(test_image_path_neg)\n",
    "\n",
    "image_list_all = []\n",
    "for image in image_list_pos:\n",
    "    image_list_all.append(os.path.join(test_image_path_pos,image))\n",
    "for image in image_list_neg:\n",
    "    image_list_all.append(os.path.join(test_image_path_neg,image))"
   ]
  },
  {
   "cell_type": "markdown",
   "metadata": {},
   "source": [
    "# Function to preprocess test images to feed into model"
   ]
  },
  {
   "cell_type": "code",
   "execution_count": 2,
   "metadata": {},
   "outputs": [
    {
     "name": "stdout",
     "output_type": "stream",
     "text": [
      "(102, 224, 224, 3)\n"
     ]
    }
   ],
   "source": [
    "import numpy as np\n",
    "from tensorflow.keras.preprocessing import image\n",
    "\n",
    "#preprocessing images to a nparray\n",
    "def image_preprocessing_all(img_list):\n",
    "    images = []\n",
    "    for img in img_list:\n",
    "        img = image.load_img(img,target_size=(224,224))\n",
    "        images.append(np.asarray(img))\n",
    "    images_np = np.array(images)\n",
    "    return images_np\n",
    "\n",
    "#storing all the test images in nparray format\n",
    "images_np = image_preprocessing_all(image_list_all) \n",
    "print(images_np.shape)"
   ]
  },
  {
   "cell_type": "markdown",
   "metadata": {},
   "source": [
    "# Predict test image classes and store results "
   ]
  },
  {
   "cell_type": "code",
   "execution_count": 3,
   "metadata": {},
   "outputs": [
    {
     "name": "stdout",
     "output_type": "stream",
     "text": [
      "Length of raw_pred_probs list:  102\n",
      "Array shape of raw_pred_probs[0]:  (1,)\n",
      "Length of pred_class list:  102\n",
      "Length of labelled_class list:  102\n"
     ]
    }
   ],
   "source": [
    "from tensorflow.keras.preprocessing import image\n",
    "\n",
    "#storing the true label for the images in labelled_class\n",
    "labelled_class = []\n",
    "for img in image_list_pos:\n",
    "    labelled_class.append(0)\n",
    "for img in image_list_neg:\n",
    "    labelled_class.append(1)\n",
    "    \n",
    "#class probabilites for each image in test set\n",
    "raw_pred_probs = model.predict(images_np)\n",
    "\n",
    "#class predictions for each image based on probabilities\n",
    "pred_class = []\n",
    "for pred in raw_pred_probs:\n",
    "    if (pred[0] <= 0.5):\n",
    "        pred_class.append(0)\n",
    "    elif (pred[0] > 0.5):\n",
    "        pred_class.append(1)\n",
    "    \n",
    "print('Length of raw_pred_probs list: ', len(raw_pred_probs))\n",
    "print('Array shape of raw_pred_probs[0]: ', raw_pred_probs[0].shape)\n",
    "print('Length of pred_class list: ', len(pred_class))\n",
    "print('Length of labelled_class list: ',len(labelled_class))"
   ]
  },
  {
   "cell_type": "markdown",
   "metadata": {},
   "source": [
    "# Report classification metrics"
   ]
  },
  {
   "cell_type": "code",
   "execution_count": 4,
   "metadata": {},
   "outputs": [
    {
     "name": "stdout",
     "output_type": "stream",
     "text": [
      "Best accuracy (on testing dataset): 90.20%\n",
      "                  precision    recall  f1-score   support\n",
      "\n",
      "    blue_whitish     0.7778    0.7000    0.7368        20\n",
      "non_blue_whitish     0.9286    0.9512    0.9398        82\n",
      "\n",
      "        accuracy                         0.9020       102\n",
      "       macro avg     0.8532    0.8256    0.8383       102\n",
      "    weighted avg     0.8990    0.9020    0.9000       102\n",
      "\n"
     ]
    }
   ],
   "source": [
    "import sklearn.metrics as metrics\n",
    "\n",
    "labelname = ['blue_whitish', 'non_blue_whitish']\n",
    "testScores  = metrics.accuracy_score(labelled_class,pred_class)\n",
    "\n",
    "print(\"Best accuracy (on testing dataset): %.2f%%\" % (testScores*100))\n",
    "print(metrics.classification_report(labelled_class,\n",
    "                                    pred_class,\n",
    "                                    target_names=labelname,\n",
    "                                    digits=4))"
   ]
  },
  {
   "cell_type": "markdown",
   "metadata": {},
   "source": [
    "# Model evaluation using accuracy and loss"
   ]
  },
  {
   "cell_type": "code",
   "execution_count": 5,
   "metadata": {},
   "outputs": [],
   "source": [
    "#generating the labelled_class2D array for evaluation metrics\n",
    "labelled_class2D = []\n",
    "\n",
    "for img in image_list_pos:\n",
    "    labelled_class2D.append((0))\n",
    "for img in image_list_neg:\n",
    "    labelled_class2D.append((1))\n",
    "\n",
    "labelled_class2D = np.array(labelled_class2D)"
   ]
  },
  {
   "cell_type": "code",
   "execution_count": 6,
   "metadata": {},
   "outputs": [
    {
     "name": "stdout",
     "output_type": "stream",
     "text": [
      "Test loss: 0.02821083925664425\n",
      "Test accuracy: 0.9019607901573181\n"
     ]
    }
   ],
   "source": [
    "score = model.evaluate(images_np, np.array(labelled_class2D), verbose = 0) \n",
    "\n",
    "print('Test loss:', score[0]) \n",
    "print('Test accuracy:', score[1])"
   ]
  },
  {
   "cell_type": "markdown",
   "metadata": {},
   "source": [
    "# Print Confusion Matrix"
   ]
  },
  {
   "cell_type": "code",
   "execution_count": 7,
   "metadata": {},
   "outputs": [
    {
     "name": "stdout",
     "output_type": "stream",
     "text": [
      "[[14  6]\n",
      " [ 4 78]]\n"
     ]
    }
   ],
   "source": [
    "confusion   = metrics.confusion_matrix(labelled_class,pred_class)\n",
    "print(confusion)"
   ]
  },
  {
   "cell_type": "markdown",
   "metadata": {},
   "source": [
    "# AUC Score"
   ]
  },
  {
   "cell_type": "code",
   "execution_count": 8,
   "metadata": {
    "scrolled": true
   },
   "outputs": [
    {
     "name": "stdout",
     "output_type": "stream",
     "text": [
      "AUC Score:  0.9512195121951219\n"
     ]
    }
   ],
   "source": [
    "from sklearn.metrics import roc_auc_score\n",
    "\n",
    "#getting the predicted probability list of class melanoma\n",
    "raw_prob_class_mel = []\n",
    "for pred in raw_pred_probs:\n",
    "    raw_prob_class_mel.append(pred[0])\n",
    "\n",
    "#getting AUC score\n",
    "roc_auc = roc_auc_score(labelled_class, raw_prob_class_mel)\n",
    "print(\"AUC Score: \", roc_auc)"
   ]
  },
  {
   "cell_type": "markdown",
   "metadata": {},
   "source": [
    "# Plot ROC curve and save"
   ]
  },
  {
   "cell_type": "code",
   "execution_count": 9,
   "metadata": {},
   "outputs": [
    {
     "data": {
      "image/png": "[encoded data removed]",
      "text/plain": [
       "<Figure size 432x288 with 1 Axes>"
      ]
     },
     "metadata": {
      "needs_background": "light"
     },
     "output_type": "display_data"
    },
    {
     "name": "stdout",
     "output_type": "stream",
     "text": [
      "Path to plot: D:\\PRS_project\\Model\\blue_whitishDenseNet121_roc.png\n"
     ]
    }
   ],
   "source": [
    "import matplotlib.pyplot as plt\n",
    "\n",
    "#plotting ROC\n",
    "fpr, tpr, thresholds = metrics.roc_curve(labelled_class, raw_prob_class_mel, pos_label=0)\n",
    "plt.figure()\n",
    "plt.plot(tpr,fpr,label='ROC Curve (area = %0.2f)' %roc_auc)\n",
    "plt.xlabel('False Positive Rate')\n",
    "plt.ylabel('True Positive Rate')\n",
    "plt.title(\"ROC Curve for \" + model_name.split('.')[0])\n",
    "plt.legend(loc=\"lower right\")\n",
    "\n",
    "roc_plotpath  = model_path + model_name.split('.')[0] + '_roc.png'\n",
    "plt.savefig(roc_plotpath)\n",
    "plt.show()\n",
    "print(\"Path to plot:\", roc_plotpath)"
   ]
  },
  {
   "cell_type": "code",
   "execution_count": null,
   "metadata": {},
   "outputs": [],
   "source": []
  }
 ],
 "metadata": {
  "kernelspec": {
   "display_name": "Python 3",
   "language": "python",
   "name": "python3"
  },
  "language_info": {
   "codemirror_mode": {
    "name": "ipython",
    "version": 3
   },
   "file_extension": ".py",
   "mimetype": "text/x-python",
   "name": "python",
   "nbconvert_exporter": "python",
   "pygments_lexer": "ipython3",
   "version": "3.8.5"
  }
 },
 "nbformat": 4,
 "nbformat_minor": 4
}
