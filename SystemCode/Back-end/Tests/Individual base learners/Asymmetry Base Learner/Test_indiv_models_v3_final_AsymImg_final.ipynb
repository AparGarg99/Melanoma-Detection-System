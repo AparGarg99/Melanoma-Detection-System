{
 "cells": [
  {
   "cell_type": "markdown",
   "metadata": {},
   "source": [
    "# Set paths and get a list of all test images"
   ]
  },
  {
   "cell_type": "code",
   "execution_count": 1,
   "metadata": {},
   "outputs": [],
   "source": [
    "import os\n",
    "import tensorflow as tf\n",
    "from tensorflow.keras.models import load_model\n",
    "import tensorflow_addons as tfa\n",
    "\n",
    "#set path to model folder\n",
    "model_path = 'C:\\\\Users\\\\SWONG\\\\PRS_project\\\\Model\\\\'\n",
    "\n",
    "#input name of model to be tested\n",
    "model_name = 'DenseNet121_AsymImg_final.hdf5'\n",
    "\n",
    "#set path to test images\n",
    "test_image_path_pos = 'C:\\\\Users\\\\SWONG\\\\PRS_project\\\\Asym_data\\\\test\\\\melanoma\\\\'\n",
    "test_image_path_neg = 'C:\\\\Users\\\\SWONG\\\\PRS_project\\\\Asym_data\\\\test\\\\non_melanoma\\\\'\n",
    "\n",
    "#load model to be tested\n",
    "model = load_model(os.path.join(model_path,model_name))\n",
    "\n",
    "#getting the lists of melanoma and non_melanoma images\n",
    "image_list_pos = os.listdir(test_image_path_pos)\n",
    "image_list_neg = os.listdir(test_image_path_neg)\n",
    "\n",
    "image_list_all = []\n",
    "for image in image_list_pos:\n",
    "    image_list_all.append(os.path.join(test_image_path_pos,image))\n",
    "for image in image_list_neg:\n",
    "    image_list_all.append(os.path.join(test_image_path_neg,image))"
   ]
  },
  {
   "cell_type": "markdown",
   "metadata": {},
   "source": [
    "# Function to preprocess test images to feed into model"
   ]
  },
  {
   "cell_type": "code",
   "execution_count": 2,
   "metadata": {},
   "outputs": [
    {
     "name": "stdout",
     "output_type": "stream",
     "text": [
      "(1002, 224, 224, 3)\n"
     ]
    }
   ],
   "source": [
    "import numpy as np\n",
    "from tensorflow.keras.preprocessing import image\n",
    "\n",
    "#preprocessing images to a nparray\n",
    "def image_preprocessing_all(img_list):\n",
    "    images = []\n",
    "    for img in img_list:\n",
    "        img = image.load_img(img,target_size=(224,224))\n",
    "        images.append(np.asarray(img))\n",
    "    images_np = np.array(images)\n",
    "    return images_np\n",
    "\n",
    "#storing all the test images in nparray format\n",
    "images_np = image_preprocessing_all(image_list_all) \n",
    "print(images_np.shape)"
   ]
  },
  {
   "cell_type": "markdown",
   "metadata": {},
   "source": [
    "# Predict test image classes and store results "
   ]
  },
  {
   "cell_type": "code",
   "execution_count": 3,
   "metadata": {},
   "outputs": [
    {
     "name": "stdout",
     "output_type": "stream",
     "text": [
      "Length of labelled_class list: 1002\n",
      "Shape of pred_probs: (1002, 1)\n"
     ]
    }
   ],
   "source": [
    "#storing the true label for the images in labelled_class\n",
    "labelled_class = []\n",
    "for img in image_list_pos:\n",
    "    labelled_class.append(0)\n",
    "for img in image_list_neg:\n",
    "    labelled_class.append(1)\n",
    "    \n",
    "#class probabilites for each image in test set\n",
    "pred_probs = model.predict(images_np)\n",
    "\n",
    "print('Length of labelled_class list:', len(labelled_class))\n",
    "print('Shape of pred_probs:', pred_probs.shape)"
   ]
  },
  {
   "cell_type": "markdown",
   "metadata": {},
   "source": [
    "# Saving the predictions as an np array to train final classifier"
   ]
  },
  {
   "cell_type": "code",
   "execution_count": 4,
   "metadata": {},
   "outputs": [],
   "source": [
    "# save numpy array as npy file\n",
    "from numpy import asarray\n",
    "from numpy import save\n",
    "\n",
    "arr_path = model_path + '\\\\numpy_baseClassifier_predictions\\\\test_preds_asym.npy'\n",
    "\n",
    "# save to npy file\n",
    "save(arr_path, pred_probs)"
   ]
  },
  {
   "cell_type": "markdown",
   "metadata": {},
   "source": [
    "# Model evaluation using accuracy and loss"
   ]
  },
  {
   "cell_type": "code",
   "execution_count": 5,
   "metadata": {},
   "outputs": [
    {
     "name": "stdout",
     "output_type": "stream",
     "text": [
      "Test loss: 0.34610453248023987\n",
      "Test accuracy: 0.8822355270385742\n"
     ]
    }
   ],
   "source": [
    "score = model.evaluate(images_np, np.array(labelled_class), verbose = 0) \n",
    "\n",
    "print('Test loss:', score[0]) \n",
    "print('Test accuracy:', score[1])"
   ]
  },
  {
   "cell_type": "markdown",
   "metadata": {},
   "source": [
    "# Accuracy, Classification Report, Confusion Matrix"
   ]
  },
  {
   "cell_type": "code",
   "execution_count": 6,
   "metadata": {},
   "outputs": [
    {
     "name": "stdout",
     "output_type": "stream",
     "text": [
      "Accuracy: 88.22355289421158\n"
     ]
    }
   ],
   "source": [
    "from pycm import ConfusionMatrix\n",
    "from sklearn.metrics import accuracy_score, confusion_matrix, classification_report\n",
    "\n",
    "#set the threshold of prediction probability that is considered non-melanoma\n",
    "threshold = 0.5\n",
    "\n",
    "#converting the prediction probabilities to a list of binary predictions\n",
    "pred_class = []\n",
    "for pred in pred_probs:\n",
    "    if pred < threshold:\n",
    "        pred_class.append(0)\n",
    "    else:\n",
    "        pred_class.append(1)\n",
    "        \n",
    "print(\"Accuracy:\",accuracy_score(labelled_class,pred_class)*100)"
   ]
  },
  {
   "cell_type": "code",
   "execution_count": 7,
   "metadata": {},
   "outputs": [
    {
     "name": "stdout",
     "output_type": "stream",
     "text": [
      "Report:               precision    recall  f1-score   support\n",
      "\n",
      "           0       0.46      0.36      0.40       111\n",
      "           1       0.92      0.95      0.93       891\n",
      "\n",
      "    accuracy                           0.88      1002\n",
      "   macro avg       0.69      0.65      0.67      1002\n",
      "weighted avg       0.87      0.88      0.88      1002\n",
      "\n"
     ]
    }
   ],
   "source": [
    "print(\"Report:\", classification_report(labelled_class,pred_class))"
   ]
  },
  {
   "cell_type": "code",
   "execution_count": 8,
   "metadata": {},
   "outputs": [
    {
     "name": "stdout",
     "output_type": "stream",
     "text": [
      "Predict   0         1         \n",
      "Actual\n",
      "0         40        71        \n",
      "\n",
      "1         47        844       \n",
      "\n",
      "\n",
      "\n",
      "\n",
      "\n",
      "Overall Statistics : \n",
      "\n",
      "95% CI                                                            (0.86228,0.90219)\n",
      "ACC Macro                                                         0.88224\n",
      "ARI                                                               0.29092\n",
      "AUNP                                                              0.65381\n",
      "AUNU                                                              0.65381\n",
      "Bangdiwala B                                                      0.86546\n",
      "Bennett S                                                         0.76447\n",
      "CBA                                                               0.64138\n",
      "CSI                                                               0.34489\n",
      "Chi-Squared                                                       117.79606\n",
      "Chi-Squared DF                                                    1\n",
      "Conditional Entropy                                               0.36942\n",
      "Cramer V                                                          0.34287\n",
      "Cross Entropy                                                     0.5071\n",
      "F1 Macro                                                          0.66935\n",
      "F1 Micro                                                          0.88224\n",
      "FNR Macro                                                         0.34619\n",
      "FNR Micro                                                         0.11776\n",
      "FPR Macro                                                         0.34619\n",
      "FPR Micro                                                         0.11776\n",
      "Gwet AC1                                                          0.85672\n",
      "Hamming Loss                                                      0.11776\n",
      "Joint Entropy                                                     0.87168\n",
      "KL Divergence                                                     0.00484\n",
      "Kappa                                                             0.33977\n",
      "Kappa 95% CI                                                      (0.22787,0.45166)\n",
      "Kappa No Prevalence                                               0.76447\n",
      "Kappa Standard Error                                              0.05709\n",
      "Kappa Unbiased                                                    0.3387\n",
      "Krippendorff Alpha                                                0.33903\n",
      "Lambda A                                                          0.0\n",
      "Lambda B                                                          0.0\n",
      "Mutual Information                                                0.05637\n",
      "NIR                                                               0.88922\n",
      "Overall ACC                                                       0.88224\n",
      "Overall CEN                                                       0.38995\n",
      "Overall J                                                         (1.1305,0.56525)\n",
      "Overall MCC                                                       0.34287\n",
      "Overall MCEN                                                      0.31727\n",
      "Overall RACC                                                      0.82163\n",
      "Overall RACCU                                                     0.82192\n",
      "P-Value                                                           0.77654\n",
      "PPV Macro                                                         0.69109\n",
      "PPV Micro                                                         0.88224\n",
      "Pearson C                                                         0.32434\n",
      "Phi-Squared                                                       0.11756\n",
      "RCI                                                               0.11223\n",
      "RR                                                                501.0\n",
      "Reference Entropy                                                 0.50226\n",
      "Response Entropy                                                  0.42579\n",
      "SOA1(Landis & Koch)                                               Fair\n",
      "SOA2(Fleiss)                                                      Poor\n",
      "SOA3(Altman)                                                      Fair\n",
      "SOA4(Cicchetti)                                                   Poor\n",
      "SOA5(Cramer)                                                      Moderate\n",
      "SOA6(Matthews)                                                    Weak\n",
      "Scott PI                                                          0.3387\n",
      "Standard Error                                                    0.01018\n",
      "TNR Macro                                                         0.65381\n",
      "TNR Micro                                                         0.88224\n",
      "TPR Macro                                                         0.65381\n",
      "TPR Micro                                                         0.88224\n",
      "Zero-one Loss                                                     118\n",
      "\n",
      "Class Statistics :\n",
      "\n",
      "Classes                                                           0             1             \n",
      "ACC(Accuracy)                                                     0.88224       0.88224       \n",
      "AGF(Adjusted F-score)                                             0.59098       0.64073       \n",
      "AGM(Adjusted geometric mean)                                      0.75511       0.56192       \n",
      "AM(Difference between automatic and manual classification)        -24           24            \n",
      "AUC(Area under the ROC curve)                                     0.65381       0.65381       \n",
      "AUCI(AUC value interpretation)                                    Fair          Fair          \n",
      "AUPR(Area under the PR curve)                                     0.41007       0.93483       \n",
      "BCD(Bray-Curtis dissimilarity)                                    0.01198       0.01198       \n",
      "BM(Informedness or bookmaker informedness)                        0.30761       0.30761       \n",
      "CEN(Confusion entropy)                                            1.02306       0.32054       \n",
      "DOR(Diagnostic odds ratio)                                        10.11687      10.11687      \n",
      "DP(Discriminant power)                                            0.55411       0.55411       \n",
      "DPI(Discriminant power interpretation)                            Poor          Poor          \n",
      "ERR(Error rate)                                                   0.11776       0.11776       \n",
      "F0.5(F0.5 score)                                                  0.43573       0.92727       \n",
      "F1(F1 score - harmonic mean of precision and sensitivity)         0.40404       0.93466       \n",
      "F2(F2 score)                                                      0.37665       0.94217       \n",
      "FDR(False discovery rate)                                         0.54023       0.0776        \n",
      "FN(False negative/miss/type 2 error)                              71            47            \n",
      "FNR(Miss rate or false negative rate)                             0.63964       0.05275       \n",
      "FOR(False omission rate)                                          0.0776        0.54023       \n",
      "FP(False positive/type 1 error/false alarm)                       47            71            \n",
      "FPR(Fall-out or false positive rate)                              0.05275       0.63964       \n",
      "G(G-measure geometric mean of precision and sensitivity)          0.40704       0.93474       \n",
      "GI(Gini index)                                                    0.30761       0.30761       \n",
      "GM(G-mean geometric mean of specificity and sensitivity)          0.58425       0.58425       \n",
      "IBA(Index of balanced accuracy)                                   0.14102       0.54169       \n",
      "ICSI(Individual classification success index)                     -0.17987      0.86965       \n",
      "IS(Information score)                                             2.05324       0.05286       \n",
      "J(Jaccard index)                                                  0.25316       0.87734       \n",
      "LS(Lift score)                                                    4.15036       1.03732       \n",
      "MCC(Matthews correlation coefficient)                             0.34287       0.34287       \n",
      "MCCI(Matthews correlation coefficient interpretation)             Weak          Weak          \n",
      "MCEN(Modified confusion entropy)                                  1.03891       0.4903        \n",
      "MK(Markedness)                                                    0.38217       0.38217       \n",
      "N(Condition negative)                                             891           111           \n",
      "NLR(Negative likelihood ratio)                                    0.67526       0.14638       \n",
      "NLRI(Negative likelihood ratio interpretation)                    Negligible    Fair          \n",
      "NPV(Negative predictive value)                                    0.9224        0.45977       \n",
      "OC(Overlap coefficient)                                           0.45977       0.94725       \n",
      "OOC(Otsuka-Ochiai coefficient)                                    0.40704       0.93474       \n",
      "OP(Optimized precision)                                           0.43341       0.43341       \n",
      "P(Condition positive or support)                                  111           891           \n",
      "PLR(Positive likelihood ratio)                                    6.83151       1.48091       \n",
      "PLRI(Positive likelihood ratio interpretation)                    Fair          Poor          \n",
      "POP(Population)                                                   1002          1002          \n",
      "PPV(Precision or positive predictive value)                       0.45977       0.9224        \n",
      "PRE(Prevalence)                                                   0.11078       0.88922       \n",
      "Q(Yule Q - coefficient of colligation)                            0.82009       0.82009       \n",
      "QI(Yule Q interpretation)                                         Strong        Strong        \n",
      "RACC(Random accuracy)                                             0.00962       0.81201       \n",
      "RACCU(Random accuracy unbiased)                                   0.00976       0.81216       \n",
      "TN(True negative/correct rejection)                               844           40            \n",
      "TNR(Specificity or true negative rate)                            0.94725       0.36036       \n",
      "TON(Test outcome negative)                                        915           87            \n",
      "TOP(Test outcome positive)                                        87            915           \n",
      "TP(True positive/hit)                                             40            844           \n",
      "TPR(Sensitivity, recall, hit rate, or true positive rate)         0.36036       0.94725       \n",
      "Y(Youden index)                                                   0.30761       0.30761       \n",
      "dInd(Distance index)                                              0.64181       0.64181       \n",
      "sInd(Similarity index)                                            0.54617       0.54617       \n",
      "\n"
     ]
    }
   ],
   "source": [
    "print(ConfusionMatrix(actual_vector=list(labelled_class),predict_vector=(pred_class)))"
   ]
  },
  {
   "cell_type": "markdown",
   "metadata": {},
   "source": [
    "# AUC Score (for models with 1 output layer!)"
   ]
  },
  {
   "cell_type": "code",
   "execution_count": 9,
   "metadata": {
    "scrolled": true
   },
   "outputs": [
    {
     "name": "stdout",
     "output_type": "stream",
     "text": [
      "AUC Score:  0.7906391239724573\n"
     ]
    }
   ],
   "source": [
    "import matplotlib.pyplot as plt\n",
    "from sklearn.metrics import roc_curve, auc\n",
    "from sklearn.metrics import roc_auc_score\n",
    "\n",
    "#BINARY CLASS METHOD (which requires 1D output from model)\n",
    "    \n",
    "#getting AUC score\n",
    "roc_auc = roc_auc_score(labelled_class, pred_probs)\n",
    "print(\"AUC Score: \", roc_auc)"
   ]
  },
  {
   "cell_type": "markdown",
   "metadata": {},
   "source": [
    "# Plot ROC curve and save (for models with 1 output layer!)"
   ]
  },
  {
   "cell_type": "code",
   "execution_count": 10,
   "metadata": {},
   "outputs": [
    {
     "data": {
      "image/png": "[encoded data removed]",
      "text/plain": [
       "<Figure size 432x288 with 1 Axes>"
      ]
     },
     "metadata": {
      "needs_background": "light"
     },
     "output_type": "display_data"
    },
    {
     "name": "stdout",
     "output_type": "stream",
     "text": [
      "Path to plot: C:\\Users\\SWONG\\PRS_project\\Model\\DenseNet121_AsymImg_final_roc.png\n"
     ]
    }
   ],
   "source": [
    "#plotting ROC\n",
    "fpr, tpr, thresholds = roc_curve(labelled_class, pred_probs)\n",
    "plt.figure()\n",
    "plt.plot([0,1],[0,1],'--', label='Random Classifier')\n",
    "plt.plot(fpr,tpr,label='ROC Curve DenseNet121_asymImg(area = %0.2f)' %roc_auc)\n",
    "plt.xlabel('False Positive Rate')\n",
    "plt.ylabel('True Positive Rate')\n",
    "plt.title(\"ROC Curve for \" + model_name.split('.')[0])\n",
    "plt.legend(loc=\"lower right\")\n",
    "\n",
    "roc_plotpath  = model_path + model_name.split('.')[0] + '_roc.png'\n",
    "plt.savefig(roc_plotpath)\n",
    "plt.show()\n",
    "print(\"Path to plot:\", roc_plotpath)"
   ]
  },
  {
   "cell_type": "code",
   "execution_count": null,
   "metadata": {},
   "outputs": [],
   "source": []
  }
 ],
 "metadata": {
  "kernelspec": {
   "display_name": "Python 3",
   "language": "python",
   "name": "python3"
  },
  "language_info": {
   "codemirror_mode": {
    "name": "ipython",
    "version": 3
   },
   "file_extension": ".py",
   "mimetype": "text/x-python",
   "name": "python",
   "nbconvert_exporter": "python",
   "pygments_lexer": "ipython3",
   "version": "3.8.5"
  }
 },
 "nbformat": 4,
 "nbformat_minor": 4
}
