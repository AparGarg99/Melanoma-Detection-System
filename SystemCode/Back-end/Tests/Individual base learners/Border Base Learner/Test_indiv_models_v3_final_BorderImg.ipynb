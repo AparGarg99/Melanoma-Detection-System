{
 "cells": [
  {
   "cell_type": "markdown",
   "metadata": {},
   "source": [
    "# Set paths and get a list of all test images"
   ]
  },
  {
   "cell_type": "code",
   "execution_count": 1,
   "metadata": {},
   "outputs": [],
   "source": [
    "import os\n",
    "import tensorflow as tf\n",
    "from tensorflow.keras.models import load_model\n",
    "import tensorflow_addons as tfa\n",
    "\n",
    "#set path to model folder\n",
    "model_path = 'C:\\\\Users\\\\SWONG\\\\PRS_project\\\\Model\\\\'\n",
    "\n",
    "#input name of model to be tested\n",
    "model_name = 'DenseNet121_borderImg.hdf5'\n",
    "\n",
    "#set path to test images\n",
    "test_image_path_pos = 'C:\\\\Users\\\\SWONG\\\\PRS_project\\\\Border_data\\\\test\\\\melanoma\\\\'\n",
    "test_image_path_neg = 'C:\\\\Users\\\\SWONG\\\\PRS_project\\\\Border_data\\\\test\\\\non_melanoma\\\\'\n",
    "\n",
    "#load model to be tested\n",
    "model = load_model(os.path.join(model_path,model_name))\n",
    "\n",
    "#getting the lists of melanoma and non_melanoma images\n",
    "image_list_pos = os.listdir(test_image_path_pos)\n",
    "image_list_neg = os.listdir(test_image_path_neg)\n",
    "\n",
    "image_list_all = []\n",
    "for image in image_list_pos:\n",
    "    image_list_all.append(os.path.join(test_image_path_pos,image))\n",
    "for image in image_list_neg:\n",
    "    image_list_all.append(os.path.join(test_image_path_neg,image))"
   ]
  },
  {
   "cell_type": "markdown",
   "metadata": {},
   "source": [
    "# Function to preprocess test images to feed into model"
   ]
  },
  {
   "cell_type": "code",
   "execution_count": 2,
   "metadata": {},
   "outputs": [
    {
     "name": "stdout",
     "output_type": "stream",
     "text": [
      "(1002, 224, 224, 3)\n"
     ]
    }
   ],
   "source": [
    "import numpy as np\n",
    "from tensorflow.keras.preprocessing import image\n",
    "\n",
    "#preprocessing images to a nparray\n",
    "def image_preprocessing_all(img_list):\n",
    "    images = []\n",
    "    for img in img_list:\n",
    "        img = image.load_img(img,target_size=(224,224))\n",
    "        images.append(np.asarray(img))\n",
    "    images_np = np.array(images)\n",
    "    return images_np\n",
    "\n",
    "#storing all the test images in nparray format\n",
    "images_np = image_preprocessing_all(image_list_all) \n",
    "print(images_np.shape)"
   ]
  },
  {
   "cell_type": "markdown",
   "metadata": {},
   "source": [
    "# Predict test image classes and store results "
   ]
  },
  {
   "cell_type": "code",
   "execution_count": 3,
   "metadata": {},
   "outputs": [
    {
     "name": "stdout",
     "output_type": "stream",
     "text": [
      "Length of labelled_class list: 1002\n",
      "Shape of pred_probs: (1002, 1)\n"
     ]
    }
   ],
   "source": [
    "from tensorflow.keras.preprocessing import image\n",
    "\n",
    "#storing the true label for the images in labelled_class\n",
    "labelled_class = []\n",
    "for img in image_list_pos:\n",
    "    labelled_class.append(0)\n",
    "for img in image_list_neg:\n",
    "    labelled_class.append(1)\n",
    "    \n",
    "#class probabilites for each image in test set\n",
    "pred_probs = model.predict(images_np)\n",
    "\n",
    "print('Length of labelled_class list:', len(labelled_class))\n",
    "print('Shape of pred_probs:', pred_probs.shape)"
   ]
  },
  {
   "cell_type": "markdown",
   "metadata": {},
   "source": [
    "# Saving the predictions as an np array to train final classifier"
   ]
  },
  {
   "cell_type": "code",
   "execution_count": 4,
   "metadata": {},
   "outputs": [],
   "source": [
    "# save numpy array as npy file\n",
    "from numpy import asarray\n",
    "from numpy import save\n",
    "\n",
    "arr_path = model_path + '\\\\numpy_baseClassifier_predictions\\\\test_preds_border.npy'\n",
    "\n",
    "# save to npy file\n",
    "save(arr_path, pred_probs)"
   ]
  },
  {
   "cell_type": "markdown",
   "metadata": {},
   "source": [
    "# Model evaluation using accuracy and loss"
   ]
  },
  {
   "cell_type": "code",
   "execution_count": 5,
   "metadata": {},
   "outputs": [
    {
     "name": "stdout",
     "output_type": "stream",
     "text": [
      "Test loss: 0.25141945481300354\n",
      "Test accuracy: 0.8922155499458313\n"
     ]
    }
   ],
   "source": [
    "score = model.evaluate(images_np, np.array(labelled_class), verbose = 0) \n",
    "\n",
    "print('Test loss:', score[0]) \n",
    "print('Test accuracy:', score[1])"
   ]
  },
  {
   "cell_type": "markdown",
   "metadata": {},
   "source": [
    "# Accuracy, Classification Report, Confusion Matrix"
   ]
  },
  {
   "cell_type": "code",
   "execution_count": 6,
   "metadata": {
    "scrolled": true
   },
   "outputs": [
    {
     "name": "stdout",
     "output_type": "stream",
     "text": [
      "Accuracy: 89.22155688622755\n"
     ]
    }
   ],
   "source": [
    "from pycm import ConfusionMatrix\n",
    "from sklearn.metrics import accuracy_score, confusion_matrix, classification_report\n",
    "\n",
    "#set the threshold of prediction probability, below that is considered melanoma\n",
    "threshold = 0.5\n",
    "\n",
    "#converting the prediction probabilities to a list of binary predictions\n",
    "pred_class = []\n",
    "for pred in pred_probs:\n",
    "    if pred < threshold:\n",
    "        pred_class.append(0)\n",
    "    else:\n",
    "        pred_class.append(1)\n",
    "        \n",
    "print(\"Accuracy:\",accuracy_score(labelled_class,pred_class)*100)"
   ]
  },
  {
   "cell_type": "code",
   "execution_count": 7,
   "metadata": {},
   "outputs": [
    {
     "name": "stdout",
     "output_type": "stream",
     "text": [
      "Report:               precision    recall  f1-score   support\n",
      "\n",
      "           0       0.52      0.33      0.41       111\n",
      "           1       0.92      0.96      0.94       891\n",
      "\n",
      "    accuracy                           0.89      1002\n",
      "   macro avg       0.72      0.65      0.67      1002\n",
      "weighted avg       0.88      0.89      0.88      1002\n",
      "\n"
     ]
    }
   ],
   "source": [
    "print(\"Report:\", classification_report(labelled_class,pred_class))"
   ]
  },
  {
   "cell_type": "code",
   "execution_count": 8,
   "metadata": {},
   "outputs": [
    {
     "name": "stdout",
     "output_type": "stream",
     "text": [
      "Predict   0         1         \n",
      "Actual\n",
      "0         37        74        \n",
      "\n",
      "1         34        857       \n",
      "\n",
      "\n",
      "\n",
      "\n",
      "\n",
      "Overall Statistics : \n",
      "\n",
      "95% CI                                                            (0.87301,0.91142)\n",
      "ACC Macro                                                         0.89222\n",
      "ARI                                                               0.30503\n",
      "AUNP                                                              0.64759\n",
      "AUNU                                                              0.64759\n",
      "Bangdiwala B                                                      0.87869\n",
      "Bennett S                                                         0.78443\n",
      "CBA                                                               0.62692\n",
      "CSI                                                               0.36841\n",
      "Chi-Squared                                                       130.62204\n",
      "Chi-Squared DF                                                    1\n",
      "Conditional Entropy                                               0.30962\n",
      "Cramer V                                                          0.36106\n",
      "Cross Entropy                                                     0.51734\n",
      "F1 Macro                                                          0.67366\n",
      "F1 Micro                                                          0.89222\n",
      "FNR Macro                                                         0.35241\n",
      "FNR Micro                                                         0.10778\n",
      "FPR Macro                                                         0.35241\n",
      "FPR Micro                                                         0.10778\n",
      "Gwet AC1                                                          0.8709\n",
      "Hamming Loss                                                      0.10778\n",
      "Joint Entropy                                                     0.81188\n",
      "KL Divergence                                                     0.01508\n",
      "Kappa                                                             0.35045\n",
      "Kappa 95% CI                                                      (0.23474,0.46617)\n",
      "Kappa No Prevalence                                               0.78443\n",
      "Kappa Standard Error                                              0.05904\n",
      "Kappa Unbiased                                                    0.34732\n",
      "Krippendorff Alpha                                                0.34764\n",
      "Lambda A                                                          0.02703\n",
      "Lambda B                                                          0.0\n",
      "Mutual Information                                                0.0595\n",
      "NIR                                                               0.88922\n",
      "Overall ACC                                                       0.89222\n",
      "Overall CEN                                                       0.35712\n",
      "Overall J                                                         (1.14326,0.57163)\n",
      "Overall MCC                                                       0.36106\n",
      "Overall MCEN                                                      0.29004\n",
      "Overall RACC                                                      0.83406\n",
      "Overall RACCU                                                     0.83486\n",
      "P-Value                                                           0.40542\n",
      "PPV Macro                                                         0.72082\n",
      "PPV Micro                                                         0.89222\n",
      "Pearson C                                                         0.3396\n",
      "Phi-Squared                                                       0.13036\n",
      "RCI                                                               0.11847\n",
      "RR                                                                501.0\n",
      "Reference Entropy                                                 0.50226\n",
      "Response Entropy                                                  0.36912\n",
      "SOA1(Landis & Koch)                                               Fair\n",
      "SOA2(Fleiss)                                                      Poor\n",
      "SOA3(Altman)                                                      Fair\n",
      "SOA4(Cicchetti)                                                   Poor\n",
      "SOA5(Cramer)                                                      Moderate\n",
      "SOA6(Matthews)                                                    Weak\n",
      "Scott PI                                                          0.34732\n",
      "Standard Error                                                    0.0098\n",
      "TNR Macro                                                         0.64759\n",
      "TNR Micro                                                         0.89222\n",
      "TPR Macro                                                         0.64759\n",
      "TPR Micro                                                         0.89222\n",
      "Zero-one Loss                                                     108\n",
      "\n",
      "Class Statistics :\n",
      "\n",
      "Classes                                                           0             1             \n",
      "ACC(Accuracy)                                                     0.89222       0.89222       \n",
      "AGF(Adjusted F-score)                                             0.57753       0.66819       \n",
      "AGM(Adjusted geometric mean)                                      0.75244       0.543         \n",
      "AM(Difference between automatic and manual classification)        -40           40            \n",
      "AUC(Area under the ROC curve)                                     0.64759       0.64759       \n",
      "AUCI(AUC value interpretation)                                    Fair          Fair          \n",
      "AUPR(Area under the PR curve)                                     0.42723       0.94118       \n",
      "BCD(Bray-Curtis dissimilarity)                                    0.01996       0.01996       \n",
      "BM(Informedness or bookmaker informedness)                        0.29517       0.29517       \n",
      "CEN(Confusion entropy)                                            0.98005       0.2949        \n",
      "DOR(Diagnostic odds ratio)                                        12.60294      12.60294      \n",
      "DP(Discriminant power)                                            0.60672       0.60672       \n",
      "DPI(Discriminant power interpretation)                            Poor          Poor          \n",
      "ERR(Error rate)                                                   0.10778       0.10778       \n",
      "F0.5(F0.5 score)                                                  0.46835       0.92849       \n",
      "F1(F1 score - harmonic mean of precision and sensitivity)         0.40659       0.94072       \n",
      "F2(F2 score)                                                      0.35922       0.95328       \n",
      "FDR(False discovery rate)                                         0.47887       0.07948       \n",
      "FN(False negative/miss/type 2 error)                              74            34            \n",
      "FNR(Miss rate or false negative rate)                             0.66667       0.03816       \n",
      "FOR(False omission rate)                                          0.07948       0.47887       \n",
      "FP(False positive/type 1 error/false alarm)                       34            74            \n",
      "FPR(Fall-out or false positive rate)                              0.03816       0.66667       \n",
      "G(G-measure geometric mean of precision and sensitivity)          0.41678       0.94095       \n",
      "GI(Gini index)                                                    0.29517       0.29517       \n",
      "GM(G-mean geometric mean of specificity and sensitivity)          0.56623       0.56623       \n",
      "IBA(Index of balanced accuracy)                                   0.11911       0.52212       \n",
      "ICSI(Individual classification success index)                     -0.14554      0.88236       \n",
      "IS(Information score)                                             2.23396       0.0499        \n",
      "J(Jaccard index)                                                  0.25517       0.88808       \n",
      "LS(Lift score)                                                    4.70423       1.03519       \n",
      "MCC(Matthews correlation coefficient)                             0.36106       0.36106       \n",
      "MCCI(Matthews correlation coefficient interpretation)             Weak          Weak          \n",
      "MCEN(Modified confusion entropy)                                  0.98591       0.45418       \n",
      "MK(Markedness)                                                    0.44164       0.44164       \n",
      "N(Condition negative)                                             891           111           \n",
      "NLR(Negative likelihood ratio)                                    0.69312       0.11448       \n",
      "NLRI(Negative likelihood ratio interpretation)                    Negligible    Fair          \n",
      "NPV(Negative predictive value)                                    0.92052       0.52113       \n",
      "OC(Overlap coefficient)                                           0.52113       0.96184       \n",
      "OOC(Otsuka-Ochiai coefficient)                                    0.41678       0.94095       \n",
      "OP(Optimized precision)                                           0.40695       0.40695       \n",
      "P(Condition positive or support)                                  111           891           \n",
      "PLR(Positive likelihood ratio)                                    8.73529       1.44276       \n",
      "PLRI(Positive likelihood ratio interpretation)                    Fair          Poor          \n",
      "POP(Population)                                                   1002          1002          \n",
      "PPV(Precision or positive predictive value)                       0.52113       0.92052       \n",
      "PRE(Prevalence)                                                   0.11078       0.88922       \n",
      "Q(Yule Q - coefficient of colligation)                            0.85297       0.85297       \n",
      "QI(Yule Q interpretation)                                         Strong        Strong        \n",
      "RACC(Random accuracy)                                             0.00785       0.82621       \n",
      "RACCU(Random accuracy unbiased)                                   0.00825       0.82661       \n",
      "TN(True negative/correct rejection)                               857           37            \n",
      "TNR(Specificity or true negative rate)                            0.96184       0.33333       \n",
      "TON(Test outcome negative)                                        931           71            \n",
      "TOP(Test outcome positive)                                        71            931           \n",
      "TP(True positive/hit)                                             37            857           \n",
      "TPR(Sensitivity, recall, hit rate, or true positive rate)         0.33333       0.96184       \n",
      "Y(Youden index)                                                   0.29517       0.29517       \n",
      "dInd(Distance index)                                              0.66776       0.66776       \n",
      "sInd(Similarity index)                                            0.52782       0.52782       \n",
      "\n"
     ]
    }
   ],
   "source": [
    "print(ConfusionMatrix(actual_vector=list(labelled_class),predict_vector=(pred_class)))"
   ]
  },
  {
   "cell_type": "markdown",
   "metadata": {},
   "source": [
    "# AUC Score (for models with 1 output layer!)"
   ]
  },
  {
   "cell_type": "code",
   "execution_count": 9,
   "metadata": {
    "scrolled": false
   },
   "outputs": [
    {
     "name": "stdout",
     "output_type": "stream",
     "text": [
      "AUC Score:  0.87657354324021\n"
     ]
    }
   ],
   "source": [
    "import matplotlib.pyplot as plt\n",
    "from sklearn.metrics import roc_curve, auc\n",
    "from sklearn.metrics import roc_auc_score\n",
    "\n",
    "#BINARY CLASS METHOD (which requires 1D output from model)\n",
    "    \n",
    "#getting AUC score\n",
    "roc_auc = roc_auc_score(labelled_class, pred_probs)\n",
    "print(\"AUC Score: \", roc_auc)"
   ]
  },
  {
   "cell_type": "markdown",
   "metadata": {},
   "source": [
    "# Plot ROC curve and save (for models with 1 output layer!)"
   ]
  },
  {
   "cell_type": "code",
   "execution_count": 10,
   "metadata": {},
   "outputs": [
    {
     "data": {
      "image/png": "[encoded data removed]",
      "text/plain": [
       "<Figure size 432x288 with 1 Axes>"
      ]
     },
     "metadata": {
      "needs_background": "light"
     },
     "output_type": "display_data"
    },
    {
     "name": "stdout",
     "output_type": "stream",
     "text": [
      "Path to plot: C:\\Users\\SWONG\\PRS_project\\Model\\DenseNet121_borderImg_roc.png\n"
     ]
    }
   ],
   "source": [
    "#plotting ROC\n",
    "fpr, tpr, thresholds = roc_curve(labelled_class, pred_probs)\n",
    "plt.figure()\n",
    "plt.plot([0,1],[0,1],'--', label='Random Classifier')\n",
    "plt.plot(fpr,tpr,label='ROC Curve DenseNet121_borderImg(area = %0.2f)' %roc_auc)\n",
    "plt.xlabel('False Positive Rate')\n",
    "plt.ylabel('True Positive Rate')\n",
    "plt.title(\"ROC Curve for \" + model_name.split('.')[0])\n",
    "plt.legend(loc=\"lower right\")\n",
    "\n",
    "roc_plotpath  = model_path + model_name.split('.')[0] + '_roc.png'\n",
    "plt.savefig(roc_plotpath)\n",
    "plt.show()\n",
    "print(\"Path to plot:\", roc_plotpath)"
   ]
  },
  {
   "cell_type": "code",
   "execution_count": null,
   "metadata": {},
   "outputs": [],
   "source": []
  },
  {
   "cell_type": "code",
   "execution_count": null,
   "metadata": {},
   "outputs": [],
   "source": []
  }
 ],
 "metadata": {
  "kernelspec": {
   "display_name": "Python 3",
   "language": "python",
   "name": "python3"
  },
  "language_info": {
   "codemirror_mode": {
    "name": "ipython",
    "version": 3
   },
   "file_extension": ".py",
   "mimetype": "text/x-python",
   "name": "python",
   "nbconvert_exporter": "python",
   "pygments_lexer": "ipython3",
   "version": "3.8.5"
  }
 },
 "nbformat": 4,
 "nbformat_minor": 4
}
