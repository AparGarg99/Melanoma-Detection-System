{
 "cells": [
  {
   "cell_type": "markdown",
   "metadata": {},
   "source": [
    "# Import required packages"
   ]
  },
  {
   "cell_type": "code",
   "execution_count": 1,
   "metadata": {},
   "outputs": [],
   "source": [
    "from numpy import load\n",
    "import numpy as np\n",
    "import pandas as pd\n",
    "from sklearn.linear_model import LogisticRegression\n",
    "from pycm import ConfusionMatrix\n",
    "from sklearn.metrics import accuracy_score, confusion_matrix, classification_report"
   ]
  },
  {
   "cell_type": "markdown",
   "metadata": {},
   "source": [
    "# Set path to base models val/test predictions (numpy arrays) and load them"
   ]
  },
  {
   "cell_type": "code",
   "execution_count": 2,
   "metadata": {},
   "outputs": [],
   "source": [
    "model_path = 'C:\\\\Users\\\\SWONG\\\\PRS_project\\\\Model\\\\'\n",
    "arr_path = 'C:\\\\Users\\\\SWONG\\\\PRS_project\\\\Model\\\\numpy_baseClassifier_predictions\\\\'\n",
    "\n",
    "# load numpy array from npy file\n",
    "np_val_asym_preds = load(arr_path+'val_preds_asym.npy')\n",
    "np_val_border_preds = load(arr_path+'val_preds_border.npy')\n",
    "np_val_center_preds = load(arr_path+'val_preds_center.npy')\n",
    "np_val_orig_preds = load(arr_path+'val_preds_orig.npy')\n",
    "np_val_blueWhite_preds = load(arr_path+'val_preds_blueWhite.npy')\n",
    "\n",
    "np_test_asym_preds = load(arr_path+'test_preds_asym.npy')\n",
    "np_test_border_preds = load(arr_path+'test_preds_border.npy')\n",
    "np_test_center_preds = load(arr_path+'test_preds_center.npy')\n",
    "np_test_orig_preds = load(arr_path+'test_preds_orig.npy')\n",
    "np_test_blueWhite_preds = load(arr_path+'test_preds_blueWhite.npy')"
   ]
  },
  {
   "cell_type": "code",
   "execution_count": 3,
   "metadata": {},
   "outputs": [],
   "source": [
    "#storing the true labels in lists\n",
    "train_labelled_class = [0]*902 + [1]*7209\n",
    "val_labelled_class = [0]*100 + [1]*802\n",
    "test_labelled_class = [0]*111 + [1]*891"
   ]
  },
  {
   "cell_type": "markdown",
   "metadata": {},
   "source": [
    "# Define the X (input) and the Y (true labels) for val and test data"
   ]
  },
  {
   "cell_type": "code",
   "execution_count": 4,
   "metadata": {},
   "outputs": [],
   "source": [
    "X_val = np.concatenate(np.array([np_val_asym_preds, np_val_border_preds, np_val_center_preds, np_val_orig_preds, np_val_blueWhite_preds]), axis=1)\n",
    "Y_val = np.array(val_labelled_class)\n",
    "X_test = np.concatenate(np.array([np_test_asym_preds, np_test_border_preds, np_test_center_preds, np_test_orig_preds, np_test_blueWhite_preds]), axis=1)\n",
    "Y_test = np.array(test_labelled_class)"
   ]
  },
  {
   "cell_type": "markdown",
   "metadata": {},
   "source": [
    "# Train LOGISTIC REGRESSION classifier using base models val predictions"
   ]
  },
  {
   "cell_type": "code",
   "execution_count": 5,
   "metadata": {},
   "outputs": [],
   "source": [
    "#combine model validation data predictions by SVM\n",
    "#fit the logistic regression model using X_val and Y_val data\n",
    "lr_model = LogisticRegression(class_weight='balanced').fit(X_val, Y_val)\n",
    "\n",
    "#perform prediction on test data\n",
    "lr_pred_class = lr_model.predict(X_test)\n",
    "lr_pred_proba = lr_model.predict_proba(X_test)"
   ]
  },
  {
   "cell_type": "markdown",
   "metadata": {},
   "source": [
    "# Logistic Regression Accuracy, Classification Report, Confusion Matrix"
   ]
  },
  {
   "cell_type": "code",
   "execution_count": 10,
   "metadata": {},
   "outputs": [
    {
     "name": "stdout",
     "output_type": "stream",
     "text": [
      "Accuracy: 89.22155688622755\n",
      "Report:               precision    recall  f1-score   support\n",
      "\n",
      "           0       0.51      0.82      0.63       111\n",
      "           1       0.98      0.90      0.94       891\n",
      "\n",
      "    accuracy                           0.89      1002\n",
      "   macro avg       0.74      0.86      0.78      1002\n",
      "weighted avg       0.92      0.89      0.90      1002\n",
      "\n"
     ]
    }
   ],
   "source": [
    "#Logistic regression classifier, trained on base model valiadation data predictions\n",
    "        \n",
    "print(\"Accuracy:\",accuracy_score(Y_test,lr_pred_class)*100)\n",
    "print(\"Report:\", classification_report(Y_test,lr_pred_class))"
   ]
  },
  {
   "cell_type": "code",
   "execution_count": 11,
   "metadata": {},
   "outputs": [
    {
     "name": "stdout",
     "output_type": "stream",
     "text": [
      "Predict   0         1         \n",
      "Actual\n",
      "0         91        20        \n",
      "\n",
      "1         88        803       \n",
      "\n",
      "\n",
      "\n",
      "\n",
      "\n",
      "Overall Statistics : \n",
      "\n",
      "95% CI                                                            (0.87301,0.91142)\n",
      "ACC Macro                                                         0.89222\n",
      "ARI                                                               0.48673\n",
      "AUNP                                                              0.86053\n",
      "AUNU                                                              0.86053\n",
      "Bangdiwala B                                                      0.86713\n",
      "Bennett S                                                         0.78443\n",
      "CBA                                                               0.70481\n",
      "CSI                                                               0.60257\n",
      "Chi-Squared                                                       349.74506\n",
      "Chi-Squared DF                                                    1\n",
      "Conditional Entropy                                               0.48893\n",
      "Cramer V                                                          0.5908\n",
      "Cross Entropy                                                     0.52773\n",
      "F1 Macro                                                          0.78229\n",
      "F1 Micro                                                          0.89222\n",
      "FNR Macro                                                         0.13947\n",
      "FNR Micro                                                         0.10778\n",
      "FPR Macro                                                         0.13947\n",
      "FPR Micro                                                         0.10778\n",
      "Gwet AC1                                                          0.85676\n",
      "Hamming Loss                                                      0.10778\n",
      "Joint Entropy                                                     0.99119\n",
      "KL Divergence                                                     0.02547\n",
      "Kappa                                                             0.56859\n",
      "Kappa 95% CI                                                      (0.49173,0.64544)\n",
      "Kappa No Prevalence                                               0.78443\n",
      "Kappa Standard Error                                              0.03921\n",
      "Kappa Unbiased                                                    0.56458\n",
      "Krippendorff Alpha                                                0.56479\n",
      "Lambda A                                                          0.02703\n",
      "Lambda B                                                          0.39665\n",
      "Mutual Information                                                0.18817\n",
      "NIR                                                               0.88922\n",
      "Overall ACC                                                       0.89222\n",
      "Overall CEN                                                       0.36624\n",
      "Overall J                                                         (1.33874,0.66937)\n",
      "Overall MCC                                                       0.5908\n",
      "Overall MCEN                                                      0.28782\n",
      "Overall RACC                                                      0.75016\n",
      "Overall RACCU                                                     0.75246\n",
      "P-Value                                                           0.40542\n",
      "PPV Macro                                                         0.74204\n",
      "PPV Micro                                                         0.89222\n",
      "Pearson C                                                         0.50866\n",
      "Phi-Squared                                                       0.34905\n",
      "RCI                                                               0.37464\n",
      "RR                                                                501.0\n",
      "Reference Entropy                                                 0.50226\n",
      "Response Entropy                                                  0.6771\n",
      "SOA1(Landis & Koch)                                               Moderate\n",
      "SOA2(Fleiss)                                                      Intermediate to Good\n",
      "SOA3(Altman)                                                      Moderate\n",
      "SOA4(Cicchetti)                                                   Fair\n",
      "SOA5(Cramer)                                                      Relatively Strong\n",
      "SOA6(Matthews)                                                    Moderate\n",
      "Scott PI                                                          0.56458\n",
      "Standard Error                                                    0.0098\n",
      "TNR Macro                                                         0.86053\n",
      "TNR Micro                                                         0.89222\n",
      "TPR Macro                                                         0.86053\n",
      "TPR Micro                                                         0.89222\n",
      "Zero-one Loss                                                     108\n",
      "\n",
      "Class Statistics :\n",
      "\n",
      "Classes                                                           0             1             \n",
      "ACC(Accuracy)                                                     0.89222       0.89222       \n",
      "AGF(Adjusted F-score)                                             0.83726       0.7096        \n",
      "AGM(Adjusted geometric mean)                                      0.87918       0.8556        \n",
      "AM(Difference between automatic and manual classification)        68            -68           \n",
      "AUC(Area under the ROC curve)                                     0.86053       0.86053       \n",
      "AUCI(AUC value interpretation)                                    Very Good     Very Good     \n",
      "AUPR(Area under the PR curve)                                     0.6641        0.93847       \n",
      "BCD(Bray-Curtis dissimilarity)                                    0.03393       0.03393       \n",
      "BM(Informedness or bookmaker informedness)                        0.72105       0.72105       \n",
      "CEN(Confusion entropy)                                            0.78814       0.29486       \n",
      "DOR(Diagnostic odds ratio)                                        41.51875      41.51875      \n",
      "DP(Discriminant power)                                            0.89218       0.89218       \n",
      "DPI(Discriminant power interpretation)                            Poor          Poor          \n",
      "ERR(Error rate)                                                   0.10778       0.10778       \n",
      "F0.5(F0.5 score)                                                  0.55018       0.95984       \n",
      "F1(F1 score - harmonic mean of precision and sensitivity)         0.62759       0.93699       \n",
      "F2(F2 score)                                                      0.73034       0.9152        \n",
      "FDR(False discovery rate)                                         0.49162       0.0243        \n",
      "FN(False negative/miss/type 2 error)                              20            88            \n",
      "FNR(Miss rate or false negative rate)                             0.18018       0.09877       \n",
      "FOR(False omission rate)                                          0.0243        0.49162       \n",
      "FP(False positive/type 1 error/false alarm)                       88            20            \n",
      "FPR(Fall-out or false positive rate)                              0.09877       0.18018       \n",
      "G(G-measure geometric mean of precision and sensitivity)          0.64558       0.93773       \n",
      "GI(Gini index)                                                    0.72105       0.72105       \n",
      "GM(G-mean geometric mean of specificity and sensitivity)          0.85956       0.85956       \n",
      "IBA(Index of balanced accuracy)                                   0.6787        0.799         \n",
      "ICSI(Individual classification success index)                     0.3282        0.87693       \n",
      "IS(Information score)                                             2.19823       0.13389       \n",
      "J(Jaccard index)                                                  0.45729       0.88145       \n",
      "LS(Lift score)                                                    4.58916       1.09725       \n",
      "MCC(Matthews correlation coefficient)                             0.5908        0.5908        \n",
      "MCCI(Matthews correlation coefficient interpretation)             Moderate      Moderate      \n",
      "MCEN(Modified confusion entropy)                                  0.8537        0.44667       \n",
      "MK(Markedness)                                                    0.48408       0.48408       \n",
      "N(Condition negative)                                             891           111           \n",
      "NLR(Negative likelihood ratio)                                    0.19993       0.12047       \n",
      "NLRI(Negative likelihood ratio interpretation)                    Fair          Fair          \n",
      "NPV(Negative predictive value)                                    0.9757        0.50838       \n",
      "OC(Overlap coefficient)                                           0.81982       0.9757        \n",
      "OOC(Otsuka-Ochiai coefficient)                                    0.64558       0.93773       \n",
      "OP(Optimized precision)                                           0.84491       0.84491       \n",
      "P(Condition positive or support)                                  111           891           \n",
      "PLR(Positive likelihood ratio)                                    8.30068       5.00185       \n",
      "PLRI(Positive likelihood ratio interpretation)                    Fair          Fair          \n",
      "POP(Population)                                                   1002          1002          \n",
      "PPV(Precision or positive predictive value)                       0.50838       0.9757        \n",
      "PRE(Prevalence)                                                   0.11078       0.88922       \n",
      "Q(Yule Q - coefficient of colligation)                            0.95296       0.95296       \n",
      "QI(Yule Q interpretation)                                         Strong        Strong        \n",
      "RACC(Random accuracy)                                             0.01979       0.73037       \n",
      "RACCU(Random accuracy unbiased)                                   0.02094       0.73152       \n",
      "TN(True negative/correct rejection)                               803           91            \n",
      "TNR(Specificity or true negative rate)                            0.90123       0.81982       \n",
      "TON(Test outcome negative)                                        823           179           \n",
      "TOP(Test outcome positive)                                        179           823           \n",
      "TP(True positive/hit)                                             91            803           \n",
      "TPR(Sensitivity, recall, hit rate, or true positive rate)         0.81982       0.90123       \n",
      "Y(Youden index)                                                   0.72105       0.72105       \n",
      "dInd(Distance index)                                              0.20547       0.20547       \n",
      "sInd(Similarity index)                                            0.85471       0.85471       \n",
      "\n"
     ]
    }
   ],
   "source": [
    "print(ConfusionMatrix(actual_vector=list(Y_test),predict_vector=(lr_pred_class)))"
   ]
  },
  {
   "cell_type": "code",
   "execution_count": 12,
   "metadata": {},
   "outputs": [
    {
     "name": "stdout",
     "output_type": "stream",
     "text": [
      "Accuracy: 89.22155688622755\n",
      "Report:               precision    recall  f1-score   support\n",
      "\n",
      "           0       0.51      0.82      0.63       111\n",
      "           1       0.98      0.90      0.94       891\n",
      "\n",
      "    accuracy                           0.89      1002\n",
      "   macro avg       0.74      0.86      0.78      1002\n",
      "weighted avg       0.92      0.89      0.90      1002\n",
      "\n"
     ]
    }
   ],
   "source": [
    "#LogReg classifier, trained on base model valiadation data predictions\n",
    "\n",
    "#class predictions for each image based on probabilities\n",
    "Y_pred = []\n",
    "threshold = 0.5\n",
    "\n",
    "for pred in lr_pred_proba[:,1]:\n",
    "    if (pred <= threshold):\n",
    "        Y_pred.append(0)\n",
    "    elif (pred > threshold):\n",
    "        Y_pred.append(1)\n",
    "\n",
    "print(\"Accuracy:\",accuracy_score(Y_test, Y_pred)*100)\n",
    "print(\"Report:\", classification_report(Y_test, Y_pred))"
   ]
  },
  {
   "cell_type": "markdown",
   "metadata": {},
   "source": [
    "# AUC Score"
   ]
  },
  {
   "cell_type": "code",
   "execution_count": 13,
   "metadata": {},
   "outputs": [
    {
     "name": "stdout",
     "output_type": "stream",
     "text": [
      "AUC Score (logistic regression):  0.8605271938605272\n",
      "AUC Score (SVM (proba)):  0.9420834976390532\n"
     ]
    }
   ],
   "source": [
    "import matplotlib.pyplot as plt\n",
    "from sklearn.metrics import roc_curve, auc\n",
    "from sklearn.metrics import roc_auc_score\n",
    "    \n",
    "#getting AUC score\n",
    "roc_auc_lr = roc_auc_score(Y_test, lr_pred_class)\n",
    "roc_auc_lr_proba = roc_auc_score(Y_test, lr_pred_proba[:,1])\n",
    "\n",
    "print(\"AUC Score (logistic regression): \", roc_auc_lr)\n",
    "print(\"AUC Score (SVM (proba)): \", roc_auc_lr_proba)"
   ]
  },
  {
   "cell_type": "markdown",
   "metadata": {},
   "source": [
    "# Plot ROC curve and save"
   ]
  },
  {
   "cell_type": "code",
   "execution_count": 15,
   "metadata": {},
   "outputs": [
    {
     "data": {
      "image/png": "[encoded data removed]",
      "text/plain": [
       "<Figure size 432x288 with 1 Axes>"
      ]
     },
     "metadata": {
      "needs_background": "light"
     },
     "output_type": "display_data"
    },
    {
     "name": "stdout",
     "output_type": "stream",
     "text": [
      "Path to plot: C:\\Users\\SWONG\\PRS_project\\Model\\LogReg_Arbitrator_roc.png\n"
     ]
    }
   ],
   "source": [
    "#plotting ROC\n",
    "fpr1, tpr1, thresholds1 = roc_curve(Y_test, lr_pred_class)\n",
    "fpr2, tpr2, thresholds2 = roc_curve(Y_test, lr_pred_proba[:,1])\n",
    "\n",
    "plt.figure()\n",
    "plt.plot([0,1],[0,1],'--', label='Random Classifier')\n",
    "plt.plot(fpr1,tpr1,label='ROC Curve lr(area = %0.3f)' %roc_auc_lr)\n",
    "plt.plot(fpr2,tpr2,label='ROC Curve SVM_proba(area = %0.3f)' %roc_auc_lr_proba)\n",
    "\n",
    "plt.xlabel('False Positive Rate')\n",
    "plt.ylabel('True Positive Rate')\n",
    "plt.title(\"ROC Curves\")\n",
    "plt.legend(loc=\"lower right\")\n",
    "\n",
    "roc_plotpath  = model_path + 'LogReg_Arbitrator' + '_roc.png'\n",
    "plt.savefig(roc_plotpath)\n",
    "plt.show()\n",
    "print(\"Path to plot:\", roc_plotpath)"
   ]
  },
  {
   "cell_type": "markdown",
   "metadata": {},
   "source": [
    "# Save model to disk"
   ]
  },
  {
   "cell_type": "code",
   "execution_count": 10,
   "metadata": {},
   "outputs": [],
   "source": [
    "import pickle\n",
    "\n",
    "# save the model to disk\n",
    "filename = 'LogReg_Arbitrator.sav'\n",
    "pickle.dump(lr_model, open(filename, 'wb'))"
   ]
  },
  {
   "cell_type": "code",
   "execution_count": null,
   "metadata": {},
   "outputs": [],
   "source": []
  }
 ],
 "metadata": {
  "kernelspec": {
   "display_name": "Python 3",
   "language": "python",
   "name": "python3"
  },
  "language_info": {
   "codemirror_mode": {
    "name": "ipython",
    "version": 3
   },
   "file_extension": ".py",
   "mimetype": "text/x-python",
   "name": "python",
   "nbconvert_exporter": "python",
   "pygments_lexer": "ipython3",
   "version": "3.8.5"
  }
 },
 "nbformat": 4,
 "nbformat_minor": 4
}
