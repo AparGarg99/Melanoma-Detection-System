{
 "cells": [
  {
   "cell_type": "code",
   "execution_count": 9,
   "metadata": {},
   "outputs": [],
   "source": [
    "import pandas as pd\n",
    "\n",
    "# read csv file into df\n",
    "images_df = pd.read_csv(\"Ham10000_metadata.csv\")"
   ]
  },
  {
   "cell_type": "code",
   "execution_count": 10,
   "metadata": {},
   "outputs": [
    {
     "data": {
      "text/html": [
       "<div>\n",
       "<style scoped>\n",
       "    .dataframe tbody tr th:only-of-type {\n",
       "        vertical-align: middle;\n",
       "    }\n",
       "\n",
       "    .dataframe tbody tr th {\n",
       "        vertical-align: top;\n",
       "    }\n",
       "\n",
       "    .dataframe thead th {\n",
       "        text-align: right;\n",
       "    }\n",
       "</style>\n",
       "<table border=\"1\" class=\"dataframe\">\n",
       "  <thead>\n",
       "    <tr style=\"text-align: right;\">\n",
       "      <th></th>\n",
       "      <th>lesion_id</th>\n",
       "      <th>image_id</th>\n",
       "      <th>dx</th>\n",
       "      <th>dx_type</th>\n",
       "      <th>age</th>\n",
       "      <th>sex</th>\n",
       "      <th>localization</th>\n",
       "      <th>dataset</th>\n",
       "    </tr>\n",
       "  </thead>\n",
       "  <tbody>\n",
       "    <tr>\n",
       "      <th>0</th>\n",
       "      <td>HAM_0000118</td>\n",
       "      <td>ISIC_0027419</td>\n",
       "      <td>bkl</td>\n",
       "      <td>histo</td>\n",
       "      <td>80.0</td>\n",
       "      <td>male</td>\n",
       "      <td>scalp</td>\n",
       "      <td>vidir_modern</td>\n",
       "    </tr>\n",
       "    <tr>\n",
       "      <th>1</th>\n",
       "      <td>HAM_0000118</td>\n",
       "      <td>ISIC_0025030</td>\n",
       "      <td>bkl</td>\n",
       "      <td>histo</td>\n",
       "      <td>80.0</td>\n",
       "      <td>male</td>\n",
       "      <td>scalp</td>\n",
       "      <td>vidir_modern</td>\n",
       "    </tr>\n",
       "    <tr>\n",
       "      <th>2</th>\n",
       "      <td>HAM_0002730</td>\n",
       "      <td>ISIC_0026769</td>\n",
       "      <td>bkl</td>\n",
       "      <td>histo</td>\n",
       "      <td>80.0</td>\n",
       "      <td>male</td>\n",
       "      <td>scalp</td>\n",
       "      <td>vidir_modern</td>\n",
       "    </tr>\n",
       "    <tr>\n",
       "      <th>3</th>\n",
       "      <td>HAM_0002730</td>\n",
       "      <td>ISIC_0025661</td>\n",
       "      <td>bkl</td>\n",
       "      <td>histo</td>\n",
       "      <td>80.0</td>\n",
       "      <td>male</td>\n",
       "      <td>scalp</td>\n",
       "      <td>vidir_modern</td>\n",
       "    </tr>\n",
       "    <tr>\n",
       "      <th>4</th>\n",
       "      <td>HAM_0001466</td>\n",
       "      <td>ISIC_0031633</td>\n",
       "      <td>bkl</td>\n",
       "      <td>histo</td>\n",
       "      <td>75.0</td>\n",
       "      <td>male</td>\n",
       "      <td>ear</td>\n",
       "      <td>vidir_modern</td>\n",
       "    </tr>\n",
       "  </tbody>\n",
       "</table>\n",
       "</div>"
      ],
      "text/plain": [
       "     lesion_id      image_id   dx dx_type   age   sex localization  \\\n",
       "0  HAM_0000118  ISIC_0027419  bkl   histo  80.0  male        scalp   \n",
       "1  HAM_0000118  ISIC_0025030  bkl   histo  80.0  male        scalp   \n",
       "2  HAM_0002730  ISIC_0026769  bkl   histo  80.0  male        scalp   \n",
       "3  HAM_0002730  ISIC_0025661  bkl   histo  80.0  male        scalp   \n",
       "4  HAM_0001466  ISIC_0031633  bkl   histo  75.0  male          ear   \n",
       "\n",
       "        dataset  \n",
       "0  vidir_modern  \n",
       "1  vidir_modern  \n",
       "2  vidir_modern  \n",
       "3  vidir_modern  \n",
       "4  vidir_modern  "
      ]
     },
     "execution_count": 10,
     "metadata": {},
     "output_type": "execute_result"
    }
   ],
   "source": [
    "images_df.head()"
   ]
  },
  {
   "cell_type": "code",
   "execution_count": 21,
   "metadata": {},
   "outputs": [
    {
     "data": {
      "text/plain": [
       "(10015, 8)"
      ]
     },
     "execution_count": 21,
     "metadata": {},
     "output_type": "execute_result"
    }
   ],
   "source": [
    "images_df.shape"
   ]
  },
  {
   "cell_type": "code",
   "execution_count": 25,
   "metadata": {},
   "outputs": [],
   "source": [
    "#looping through dx column to change the bkl, akiec, bcc, df, nv, vasc into nonMel\n",
    "for i in range(images_df.shape[0]):\n",
    "    if images_df.iloc[i,2] != 'mel':\n",
    "        images_df.iloc[i,2] = 'nonMel'\n",
    "        "
   ]
  },
  {
   "cell_type": "code",
   "execution_count": 30,
   "metadata": {},
   "outputs": [
    {
     "data": {
      "text/html": [
       "<div>\n",
       "<style scoped>\n",
       "    .dataframe tbody tr th:only-of-type {\n",
       "        vertical-align: middle;\n",
       "    }\n",
       "\n",
       "    .dataframe tbody tr th {\n",
       "        vertical-align: top;\n",
       "    }\n",
       "\n",
       "    .dataframe thead th {\n",
       "        text-align: right;\n",
       "    }\n",
       "</style>\n",
       "<table border=\"1\" class=\"dataframe\">\n",
       "  <thead>\n",
       "    <tr style=\"text-align: right;\">\n",
       "      <th></th>\n",
       "      <th>lesion_id</th>\n",
       "      <th>image_id</th>\n",
       "      <th>dx</th>\n",
       "      <th>dx_type</th>\n",
       "      <th>age</th>\n",
       "      <th>sex</th>\n",
       "      <th>localization</th>\n",
       "      <th>dataset</th>\n",
       "    </tr>\n",
       "  </thead>\n",
       "  <tbody>\n",
       "    <tr>\n",
       "      <th>0</th>\n",
       "      <td>HAM_0000118</td>\n",
       "      <td>ISIC_0027419</td>\n",
       "      <td>nonMel</td>\n",
       "      <td>histo</td>\n",
       "      <td>80.0</td>\n",
       "      <td>male</td>\n",
       "      <td>scalp</td>\n",
       "      <td>vidir_modern</td>\n",
       "    </tr>\n",
       "    <tr>\n",
       "      <th>1</th>\n",
       "      <td>HAM_0000118</td>\n",
       "      <td>ISIC_0025030</td>\n",
       "      <td>nonMel</td>\n",
       "      <td>histo</td>\n",
       "      <td>80.0</td>\n",
       "      <td>male</td>\n",
       "      <td>scalp</td>\n",
       "      <td>vidir_modern</td>\n",
       "    </tr>\n",
       "    <tr>\n",
       "      <th>2</th>\n",
       "      <td>HAM_0002730</td>\n",
       "      <td>ISIC_0026769</td>\n",
       "      <td>nonMel</td>\n",
       "      <td>histo</td>\n",
       "      <td>80.0</td>\n",
       "      <td>male</td>\n",
       "      <td>scalp</td>\n",
       "      <td>vidir_modern</td>\n",
       "    </tr>\n",
       "    <tr>\n",
       "      <th>3</th>\n",
       "      <td>HAM_0002730</td>\n",
       "      <td>ISIC_0025661</td>\n",
       "      <td>nonMel</td>\n",
       "      <td>histo</td>\n",
       "      <td>80.0</td>\n",
       "      <td>male</td>\n",
       "      <td>scalp</td>\n",
       "      <td>vidir_modern</td>\n",
       "    </tr>\n",
       "    <tr>\n",
       "      <th>4</th>\n",
       "      <td>HAM_0001466</td>\n",
       "      <td>ISIC_0031633</td>\n",
       "      <td>nonMel</td>\n",
       "      <td>histo</td>\n",
       "      <td>75.0</td>\n",
       "      <td>male</td>\n",
       "      <td>ear</td>\n",
       "      <td>vidir_modern</td>\n",
       "    </tr>\n",
       "    <tr>\n",
       "      <th>...</th>\n",
       "      <td>...</td>\n",
       "      <td>...</td>\n",
       "      <td>...</td>\n",
       "      <td>...</td>\n",
       "      <td>...</td>\n",
       "      <td>...</td>\n",
       "      <td>...</td>\n",
       "      <td>...</td>\n",
       "    </tr>\n",
       "    <tr>\n",
       "      <th>10010</th>\n",
       "      <td>HAM_0002867</td>\n",
       "      <td>ISIC_0033084</td>\n",
       "      <td>nonMel</td>\n",
       "      <td>histo</td>\n",
       "      <td>40.0</td>\n",
       "      <td>male</td>\n",
       "      <td>abdomen</td>\n",
       "      <td>vidir_modern</td>\n",
       "    </tr>\n",
       "    <tr>\n",
       "      <th>10011</th>\n",
       "      <td>HAM_0002867</td>\n",
       "      <td>ISIC_0033550</td>\n",
       "      <td>nonMel</td>\n",
       "      <td>histo</td>\n",
       "      <td>40.0</td>\n",
       "      <td>male</td>\n",
       "      <td>abdomen</td>\n",
       "      <td>vidir_modern</td>\n",
       "    </tr>\n",
       "    <tr>\n",
       "      <th>10012</th>\n",
       "      <td>HAM_0002867</td>\n",
       "      <td>ISIC_0033536</td>\n",
       "      <td>nonMel</td>\n",
       "      <td>histo</td>\n",
       "      <td>40.0</td>\n",
       "      <td>male</td>\n",
       "      <td>abdomen</td>\n",
       "      <td>vidir_modern</td>\n",
       "    </tr>\n",
       "    <tr>\n",
       "      <th>10013</th>\n",
       "      <td>HAM_0000239</td>\n",
       "      <td>ISIC_0032854</td>\n",
       "      <td>nonMel</td>\n",
       "      <td>histo</td>\n",
       "      <td>80.0</td>\n",
       "      <td>male</td>\n",
       "      <td>face</td>\n",
       "      <td>vidir_modern</td>\n",
       "    </tr>\n",
       "    <tr>\n",
       "      <th>10014</th>\n",
       "      <td>HAM_0003521</td>\n",
       "      <td>ISIC_0032258</td>\n",
       "      <td>mel</td>\n",
       "      <td>histo</td>\n",
       "      <td>70.0</td>\n",
       "      <td>female</td>\n",
       "      <td>back</td>\n",
       "      <td>vidir_modern</td>\n",
       "    </tr>\n",
       "  </tbody>\n",
       "</table>\n",
       "<p>10015 rows × 8 columns</p>\n",
       "</div>"
      ],
      "text/plain": [
       "         lesion_id      image_id      dx dx_type   age     sex localization  \\\n",
       "0      HAM_0000118  ISIC_0027419  nonMel   histo  80.0    male        scalp   \n",
       "1      HAM_0000118  ISIC_0025030  nonMel   histo  80.0    male        scalp   \n",
       "2      HAM_0002730  ISIC_0026769  nonMel   histo  80.0    male        scalp   \n",
       "3      HAM_0002730  ISIC_0025661  nonMel   histo  80.0    male        scalp   \n",
       "4      HAM_0001466  ISIC_0031633  nonMel   histo  75.0    male          ear   \n",
       "...            ...           ...     ...     ...   ...     ...          ...   \n",
       "10010  HAM_0002867  ISIC_0033084  nonMel   histo  40.0    male      abdomen   \n",
       "10011  HAM_0002867  ISIC_0033550  nonMel   histo  40.0    male      abdomen   \n",
       "10012  HAM_0002867  ISIC_0033536  nonMel   histo  40.0    male      abdomen   \n",
       "10013  HAM_0000239  ISIC_0032854  nonMel   histo  80.0    male         face   \n",
       "10014  HAM_0003521  ISIC_0032258     mel   histo  70.0  female         back   \n",
       "\n",
       "            dataset  \n",
       "0      vidir_modern  \n",
       "1      vidir_modern  \n",
       "2      vidir_modern  \n",
       "3      vidir_modern  \n",
       "4      vidir_modern  \n",
       "...             ...  \n",
       "10010  vidir_modern  \n",
       "10011  vidir_modern  \n",
       "10012  vidir_modern  \n",
       "10013  vidir_modern  \n",
       "10014  vidir_modern  \n",
       "\n",
       "[10015 rows x 8 columns]"
      ]
     },
     "execution_count": 30,
     "metadata": {},
     "output_type": "execute_result"
    }
   ],
   "source": [
    "images_df"
   ]
  },
  {
   "cell_type": "code",
   "execution_count": 34,
   "metadata": {},
   "outputs": [],
   "source": [
    "from sklearn.model_selection import train_test_split\n",
    "\n",
    "train_val, test = train_test_split(images_df, test_size=0.1, random_state=42, stratify=images_df['dx'])"
   ]
  },
  {
   "cell_type": "code",
   "execution_count": 35,
   "metadata": {},
   "outputs": [
    {
     "data": {
      "text/plain": [
       "(9013, 8)"
      ]
     },
     "execution_count": 35,
     "metadata": {},
     "output_type": "execute_result"
    }
   ],
   "source": [
    "train_val.shape"
   ]
  },
  {
   "cell_type": "code",
   "execution_count": 36,
   "metadata": {},
   "outputs": [
    {
     "data": {
      "text/plain": [
       "(1002, 8)"
      ]
     },
     "execution_count": 36,
     "metadata": {},
     "output_type": "execute_result"
    }
   ],
   "source": [
    "test.shape"
   ]
  },
  {
   "cell_type": "code",
   "execution_count": 38,
   "metadata": {},
   "outputs": [],
   "source": [
    "train, val = train_test_split(train_val, test_size=0.1, random_state=42, stratify=train_val['dx'])"
   ]
  },
  {
   "cell_type": "code",
   "execution_count": 39,
   "metadata": {},
   "outputs": [
    {
     "data": {
      "text/plain": [
       "(8111, 8)"
      ]
     },
     "execution_count": 39,
     "metadata": {},
     "output_type": "execute_result"
    }
   ],
   "source": [
    "train.shape"
   ]
  },
  {
   "cell_type": "code",
   "execution_count": 40,
   "metadata": {},
   "outputs": [
    {
     "data": {
      "text/plain": [
       "(902, 8)"
      ]
     },
     "execution_count": 40,
     "metadata": {},
     "output_type": "execute_result"
    }
   ],
   "source": [
    "val.shape"
   ]
  },
  {
   "cell_type": "code",
   "execution_count": 41,
   "metadata": {},
   "outputs": [],
   "source": [
    "train.to_csv('train_labels.csv', index=False)"
   ]
  },
  {
   "cell_type": "code",
   "execution_count": 42,
   "metadata": {},
   "outputs": [],
   "source": [
    "test.to_csv('test_labels.csv', index=False)"
   ]
  },
  {
   "cell_type": "code",
   "execution_count": 43,
   "metadata": {},
   "outputs": [],
   "source": [
    "val.to_csv('val_labels.csv', index=False)"
   ]
  },
  {
   "cell_type": "code",
   "execution_count": 89,
   "metadata": {},
   "outputs": [],
   "source": [
    "#Do the Image splitting\n",
    "\n",
    "#read the image labels from csv files\n",
    "train_labels_full = pd.read_csv(\"train_labels.csv\")\n",
    "val_labels_full = pd.read_csv(\"val_labels.csv\")\n",
    "test_labels_full = pd.read_csv(\"test_labels.csv\")\n",
    "\n",
    "train_labels = train_labels_full[['image_id','dx']]\n",
    "val_labels = val_labels_full[['image_id','dx']]\n",
    "test_labels = test_labels_full[['image_id','dx']]\n",
    "\n",
    "\n",
    "#setting all the image output paths\n",
    "train_mel_images_path = \"C:\\\\Users\\\\SWONG\\\\PRS_project\\\\Data_Set\\\\train\\\\melanoma\\\\images\\\\\"\n",
    "train_nonmel_images_path = \"C:\\\\Users\\\\SWONG\\\\PRS_project\\\\Data_Set\\\\train\\\\non_melanoma\\\\images\\\\\"\n",
    "val_mel_images_path = \"C:\\\\Users\\\\SWONG\\\\PRS_project\\\\Data_Set\\\\val\\\\melanoma\\\\images\\\\\"\n",
    "val_nonmel_images_path = \"C:\\\\Users\\\\SWONG\\\\PRS_project\\\\Data_Set\\\\val\\\\non_melanoma\\\\images\\\\\"\n",
    "test_mel_images_path = \"C:\\\\Users\\\\SWONG\\\\PRS_project\\\\Data_Set\\\\test\\\\melanoma\\\\images\\\\\"\n",
    "test_nonmel_images_path =\"C:\\\\Users\\\\SWONG\\\\PRS_project\\\\Data_Set\\\\test\\\\non_melanoma\\\\images\\\\\"\n",
    "\n",
    "#setting all the segmentation output paths\n",
    "train_mel_segmentations_path = \"C:\\\\Users\\\\SWONG\\\\PRS_project\\\\Data_Set\\\\train\\\\melanoma\\\\segmentation\\\\\"\n",
    "train_nonmel_segmentations_path = \"C:\\\\Users\\\\SWONG\\\\PRS_project\\\\Data_Set\\\\train\\\\non_melanoma\\\\segmentation\\\\\"\n",
    "val_mel_segmentations_path = \"C:\\\\Users\\\\SWONG\\\\PRS_project\\\\Data_Set\\\\val\\\\melanoma\\\\segmentation\\\\\"\n",
    "val_nonmel_segmentations_path = \"C:\\\\Users\\\\SWONG\\\\PRS_project\\\\Data_Set\\\\val\\\\non_melanoma\\\\segmentation\\\\\"\n",
    "test_mel_segmentations_path = \"C:\\\\Users\\\\SWONG\\\\PRS_project\\\\Data_Set\\\\test\\\\melanoma\\\\segmentation\\\\\"\n",
    "test_nonmel_segmentations_path = \"C:\\\\Users\\\\SWONG\\\\PRS_project\\\\Data_Set\\\\test\\\\non_melanoma\\\\segmentation\\\\\"\n",
    "\n",
    "#setting the image input paths\n",
    "input_images_path = \"C:\\\\Users\\\\SWONG\\\\PRS_project\\\\HAM10000_images_combined\\\\\"\n",
    "input_segmentations_path = \"C:\\\\Users\\\\SWONG\\\\PRS_project\\\\HAM10000_segmentations_lesion_tschandl\\\\HAM10000_segmentations_lesion_tschandl\\\\\""
   ]
  },
  {
   "cell_type": "code",
   "execution_count": 77,
   "metadata": {},
   "outputs": [],
   "source": [
    "#copy train images to its melanoma and non_melanoma image folders\n",
    "import shutil, os\n",
    "\n",
    "for index, row in train_labels.iterrows():\n",
    "    image_id = row['image_id']\n",
    "    label = row['dx']\n",
    "    origin_image_path = input_images_path + image_id + '.jpg'\n",
    "    try:\n",
    "        if label == 'mel':\n",
    "            shutil.copy(origin_image_path, train_mel_images_path)\n",
    "        else:\n",
    "            shutil.copy(origin_image_path, train_nonmel_images_path)\n",
    "    except:\n",
    "        print(f'{image_id} in training labels not copied')"
   ]
  },
  {
   "cell_type": "code",
   "execution_count": 85,
   "metadata": {},
   "outputs": [],
   "source": [
    "#copy val images to its melanoma and non_melanoma image folders\n",
    "import shutil, os\n",
    "\n",
    "for index, row in val_labels.iterrows():\n",
    "    image_id = row['image_id']\n",
    "    label = row['dx']\n",
    "    origin_image_path = input_images_path + image_id + '.jpg'\n",
    "    try:\n",
    "        if label == 'mel':\n",
    "            shutil.copy(origin_image_path, val_mel_images_path)\n",
    "        else:\n",
    "            shutil.copy(origin_image_path, val_nonmel_images_path)\n",
    "    except:\n",
    "        print(f'{image_id} in validation labels not copied')"
   ]
  },
  {
   "cell_type": "code",
   "execution_count": 86,
   "metadata": {},
   "outputs": [],
   "source": [
    "#copy test images to its melanoma and non_melanoma image folders\n",
    "import shutil, os\n",
    "\n",
    "for index, row in test_labels.iterrows():\n",
    "    image_id = row['image_id']\n",
    "    label = row['dx']\n",
    "    origin_image_path = input_images_path + image_id + '.jpg'\n",
    "    try:\n",
    "        if label == 'mel':\n",
    "            shutil.copy(origin_image_path, test_mel_images_path)\n",
    "        else:\n",
    "            shutil.copy(origin_image_path, test_nonmel_images_path)\n",
    "    except:\n",
    "        print(f'{image_id} in test labels not copied')"
   ]
  },
  {
   "cell_type": "code",
   "execution_count": 90,
   "metadata": {},
   "outputs": [],
   "source": [
    "#copy train segmentations to its melanoma and non_melanoma segmentation folders\n",
    "import shutil, os\n",
    "\n",
    "for index, row in train_labels.iterrows():\n",
    "    lesion_id = row['image_id'] + '_segmentation'\n",
    "    label = row['dx']\n",
    "    origin_segmentation_path = input_segmentations_path + lesion_id + '.png'\n",
    "    try:\n",
    "        if label == 'mel':\n",
    "            shutil.copy(origin_segmentation_path, train_mel_segmentations_path)\n",
    "        else:\n",
    "            shutil.copy(origin_segmentation_path, train_nonmel_segmentations_path)\n",
    "    except:\n",
    "        print(f'{lesion_id} in training labels not copied')"
   ]
  },
  {
   "cell_type": "code",
   "execution_count": 91,
   "metadata": {},
   "outputs": [],
   "source": [
    "#copy val segmentations to its melanoma and non_melanoma segmentation folders\n",
    "import shutil, os\n",
    "\n",
    "for index, row in val_labels.iterrows():\n",
    "    lesion_id = row['image_id'] + '_segmentation'\n",
    "    label = row['dx']\n",
    "    origin_segmentation_path = input_segmentations_path + lesion_id + '.png'\n",
    "    try:\n",
    "        if label == 'mel':\n",
    "            shutil.copy(origin_segmentation_path, val_mel_segmentations_path)\n",
    "        else:\n",
    "            shutil.copy(origin_segmentation_path, val_nonmel_segmentations_path)\n",
    "    except:\n",
    "        print(f'{lesion_id} in validation labels not copied')"
   ]
  },
  {
   "cell_type": "code",
   "execution_count": 92,
   "metadata": {},
   "outputs": [],
   "source": [
    "#copy test segmentations to its melanoma and non_melanoma segmentation folders\n",
    "import shutil, os\n",
    "\n",
    "for index, row in test_labels.iterrows():\n",
    "    lesion_id = row['image_id'] + '_segmentation'\n",
    "    label = row['dx']\n",
    "    origin_segmentation_path = input_segmentations_path + lesion_id + '.png'\n",
    "    try:\n",
    "        if label == 'mel':\n",
    "            shutil.copy(origin_segmentation_path, test_mel_segmentations_path)\n",
    "        else:\n",
    "            shutil.copy(origin_segmentation_path, test_nonmel_segmentations_path)\n",
    "    except:\n",
    "        print(f'{lesion_id} in test labels not copied')"
   ]
  },
  {
   "cell_type": "code",
   "execution_count": null,
   "metadata": {},
   "outputs": [],
   "source": []
  }
 ],
 "metadata": {
  "kernelspec": {
   "display_name": "Python 3",
   "language": "python",
   "name": "python3"
  },
  "language_info": {
   "codemirror_mode": {
    "name": "ipython",
    "version": 3
   },
   "file_extension": ".py",
   "mimetype": "text/x-python",
   "name": "python",
   "nbconvert_exporter": "python",
   "pygments_lexer": "ipython3",
   "version": "3.6.13"
  }
 },
 "nbformat": 4,
 "nbformat_minor": 4
}
