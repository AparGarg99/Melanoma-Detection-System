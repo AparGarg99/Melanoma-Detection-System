{
 "cells": [
  {
   "cell_type": "code",
   "execution_count": 56,
   "id": "15ada97c",
   "metadata": {},
   "outputs": [],
   "source": [
    "import numpy as np\n",
    "import os \n",
    "import cv2\n",
    "from glob import glob\n",
    "import pandas as pd\n",
    "import json\n",
    "from shutil import copyfile\n",
    "from sklearn.model_selection import train_test_split\n",
    "import matplotlib as mpl\n",
    "import matplotlib.pyplot as plt\n",
    "%matplotlib inline"
   ]
  },
  {
   "cell_type": "markdown",
   "id": "6d5ce2b6",
   "metadata": {},
   "source": [
    "# Prepare Train Test Val Split\n"
   ]
  },
  {
   "cell_type": "code",
   "execution_count": 52,
   "id": "477ca16c",
   "metadata": {},
   "outputs": [
    {
     "name": "stdout",
     "output_type": "stream",
     "text": [
      "Absent =  816\n",
      "Present =  195\n",
      "Absent =  660\n",
      "Present =  157\n"
     ]
    }
   ],
   "source": [
    "#Read blue_whitish_veil data and split it into train test and validation\n",
    "\n",
    "oMetaCsvPath = \"D:\\\\PRS_project\\\\7-pt_Data\\\\release_v0\\\\meta\\\\meta.csv\"\n",
    "oMetaData = pd.read_csv(oMetaCsvPath)\n",
    "\n",
    "oBluePresentPath = []\n",
    "oBlueAbsentPath = []\n",
    "\n",
    "oBlueWhitishInfo = oMetaData['blue_whitish_veil']\n",
    "oImagePath = oMetaData['derm']\n",
    "\n",
    "for i in range(0, len(oBlueWhitishInfo)):\n",
    "    if oBlueWhitishInfo[i] == \"present\":\n",
    "        oBluePresentPath.append(oImagePath[i])\n",
    "    else:\n",
    "        oBlueAbsentPath.append(oImagePath[i])\n",
    "\n",
    "print(len(oBluePresentPath))\n",
    "print(len(oBlueAbsentPath))\n",
    "\n",
    "#split into train test and validation\n",
    "oPresentTrain = []\n",
    "oPresentTest = []\n",
    "oPresentVal =[]\n",
    "oAbsentTrain = []\n",
    "oAbsentVal = []\n",
    "oAbsentTest = []\n",
    "#Split Present Class \n",
    "oPresentTrain,oPresentTest = train_test_split(oBluePresentPath, test_size=0.1, random_state=42)\n",
    "oPresentTrain,oPresentVal = train_test_split(oPresentTrain, test_size=0.1, random_state=42)\n",
    "#Split Absent Class\n",
    "oAbsentTrain,oAbsentTest = train_test_split(oBlueAbsentPath, test_size=0.1, random_state=42)\n",
    "oAbsentTrain,oAbsentVal = train_test_split(oAbsentTrain, test_size=0.1, random_state=42)\n",
    "print(\"Train absent = \",len(oAbsentTrain))\n",
    "print(\"Train Present = \",len(oPresentTrain))\n",
    "\n",
    "\n",
    "#write the split information to a csv\n",
    "\n",
    "#Blue whitish present\n",
    "# dictionary of lists  \n",
    "dfPresentTrain = pd.DataFrame({'Train': oPresentTrain})\n",
    "dfPresentVal = pd.DataFrame({'Val': oPresentVal})\n",
    "dfPresentTest = pd.DataFrame({'Test': oPresentTest})\n",
    "# saving the dataframe\n",
    "pd.concat([dfPresentTrain,dfPresentVal,dfPresentTest],axis=1).to_csv('BlueWhitishPresent.csv', index = False)\n",
    "\n",
    "#Blue whitish Absent\n",
    "# dictionary of lists  \n",
    "dfAbsentTrain = pd.DataFrame({'Train': oAbsentTrain})\n",
    "dfAbsentVal = pd.DataFrame({'Val': oAbsentVal})\n",
    "dfAbsentTest = pd.DataFrame({'Test': oAbsentTest})\n",
    "# saving the dataframe\n",
    "pd.concat([dfAbsentTrain,dfAbsentVal,dfAbsentTest],axis=1).to_csv('BlueWhitishAbsent.csv', index = False)"
   ]
  },
  {
   "cell_type": "markdown",
   "id": "9db41fed",
   "metadata": {},
   "source": [
    "# Prepare Training Data"
   ]
  },
  {
   "cell_type": "code",
   "execution_count": null,
   "id": "6ad31ceb",
   "metadata": {},
   "outputs": [],
   "source": [
    "\n",
    "\n"
   ]
  },
  {
   "cell_type": "markdown",
   "id": "1054b4ad",
   "metadata": {},
   "source": []
  },
  {
   "cell_type": "code",
   "execution_count": null,
   "id": "a1fc29c0",
   "metadata": {},
   "outputs": [],
   "source": []
  },
  {
   "cell_type": "code",
   "execution_count": null,
   "id": "e6795019",
   "metadata": {},
   "outputs": [],
   "source": [
    "oOutputPath = \"D:\\\\PRS_project\\\\Data_Set_7-pt\"\n",
    "oInputImagePath = \"D:\\\\PRS_project\\\\7-pt_Data\\\\release_v0\\\\images\"\n",
    "oMetaCsvPath1 = \"D:\\\\PRS_project\\\\Data_Set_7-pt\\\\BlueWhitishPresent.csv\"\n",
    "oBlueWhitishPresent = pd.read_csv(oMetaCsvPath1)\n",
    "\n",
    "oMetaCsvPath2 = \"D:\\\\PRS_project\\\\Data_Set_7-pt\\\\BlueWhitishAbsent.csv\"\n",
    "oBlueWhitishAbsent = pd.read_csv(oMetaCsvPath2)\n",
    "\n",
    "oTrainPresent = oBlueWhitishPresent[\"Val\"]\n",
    "oTrainAbsent = oBlueWhitishAbsent[\"Val\"]\n",
    "\n",
    "oFlag = \"val\"\n",
    "prepare_data(oTrainPresent,oTrainAbsent,oInputImagePath,oOutputPath,oFlag)"
   ]
  },
  {
   "cell_type": "markdown",
   "id": "1728d6f2",
   "metadata": {},
   "source": []
  },
  {
   "cell_type": "code",
   "execution_count": 31,
   "id": "be923752",
   "metadata": {},
   "outputs": [],
   "source": []
  },
  {
   "cell_type": "markdown",
   "id": "c7c7ce85",
   "metadata": {},
   "source": []
  },
  {
   "cell_type": "code",
   "execution_count": 32,
   "id": "f3e2ad8e",
   "metadata": {},
   "outputs": [],
   "source": []
  },
  {
   "cell_type": "code",
   "execution_count": null,
   "id": "75d9bb77",
   "metadata": {},
   "outputs": [],
   "source": []
  }
 ],
 "metadata": {
  "kernelspec": {
   "display_name": "Python 3",
   "language": "python",
   "name": "python3"
  },
  "language_info": {
   "codemirror_mode": {
    "name": "ipython",
    "version": 3
   },
   "file_extension": ".py",
   "mimetype": "text/x-python",
   "name": "python",
   "nbconvert_exporter": "python",
   "pygments_lexer": "ipython3",
   "version": "3.8.8"
  }
 },
 "nbformat": 4,
 "nbformat_minor": 5
}
