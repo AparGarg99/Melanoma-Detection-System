{
 "cells": [
  {
   "cell_type": "code",
   "execution_count": 2,
   "id": "50b7a5c5",
   "metadata": {},
   "outputs": [],
   "source": [
    "import cv2\n",
    "import os\n",
    "import numpy as np\n",
    "from PIL import Image\n",
    "from skimage.measure import label, regionprops_table\n",
    "from glob import glob"
   ]
  },
  {
   "cell_type": "code",
   "execution_count": 22,
   "id": "c47fe6e3",
   "metadata": {},
   "outputs": [],
   "source": [
    "#path for  data \n",
    "segmentations_path = \"D:\\\\PRS_project\\\\Data_Set_HAM\\\\test\\\\melanoma\\\\segmentation\"\n",
    "img_output_path = \"D:\\PRS_project\\Data_Set_HAM\\segmentation_data_final\\\\test\"\n",
    "img_input_path = \"D:\\\\PRS_project\\\\Data_Set_HAM\\\\test\\\\melanoma\\\\images\\\\\""
   ]
  },
  {
   "cell_type": "code",
   "execution_count": 23,
   "id": "9b03a415",
   "metadata": {},
   "outputs": [
    {
     "name": "stdout",
     "output_type": "stream",
     "text": [
      "111\n"
     ]
    }
   ],
   "source": [
    "#Read images and segmentation one by one and resize it to 192 x 256\n",
    "oImgPath = glob(img_input_path + \"*.jpg\")\n",
    "print(len(oImgPath))\n",
    "for path in oImgPath:\n",
    "    oName = path.split(\"\\\\\")[-1]\n",
    "    oName = oName.split(\".\")[0]\n",
    "    #read image\n",
    "    image = cv2.imread(path)\n",
    "    imageResize = cv2.resize(image,(256,192))\n",
    "    #read binary map\n",
    "    segPath = os.path.join(segmentations_path,oName + \"_segmentation.png\")\n",
    "    omask = cv2.imread(segPath)\n",
    "    omaskResized = cv2.resize(omask,(256,192))\n",
    "    #save the image\n",
    "    outputImagePath = os.path.join(img_output_path,'image',oName + '.jpg')\n",
    "    cv2.imwrite(outputImagePath,imageResize)\n",
    "    #save the binary mask\n",
    "    outputMaskPath = os.path.join(img_output_path,'segmentation',oName + '.png')\n",
    "    cv2.imwrite(outputMaskPath,omaskResized)\n",
    "    "
   ]
  },
  {
   "cell_type": "code",
   "execution_count": null,
   "id": "0cf82b99",
   "metadata": {},
   "outputs": [],
   "source": []
  },
  {
   "cell_type": "code",
   "execution_count": null,
   "id": "65aa0308",
   "metadata": {},
   "outputs": [],
   "source": []
  },
  {
   "cell_type": "code",
   "execution_count": null,
   "id": "d7b29e7f",
   "metadata": {},
   "outputs": [],
   "source": []
  },
  {
   "cell_type": "code",
   "execution_count": null,
   "id": "8e8f919a",
   "metadata": {},
   "outputs": [],
   "source": []
  },
  {
   "cell_type": "code",
   "execution_count": null,
   "id": "5f2c3da1",
   "metadata": {},
   "outputs": [],
   "source": []
  },
  {
   "cell_type": "code",
   "execution_count": null,
   "id": "6d5757f4",
   "metadata": {},
   "outputs": [],
   "source": []
  },
  {
   "cell_type": "code",
   "execution_count": null,
   "id": "46550608",
   "metadata": {},
   "outputs": [],
   "source": []
  },
  {
   "cell_type": "code",
   "execution_count": null,
   "id": "e6f7c0dc",
   "metadata": {},
   "outputs": [],
   "source": []
  },
  {
   "cell_type": "code",
   "execution_count": null,
   "id": "3e9afed2",
   "metadata": {},
   "outputs": [],
   "source": []
  },
  {
   "cell_type": "code",
   "execution_count": null,
   "id": "1170726e",
   "metadata": {},
   "outputs": [],
   "source": []
  },
  {
   "cell_type": "code",
   "execution_count": null,
   "id": "f26f6b38",
   "metadata": {},
   "outputs": [],
   "source": []
  }
 ],
 "metadata": {
  "kernelspec": {
   "display_name": "Python 3",
   "language": "python",
   "name": "python3"
  },
  "language_info": {
   "codemirror_mode": {
    "name": "ipython",
    "version": 3
   },
   "file_extension": ".py",
   "mimetype": "text/x-python",
   "name": "python",
   "nbconvert_exporter": "python",
   "pygments_lexer": "ipython3",
   "version": "3.8.8"
  }
 },
 "nbformat": 4,
 "nbformat_minor": 5
}
